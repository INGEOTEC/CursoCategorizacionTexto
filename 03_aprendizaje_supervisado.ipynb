{
 "cells": [
  {
   "cell_type": "markdown",
   "metadata": {
    "ein.tags": [
     "worksheet-0"
    ],
    "slideshow": {
     "slide_type": "slide"
    }
   },
   "source": [
    "# Aprendizaje computacional en grandes volúmenes de texto  \n",
    "\n",
    "## Mario Graff (mgraffg@ieee.org, mario.graff@infotec.mx)  \n",
    "## Sabino Miranda (sabino.miranda@infotec.mx)  \n",
    "## Daniela Moctezuma (dmoctezuma@centrogeo.edu.mx)  \n",
    "## Eric S. Tellez (eric.tellez@infotec.mx)  \n",
    "## CONACYT, INFOTEC y CentroGEO\n",
    "## [https://github.com/ingeotec](https://github.com/ingeotec)"
   ]
  },
  {
   "cell_type": "markdown",
   "metadata": {
    "ein.tags": [
     "worksheet-0"
    ],
    "slideshow": {
     "slide_type": "slide"
    }
   },
   "source": [
    "* Aprendizaje supervisado  \n",
    "  * Modelo general de aprendizaje; Entrenamiento, test, score (accuracy, recall, precision, f1)  \n",
    "  * Máquinas de soporte vectorial (SVM)  \n",
    "  * Programación genética (EvoDAG)  \n",
    "  * Distant supervision  "
   ]
  },
  {
   "cell_type": "markdown",
   "metadata": {
    "ein.tags": [
     "worksheet-0"
    ],
    "slideshow": {
     "slide_type": "subslide"
    }
   },
   "source": [
    "* $\\mu$TC  \n",
    "  * Pipeline de transformaciones  \n",
    "  * Optimización de parámetros  \n",
    "  * Clasificadores  \n",
    "  * Uso del $\\mu$TC  \n",
    "* Aplicaciones  \n",
    "  * Análisis de sentimientos  \n",
    "  * Determinación de autoría  \n",
    "  * Clasificación de noticias  \n",
    "  * Spam  \n",
    "  * Género y edad  \n",
    "* Conclusiones  \n"
   ]
  },
  {
   "cell_type": "code",
   "execution_count": null,
   "metadata": {
    "autoscroll": "json-false",
    "collapsed": false,
    "ein.tags": [
     "worksheet-0"
    ],
    "slideshow": {
     "slide_type": "slide"
    }
   },
   "outputs": [],
   "source": [
    "from IPython.core.display import Markdown\n",
    "docs = [\"buen dia microtc\", \"excelente dia\", \"odio el trafico\",\n",
    "\t\"la computadora\", \"la mesa\", \"la ventana\"]\n",
    "l = [\"* \" + x for x in docs]\n",
    "Markdown(\"# Corpus\\n\" + \"\\n\".join(l))"
   ]
  },
  {
   "cell_type": "markdown",
   "metadata": {
    "ein.tags": [
     "worksheet-0"
    ],
    "slideshow": {
     "slide_type": "subslide"
    }
   },
   "source": [
    "# TFIDF\n",
    "** buen dia microtc **, **excelente dia**, **odio el trafico**"
   ]
  },
  {
   "cell_type": "code",
   "execution_count": null,
   "metadata": {
    "autoscroll": "json-false",
    "collapsed": false,
    "ein.tags": [
     "worksheet-0"
    ],
    "slideshow": {
     "slide_type": "fragment"
    }
   },
   "outputs": [],
   "source": [
    "from microtc.textmodel import TextModel\n",
    "import numpy as np\n",
    "import pandas as pd\n",
    "M = np.zeros((11, len(docs)))\n",
    "model = TextModel(docs, token_list=[-1])\n",
    "words = {}\n",
    "for x in docs:\n",
    "    for i in x.split(): words[model.dictionary.doc2bow([i])[0][0]] = i\n",
    "[[M.__setitem__((x[0], k), \"%0.4f\" % x[1]) for x in model[d]] for k, d in enumerate(docs)]\n",
    "M = np.concatenate((np.atleast_2d([words[x] for x in range(11)]).T, M), axis=1)\n",
    "pd.DataFrame(M, columns=['Palabras'] + [\"Doc. %s\" % (x + 1) for x in range(len(docs))])"
   ]
  },
  {
   "cell_type": "markdown",
   "metadata": {
    "ein.tags": [
     "worksheet-0"
    ],
    "slideshow": {
     "slide_type": "subslide"
    }
   },
   "source": [
    "# microtc-textModel\n",
    "\n",
    "```bash\n",
    "microtc-textModel -m supervised/microtc.model -o supervised/train.textmodel datasets/train.json.gz \n",
    "```\n",
    "\n",
    "```json\n",
    "\n",
    "{\"11268\": 0.08856512767171724, \"text\": \"dear @Microsoft the newOoffice for Mac is great and all, but no Lync update? C'mon.\", \"7686\": 0.055381812446489244, \"157703\": 0.08856512767171724, \"330924\": 0.08856512767171724, \"432651\": 0.08856512767171724, \"226829\": 0.08856512767171724, \"435728\": 0.08856512767171724, \"154130\": 0.08856512767171724, \"341529\": 0.08856512767171724, \"80923\": 0.07490376701241866, \"23586\": 0.08856512767171724, \"70693\": 0.08856512767171724, \"376359\": 0.08856512767171724, \"415788\": 0.08856512767171724, \"415792\": 0.08856512767171724, \"198711\": 0.08856512767171724, \"27316\": 0.07490376701241866, \"411487\": 0.08856512767171724, \"39488\": 0.05325102265860315, \"84036\": 0.08856512767171724, \"44102\": 0.08856512767171724, \"109640\": 0.08856512767171724, \"124698\": 0.08856512767171724, \"12813\": 0.08856512767171724, \"268883\": 0.08856512767171724, \"156247\": 0.08856512767171724,..., \"num_terms\": 464328\n",
    " ```"
   ]
  },
  {
   "cell_type": "markdown",
   "metadata": {
    "ein.tags": [
     "worksheet-0"
    ],
    "slideshow": {
     "slide_type": "slide"
    }
   },
   "source": [
    "# Aprendizaje Supervisado\n",
    "\n",
    "* Se tiene un conjunto $T = \\{ (x_i, y_i)\\}$\n",
    "* $x$ son las variables independientes, observaciones, ...\n",
    "* $y$ es la variable dependiente\n",
    "* objetivo $f(x) \\approx y$"
   ]
  },
  {
   "cell_type": "code",
   "execution_count": null,
   "metadata": {
    "autoscroll": "json-false",
    "collapsed": false,
    "ein.tags": [
     "worksheet-0"
    ],
    "slideshow": {
     "slide_type": "fragment"
    }
   },
   "outputs": [],
   "source": [
    "import numpy as np\n",
    "x = np.linspace(-10, 10, 10)\n",
    "y = x**2 + 12 * x + 3.2 + np.random.uniform(-1, 1, x.shape[0])\n",
    "pd.DataFrame(np.vstack([x, y]).T, columns=['x', 'y'])\n"
   ]
  },
  {
   "cell_type": "code",
   "execution_count": null,
   "metadata": {
    "autoscroll": "json-false",
    "collapsed": false,
    "ein.tags": [
     "worksheet-0"
    ],
    "slideshow": {
     "slide_type": "subslide"
    }
   },
   "outputs": [],
   "source": [
    "%pylab inline\n",
    "pylab.plot(x, y, 'o')"
   ]
  },
  {
   "cell_type": "markdown",
   "metadata": {
    "ein.tags": [
     "worksheet-0"
    ],
    "slideshow": {
     "slide_type": "subslide"
    }
   },
   "source": [
    "# Aprendizaje Supervisado\n",
    "\n",
    "* suponiendo que $f(x) = a x^2 + b x + c$\n",
    "\n",
    "## Entrenamiento\n",
    "\n",
    "* minimizar $\\sum_i (y_i - (a x_i^2 + b x_i + c))^2$"
   ]
  },
  {
   "cell_type": "code",
   "execution_count": null,
   "metadata": {
    "autoscroll": "json-false",
    "collapsed": false,
    "ein.tags": [
     "worksheet-0"
    ],
    "slideshow": {
     "slide_type": "fragment"
    }
   },
   "outputs": [],
   "source": [
    "import numpy as np\n",
    "X = np.vstack((x**2, x, np.ones_like(x))).T\n",
    "coef = np.linalg.lstsq(X, y)[0]\n",
    "print(coef)"
   ]
  },
  {
   "cell_type": "code",
   "execution_count": null,
   "metadata": {
    "autoscroll": "json-false",
    "collapsed": false,
    "ein.tags": [
     "worksheet-0"
    ],
    "slideshow": {
     "slide_type": "subslide"
    }
   },
   "outputs": [],
   "source": [
    "pylab.plot(x, y, 'o')\n",
    "pylab.plot(x, np.dot(X, coef))"
   ]
  },
  {
   "cell_type": "markdown",
   "metadata": {
    "ein.tags": [
     "worksheet-0"
    ],
    "slideshow": {
     "slide_type": "subslide"
    }
   },
   "source": [
    "# Aprendizaje Supervisado\n",
    "\n",
    "## Predicción\n",
    "\n"
   ]
  },
  {
   "cell_type": "code",
   "execution_count": null,
   "metadata": {
    "autoscroll": "json-false",
    "collapsed": false,
    "ein.tags": [
     "worksheet-0"
    ],
    "slideshow": {
     "slide_type": "fragment"
    }
   },
   "outputs": [],
   "source": [
    "x = np.linspace(-100, 100, 50)\n",
    "X = np.vstack((x**2, x, np.ones_like(x))).T\n",
    "pylab.plot(x, np.dot(X, coef))\n",
    "pylab.plot(x, np.dot(X, np.array([1, 12, 3.2])))\n",
    "pylab.legend(['Modelo', 'Real'])"
   ]
  },
  {
   "cell_type": "markdown",
   "metadata": {
    "ein.tags": [
     "worksheet-0"
    ],
    "slideshow": {
     "slide_type": "subslide"
    }
   },
   "source": [
    " # Aprendizaje Supervisado\n",
    "\n",
    " * La función $f(x)$ no se conoce\n",
    " * Se usan heurísticas\n",
    " * Máquinas de soporte vectorial  \n",
    " Maximizan la distancia entre la clase positiva y negativa\n",
    " * Programación Genética (EvoDAG)  \n",
    " Evoluciona modelos que se representan en gráficas acíclicas "
   ]
  },
  {
   "cell_type": "markdown",
   "metadata": {
    "ein.tags": [
     "worksheet-0"
    ],
    "slideshow": {
     "slide_type": "subslide"
    }
   },
   "source": [
    " # Medidas de rendimiento\n",
    " \n",
    " * Recall ($r$): Fracción de instancias relevantes recolectadas\n",
    " * Precision ($p$): fracción de instancias recolectadas relevantes para la consulta\n",
    " * Score-$F_1 = 2 \\frac{p \\cdot r}{p + r}$\n",
    " * Las medidas anteriores es por clase\n",
    " * macro-$F_1 = \\frac{1}{|K|} \\sum_{k \\in K} F_1^k $\n",
    " * Accuracy\n",
    " "
   ]
  },
  {
   "cell_type": "markdown",
   "metadata": {
    "ein.tags": [
     "worksheet-0"
    ],
    "slideshow": {
     "slide_type": "subslide"
    }
   },
   "source": [
    "![Precision/Recall](https://upload.wikimedia.org/wikipedia/commons/2/26/Precisionrecall.svg)"
   ]
  },
  {
   "cell_type": "markdown",
   "metadata": {
    "ein.tags": [
     "worksheet-0"
    ],
    "slideshow": {
     "slide_type": "slide"
    }
   },
   "source": [
    "# Distant Supervision\n",
    "\n",
    "* Etiquetar datos automáticamente\n",
    "* Uso de heurísticas\n",
    "* Solo hay dos clases positivos y negativos\n",
    "* ¿Cómo entreno? "
   ]
  },
  {
   "cell_type": "markdown",
   "metadata": {
    "ein.tags": [
     "worksheet-0"
    ],
    "slideshow": {
     "slide_type": "subslide"
    }
   },
   "source": [
    " ## Entrenamiento\n",
    " * Se tiene un conjunto etiquetado automáticamente\n",
    " * Se divide en $K$ conjuntos\n",
    "   * Por eficiencia - uso paralelismo\n",
    " "
   ]
  },
  {
   "cell_type": "markdown",
   "metadata": {
    "ein.tags": [
     "worksheet-0"
    ],
    "slideshow": {
     "slide_type": "fragment"
    }
   },
   "source": [
    " ```bash  \n",
    "for ds in data/data-*.json.gz;\n",
    "do\n",
    "    base=`basename $ds`\n",
    "    base=distant_supervision/`basename $base .json.gz`\n",
    "    param=$base.params\n",
    "    model=$base.model\n",
    "    predict=$base.predict\n",
    "    gold=$base.gold\n",
    "    if [ ! -f $param ]\n",
    "    then\n",
    "        microtc-params -o $param -k 0:1 -S avgf1:positive:negative -n 32 -s 32 -H static:$ds datasets/train.json.gz\n",
    "    fi\n",
    "    if [ ! -f $model ]\n",
    "    then\n",
    "        microtc-train -o $model -m $param $ds\n",
    "    fi\n",
    "done\n",
    "```"
   ]
  },
  {
   "cell_type": "markdown",
   "metadata": {
    "ein.tags": [
     "worksheet-0"
    ],
    "slideshow": {
     "slide_type": "subslide"
    }
   },
   "source": [
    " ## Entrenamiento\n",
    " ```bash   \n",
    " microtc-params -o $param -k 0:1 -S avgf1:positive:negative -n 32 -s 32 -H static:$ds datasets/train.json.gz\n",
    " ```\n",
    " * static: se usa sólo en entrenamiento\n",
    " * -k 0:1 porcentaje de uso en validación\n",
    "   * \\$ds solo se usa en entrenamiento\n",
    "   * train.json.gz solo se usa en validación\n",
    " * -S: score promedio de score-$F_1$ de las clases\n",
    " "
   ]
  },
  {
   "cell_type": "markdown",
   "metadata": {
    "ein.tags": [
     "worksheet-0"
    ],
    "slideshow": {
     "slide_type": "subslide"
    }
   },
   "source": [
    " ## Entrenamiento\n",
    " ```json\n",
    " {\n",
    "    \"_accuracy\": 0.7150208906552532,\n",
    "    \"_avgf1:positive:negative\": 0.7048618911050835,\n",
    "    \"_macrof1\": 0.469907927403389,\n",
    "    \"_microf1\": 0.7150208906552531,\n",
    "    \"_score\": 0.7048618911050835,\n",
    "    \"_time\": 123.33291339874268,\n",
    "    \"_weightedf1\": 0.6499001443154221,\n",
    "    \"del_diac\": false,\n",
    "    \"del_dup\": true,\n",
    "    \"del_punc\": false,\n",
    "    \"emo_option\": \"none\",\n",
    "    \"lc\": true,\n",
    "    \"num_option\": \"group\",\n",
    "    \"tfidf\": true,\n",
    "    \"token_list\": [\n",
    "      -3,\n",
    "      2,\n",
    "      3,\n",
    "      5,\n",
    "      9\n",
    "    ],\n",
    "    \"token_max_filter\": 1.0,\n",
    "    \"token_min_filter\": -1,\n",
    "    \"url_option\": \"group\",\n",
    "    \"usr_option\": \"group\"\n",
    "  }```"
   ]
  },
  {
   "cell_type": "markdown",
   "metadata": {
    "ein.tags": [
     "worksheet-0"
    ],
    "slideshow": {
     "slide_type": "subslide"
    }
   },
   "source": [
    "## Predecir\n",
    " ```bash  \n",
    "for ds in data/data-*.json.gz;\n",
    "do\n",
    "    base=`basename $ds`\n",
    "    base=distant_supervision/`basename $base .json.gz`\n",
    "    param=$base.params\n",
    "    model=$base.model\n",
    "    predict=$base.predict\n",
    "    gold=$base.gold\n",
    "    if [ ! -f $predict ]\n",
    "    then\n",
    "        microtc-predict -o $predict -m $model datasets/train.json.gz\n",
    "    fi\n",
    "\n",
    "    if [ ! -f $gold ]\n",
    "    then\n",
    "        microtc-predict -o $gold -m $model datasets/gold.json.gz\n",
    "    fi\n",
    "done  \n",
    "```"
   ]
  },
  {
   "cell_type": "markdown",
   "metadata": {
    "ein.tags": [
     "worksheet-0"
    ],
    "slideshow": {
     "slide_type": "subslide"
    }
   },
   "source": [
    "# Ejemplo\n",
    "```json  \n",
    " {\"voc_affinity\": 0.6414342629482072, \"klass\": \"negative\", \"id\": \"628949369883000832\", \"text\": \"dear @Microsoft the newOoffice for Mac is great and all, but no Lync update? C'mon.\", \"decision_function\": -0.038332115769748785}\n",
    " {\"voc_affinity\": 0.7912844036697247, \"klass\": \"negative\", \"id\": \"628976607420645377\", \"text\": \"@Microsoft how about you make a system that doesn't eat my friggin discs. This is the 2nd time this has happened and I am so sick of it!\", \"decision_function\": -0.21017788877835167}\n",
    " ```"
   ]
  },
  {
   "cell_type": "markdown",
   "metadata": {
    "ein.tags": [
     "worksheet-0"
    ],
    "slideshow": {
     "slide_type": "subslide"
    }
   },
   "source": [
    "# Distant Supervision\n",
    "\n",
    "* $K$ valores de la función de decisión\n",
    "* Cómo uso el conjunto de entrenamiento\n",
    "\n",
    "## Método directo\n",
    "* Uso microtc para predecir el conjunto de entrenamiento\n",
    "* No se estaría probando la generalidad de microtc "
   ]
  },
  {
   "cell_type": "markdown",
   "metadata": {
    "ein.tags": [
     "worksheet-0"
    ],
    "slideshow": {
     "slide_type": "subslide"
    }
   },
   "source": [
    "# Validación cruzada\n",
    "\n",
    "* Medir la generalidad del modelo\n",
    "* Generar predicciones de un conjunto de entrenamiento"
   ]
  },
  {
   "cell_type": "code",
   "execution_count": null,
   "metadata": {
    "autoscroll": "json-false",
    "collapsed": false,
    "ein.tags": [
     "worksheet-0"
    ],
    "slideshow": {
     "slide_type": "fragment"
    }
   },
   "outputs": [],
   "source": [
    "from sklearn.cross_validation import KFold\n",
    "l = []\n",
    "for ts, vs in KFold(10, shuffle=True,\n",
    "\t\t    random_state=1, n_folds=5):\n",
    "    a = [list() for i in range(10)]\n",
    "    [a.__setitem__(x, 'ent.') for x in ts]\n",
    "    [a.__setitem__(x, 'val.') for x in vs]\n",
    "    l.append(a)\n",
    "d = np.array(l).T\n",
    "pd.DataFrame(d, columns=['Fold %s' % x for x in range(1, 6)])"
   ]
  },
  {
   "cell_type": "markdown",
   "metadata": {
    "ein.tags": [
     "worksheet-0"
    ],
    "slideshow": {
     "slide_type": "subslide"
    }
   },
   "source": [
    "# Crear KFold\n",
    "```python\n",
    "import sklearn.cross_validation\n",
    "import gzip\n",
    "from b4msa.utils import tweet_iterator\n",
    "from tqdm import tqdm\n",
    "import json\n",
    "import sys\n",
    "\n",
    "D = [x for x in tweet_iterator(sys.argv[1])]\n",
    "\n",
    "c = 0\n",
    "for tr, val in sklearn.cross_validation.KFold(len(D), n_folds=10):\n",
    "    for output, index in zip(['kfolds/train-%s.json.gz' % c,\n",
    "                              'kfolds/validation-%s.json.gz' % c],\n",
    "                             [tr, val]):\n",
    "        with gzip.open(output, 'wb') as fpt:\n",
    "            for x in tqdm(index):\n",
    "                fpt.write(bytes(json.dumps(D[x]) + '\\n', encoding='UTF-8'))\n",
    "    c += 1```"
   ]
  },
  {
   "cell_type": "markdown",
   "metadata": {
    "ein.tags": [
     "worksheet-0"
    ],
    "slideshow": {
     "slide_type": "subslide"
    }
   },
   "source": [
    "# Entrenar y Predecir KFold\n",
    "```bash  \n",
    "for i in `seq 0 9`;\n",
    "do\n",
    "    base=kfolds/microtc-$i\n",
    "    param=$base.params\n",
    "    model=$base.model\n",
    "    predict=$base.predict\n",
    "    train=kfolds/train-$i.json.gz\n",
    "    val=kfolds/validation-$i.json.gz\n",
    "    if [ ! -f $param ]\n",
    "    then\n",
    "        microtc-params -o $param -k 0.7 -n 32 -s 32 -H $train\n",
    "    fi\n",
    "\n",
    "    if [ ! -f $model ]\n",
    "    then\n",
    "        microtc-train -o $model -m $param $train\n",
    "    fi\n",
    "\n",
    "    if [ ! -f $predict ]\n",
    "    then\n",
    "        microtc-predict -o $predict -m $model $val\n",
    "    fi\n",
    " done\n",
    "``` "
   ]
  },
  {
   "cell_type": "markdown",
   "metadata": {
    "ein.tags": [
     "worksheet-0"
    ],
    "slideshow": {
     "slide_type": "subslide"
    }
   },
   "source": [
    " # $\\mu$TC - Predecir Gold\n",
    " ```bash\n",
    "base=supervised/microtc\n",
    "param=$base.params\n",
    "model=$base.model\n",
    "gold=$base.gold\n",
    "\n",
    "if [ ! -f $param ]\n",
    "then\n",
    "        srun --mem-per-cpu=2048 -c32 microtc-params -o $param -k 0.7 -n 32 -s 32 -H datasets/train.json.gz\n",
    "fi\n",
    "\n",
    "if [ ! -f $model ]\n",
    "then\n",
    "        srun --mem-per-cpu=2048 -c1 microtc-train -o $model -m $param datasets/train.json.gz\n",
    "fi\n",
    "\n",
    "if [ ! -f $gold ]\n",
    "then\n",
    "        srun --mem-per-cpu=2048 -c1 microtc-predict -o $gold -m $model datasets/gold.json.gz\n",
    "fi\n",
    " ```"
   ]
  },
  {
   "cell_type": "markdown",
   "metadata": {
    "ein.tags": [
     "worksheet-0"
    ],
    "slideshow": {
     "slide_type": "subslide"
    }
   },
   "source": [
    " # Recapitulando \n",
    " * Se tiene $K$ predicciones - conjunto automáticamente etiquetado\n",
    " * Predicción del conjunto de entrenamiento\n",
    " * Siguiente paso\n",
    " \n",
    " "
   ]
  },
  {
   "cell_type": "markdown",
   "metadata": {
    "ein.tags": [
     "worksheet-0"
    ],
    "slideshow": {
     "slide_type": "fragment"
    }
   },
   "source": [
    " ## Predicción del conjunto de prueba\n",
    " * Unir las $K$ predicciones ordenadas por voc_affinity\n",
    " * Agregar la predicción de $\\mu$TC\n",
    " * Entrenar un clasificador en este nuevo conjunto"
   ]
  },
  {
   "cell_type": "markdown",
   "metadata": {
    "ein.tags": [
     "worksheet-0"
    ],
    "slideshow": {
     "slide_type": "subslide"
    }
   },
   "source": [
    " # Unir predicciones\n",
    " ```python\n",
    " train_klass = [x['klass'] for x in tweet_iterator('datasets/train.json.gz')]\n",
    "gold_klass = [x['klass'] for x in tweet_iterator('datasets/gold.json.gz')]\n",
    "\n",
    "train_micro = []\n",
    "for i in range(10):\n",
    "    train_micro.append([x['decision_function']\n",
    "                     for x in tweet_iterator('kfolds/microtc-%s.predict' % i)])\n",
    "train_micro = np.concatenate(train_micro, axis=0)\n",
    "test_micro = np.array([x['decision_function'] for x in tweet_iterator('supervised/microtc.gold')])\n",
    "\n",
    "i = 0\n",
    "train_ds = []\n",
    "test_ds = []\n",
    "while True:\n",
    "    train = 'distant_supervision/data-%s.predict' % i\n",
    "    test = 'distant_supervision/data-%s.gold' % i\n",
    "    if not os.path.isfile(train):\n",
    "        break\n",
    "    train_ds.append([(x['decision_function'], x['voc_affinity'])\n",
    "                     for x in tweet_iterator(train)])\n",
    "    test_ds.append([(x['decision_function'], x['voc_affinity'])\n",
    "                     for x in tweet_iterator(test)])\n",
    "    i += 1\n",
    "train_ds = distant_supervision(train_ds)\n",
    "test_ds = distant_supervision(test_ds)\n",
    "TRAIN = np.concatenate((train_ds, train_micro), axis=1)\n",
    "GOLD = np.concatenate((test_ds, test_micro), axis=1)\n",
    "\n",
    "assert TRAIN.shape[1] == GOLD.shape[1]\n",
    "save_csv(TRAIN, train_klass, 'train.csv')\n",
    "save_csv(GOLD, gold_klass, 'gold.csv')\n",
    "```"
   ]
  },
  {
   "cell_type": "markdown",
   "metadata": {
    "ein.tags": [
     "worksheet-0"
    ],
    "slideshow": {
     "slide_type": "subslide"
    }
   },
   "source": [
    " ```python\n",
    " from microtc.utils import tweet_iterator\n",
    "import numpy as np\n",
    "import os\n",
    "\n",
    "\n",
    "def save_csv(D, klass, output):\n",
    "    with open(output, 'w') as fpt:\n",
    "        for x, y in zip(D, klass):\n",
    "            fpt.write(\",\".join([str(i) for i in x]))\n",
    "            fpt.write(',' + y + '\\n')\n",
    "\n",
    "\n",
    "def distant_supervision(D):\n",
    "    DS = np.array([[y[0] for y in x] for x in D]).T\n",
    "    S = np.array([[y[1] for y in x] for x in D]).T\n",
    "    return np.array([x[np.argsort(y)] for x, y in zip(DS, S)])```"
   ]
  },
  {
   "cell_type": "markdown",
   "metadata": {
    "ein.tags": [
     "worksheet-0"
    ],
    "slideshow": {
     "slide_type": "subslide"
    }
   },
   "source": [
    " # Ejemplo de train.csv\n",
    " 0.114636783784,0.179505189563,0.2490083552,0.607012341309,0.0727107215932,\n",
    " 0.37516196334,0.472766213229,0.15847305556,0.449212004631,0.210050939743,\n",
    " 0.291776476193,0.163773511676,0.437736026062,0.0878780952512,0.355921536945,\n",
    " 0.171149258385,0.370602925167,0.183431922788,0.0250394972413,0.488403253384,\n",
    " 0.258532009063,0.118452932218,0.113392212855,0.149002886753,0.00379138978131,\n",
    " 0.458240438281,0.300322307891,0.31664688375,0.247096677077,-0.0477388224443,\n",
    " -0.930914412857,-0.896643529031,0.689744786641,positive"
   ]
  },
  {
   "cell_type": "markdown",
   "metadata": {
    "ein.tags": [
     "worksheet-0"
    ],
    "slideshow": {
     "slide_type": "slide"
    }
   },
   "source": [
    " # Entrenar un clasificador\n",
    " * Conjunto de entrenamiento train.csv\n",
    " * Conjunto de prueba test.csv\n",
    " * Se entrena usando [EvoDAG](https://github.com/mgraffg/EvoDAG)"
   ]
  },
  {
   "cell_type": "markdown",
   "metadata": {
    "ein.tags": [
     "worksheet-0"
    ],
    "slideshow": {
     "slide_type": "fragment"
    }
   },
   "source": [
    " ```bash\n",
    " if [ ! -f evodag.params ]\n",
    "then\n",
    "    EvoDAG-params --multiple-outputs -u 16 -P evodag.params -C train.csv\n",
    "fi\n",
    "\n",
    "if [ ! -f evodag.model ]\n",
    "then\n",
    "    EvoDAG-train -n 30 -u 16 -P evodag.params -m evodag.model train.csv\n",
    "fi\n",
    "\n",
    "if [ ! -f evodag.gold ]\n",
    "then\n",
    "    EvoDAG-predict -u 16 -m evodag.model -o evodag.gold gold.csv\n",
    "fi\n",
    " ```"
   ]
  },
  {
   "cell_type": "markdown",
   "metadata": {
    "ein.tags": [
     "worksheet-0"
    ],
    "slideshow": {
     "slide_type": "slide"
    }
   },
   "source": [
    " # Rendimiento\n",
    "\n",
    " |Competencia|Algoritmo|Macro|Micro|Positivo|Negativo|Neutro|\n",
    " |-----------|---------|--------|--------|-----------|-----------|---------|\n",
    " |SEMEVAL2016|$\\mu$TC  |0.4638|0.5199|0.5907|0.2979|0.5026|\n",
    " |SEMEVAL2016|$\\mu$TC+EvoDAG|0.5144|0.5261|0.6153|0.4472|0.4807|\n",
    " |TASS2015   |$\\mu$TC  |0.6269|0.637|0.7217|0.6402|0.5189|\n",
    " |TASS2015   |$\\mu$TC+EvoDAG  |0.6351|0.638|0.7138|0.6412|0.5504|"
   ]
  },
  {
   "cell_type": "markdown",
   "metadata": {
    "ein.tags": [
     "worksheet-0"
    ],
    "slideshow": {
     "slide_type": "slide"
    }
   },
   "source": [
    " # Resumen\n",
    "\n",
    " * Normalizaciones\n",
    " * Tokenizadores\n",
    " * Clasificación\n",
    " * Distant supervision\n",
    " \n",
    "\n",
    " \n",
    " "
   ]
  },
  {
   "cell_type": "markdown",
   "metadata": {
    "ein.tags": [
     "worksheet-0"
    ],
    "slideshow": {
     "slide_type": "fragment"
    }
   },
   "source": [
    " ## Proyecto final\n",
    "\n",
    " * Proponer una modificación al proceso de clasificación de texto.\n",
    "   * Normalizaciones\n",
    "   * Tokenizadores\n",
    "   * Clasificación\n",
    "   * Distant supervision\n",
    " * Entregar un artículo donde se explique la modificación\n",
    "   * Introducción\n",
    "   * Metodología\n",
    "   * Resultados\n",
    "   * Conclusiones\n",
    " * Comparar la modificación contra $\\mu$TC"
   ]
  }
 ],
 "metadata": {
  "anaconda-cloud": {},
  "celltoolbar": "Slideshow",
  "kernelspec": {
   "display_name": "Python [conda root]",
   "language": "python",
   "name": "conda-root-py"
  },
  "language_info": {
   "codemirror_mode": {
    "name": "ipython",
    "version": 3
   },
   "file_extension": ".py",
   "mimetype": "text/x-python",
   "name": "python",
   "nbconvert_exporter": "python",
   "pygments_lexer": "ipython3",
   "version": "3.5.2"
  },
  "name": "03_aprendizaje_supervisado.ipynb"
 },
 "nbformat": 4,
 "nbformat_minor": 1
}
