{
 "cells": [
  {
   "cell_type": "markdown",
   "metadata": {
    "ein.tags": [
     "worksheet-0"
    ],
    "slideshow": {
     "slide_type": "slide"
    }
   },
   "source": [
    "# Aprendizaje computacional en grandes volúmenes de texto  \n",
    "\n",
    "## Mario Graff (mgraffg@ieee.org, mario.graff@infotec.mx)  \n",
    "## Sabino Miranda (sabino.miranda@infotec.mx)  \n",
    "## Daniela Moctezuma (dmoctezuma@centrogeo.edu.mx)  \n",
    "## Eric S. Tellez (eric.tellez@infotec.mx)  \n",
    "## CONACYT, INFOTEC y CentroGEO\n",
    "## [https://github.com/ingeotec](https://github.com/ingeotec)"
   ]
  },
  {
   "cell_type": "markdown",
   "metadata": {
    "ein.tags": [
     "worksheet-0"
    ],
    "slideshow": {
     "slide_type": "slide"
    }
   },
   "source": [
    "* Aprendizaje supervisado  \n",
    "  * Modelo general de aprendizaje; Entrenamiento, test, score (accuracy, recall, precision, f1)  \n",
    "  * Máquinas de soporte vectorial (SVM)  \n",
    "  * Programación genética (EvoDAG)  \n",
    "  * Distant supervision  "
   ]
  },
  {
   "cell_type": "markdown",
   "metadata": {
    "ein.tags": [
     "worksheet-0"
    ],
    "slideshow": {
     "slide_type": "subslide"
    }
   },
   "source": [
    "* $\\mu$TC  \n",
    "  * Pipeline de transformaciones  \n",
    "  * Optimización de parámetros  \n",
    "  * Clasificadores  \n",
    "  * Uso del $\\mu$TC  \n",
    "* Aplicaciones  \n",
    "  * Análisis de sentimientos  \n",
    "  * Determinación de autoría  \n",
    "  * Clasificación de noticias  \n",
    "  * Spam  \n",
    "  * Género y edad  \n",
    "* Conclusiones  \n"
   ]
  },
  {
   "cell_type": "code",
   "execution_count": 145,
   "metadata": {
    "autoscroll": "json-false",
    "collapsed": false,
    "ein.tags": [
     "worksheet-0"
    ],
    "slideshow": {
     "slide_type": "slide"
    }
   },
   "outputs": [
    {
     "data": {
      "text/markdown": [
       "# Corpus\n",
       "* buen dia microtc\n",
       "* excelente dia\n",
       "* odio el trafico\n",
       "* la computadora\n",
       "* la mesa\n",
       "* la ventana"
      ],
      "text/plain": [
       "<IPython.core.display.Markdown object>"
      ]
     },
     "execution_count": 145,
     "metadata": {},
     "output_type": "execute_result"
    }
   ],
   "source": [
    "from IPython.core.display import Markdown\n",
    "docs = [\"buen dia microtc\", \"excelente dia\", \"odio el trafico\",\n",
    "\t\"la computadora\", \"la mesa\", \"la ventana\"]\n",
    "l = [\"* \" + x for x in docs]\n",
    "Markdown(\"# Corpus\\n\" + \"\\n\".join(l))"
   ]
  },
  {
   "cell_type": "markdown",
   "metadata": {
    "ein.tags": [
     "worksheet-0"
    ],
    "slideshow": {
     "slide_type": "subslide"
    }
   },
   "source": [
    "# TFIDF\n",
    "** buen dia microtc **, **excelente dia**, **odio el trafico**"
   ]
  },
  {
   "cell_type": "code",
   "execution_count": 146,
   "metadata": {
    "autoscroll": "json-false",
    "collapsed": false,
    "ein.tags": [
     "worksheet-0"
    ],
    "slideshow": {
     "slide_type": "fragment"
    }
   },
   "outputs": [
    {
     "data": {
      "text/html": [
       "<div>\n",
       "<table border=\"1\" class=\"dataframe\">\n",
       "  <thead>\n",
       "    <tr style=\"text-align: right;\">\n",
       "      <th></th>\n",
       "      <th>Palabras</th>\n",
       "      <th>Doc. 1</th>\n",
       "      <th>Doc. 2</th>\n",
       "      <th>Doc. 3</th>\n",
       "      <th>Doc. 4</th>\n",
       "      <th>Doc. 5</th>\n",
       "      <th>Doc. 6</th>\n",
       "    </tr>\n",
       "  </thead>\n",
       "  <tbody>\n",
       "    <tr>\n",
       "      <th>0</th>\n",
       "      <td>ventana</td>\n",
       "      <td>0.0</td>\n",
       "      <td>0.0</td>\n",
       "      <td>0.0</td>\n",
       "      <td>0.0</td>\n",
       "      <td>0.0</td>\n",
       "      <td>0.7071</td>\n",
       "    </tr>\n",
       "    <tr>\n",
       "      <th>1</th>\n",
       "      <td>odio</td>\n",
       "      <td>0.0</td>\n",
       "      <td>0.0</td>\n",
       "      <td>0.682</td>\n",
       "      <td>0.0</td>\n",
       "      <td>0.0</td>\n",
       "      <td>0.0</td>\n",
       "    </tr>\n",
       "    <tr>\n",
       "      <th>2</th>\n",
       "      <td>excelente</td>\n",
       "      <td>0.0</td>\n",
       "      <td>0.5227</td>\n",
       "      <td>0.0</td>\n",
       "      <td>0.0</td>\n",
       "      <td>0.0</td>\n",
       "      <td>0.0</td>\n",
       "    </tr>\n",
       "    <tr>\n",
       "      <th>3</th>\n",
       "      <td>dia</td>\n",
       "      <td>0.5774</td>\n",
       "      <td>0.8525</td>\n",
       "      <td>0.0</td>\n",
       "      <td>0.0</td>\n",
       "      <td>0.0</td>\n",
       "      <td>0.0</td>\n",
       "    </tr>\n",
       "    <tr>\n",
       "      <th>4</th>\n",
       "      <td>mesa</td>\n",
       "      <td>0.0</td>\n",
       "      <td>0.0</td>\n",
       "      <td>0.0</td>\n",
       "      <td>0.0</td>\n",
       "      <td>0.7071</td>\n",
       "      <td>0.0</td>\n",
       "    </tr>\n",
       "    <tr>\n",
       "      <th>5</th>\n",
       "      <td>microtc</td>\n",
       "      <td>0.5774</td>\n",
       "      <td>0.0</td>\n",
       "      <td>0.0</td>\n",
       "      <td>0.0</td>\n",
       "      <td>0.0</td>\n",
       "      <td>0.0</td>\n",
       "    </tr>\n",
       "    <tr>\n",
       "      <th>6</th>\n",
       "      <td>trafico</td>\n",
       "      <td>0.0</td>\n",
       "      <td>0.0</td>\n",
       "      <td>0.682</td>\n",
       "      <td>0.0</td>\n",
       "      <td>0.0</td>\n",
       "      <td>0.0</td>\n",
       "    </tr>\n",
       "    <tr>\n",
       "      <th>7</th>\n",
       "      <td>computadora</td>\n",
       "      <td>0.0</td>\n",
       "      <td>0.0</td>\n",
       "      <td>0.0</td>\n",
       "      <td>0.7071</td>\n",
       "      <td>0.0</td>\n",
       "      <td>0.0</td>\n",
       "    </tr>\n",
       "    <tr>\n",
       "      <th>8</th>\n",
       "      <td>el</td>\n",
       "      <td>0.0</td>\n",
       "      <td>0.0</td>\n",
       "      <td>0.2639</td>\n",
       "      <td>0.0</td>\n",
       "      <td>0.0</td>\n",
       "      <td>0.0</td>\n",
       "    </tr>\n",
       "    <tr>\n",
       "      <th>9</th>\n",
       "      <td>buen</td>\n",
       "      <td>0.5774</td>\n",
       "      <td>0.0</td>\n",
       "      <td>0.0</td>\n",
       "      <td>0.0</td>\n",
       "      <td>0.0</td>\n",
       "      <td>0.0</td>\n",
       "    </tr>\n",
       "    <tr>\n",
       "      <th>10</th>\n",
       "      <td>la</td>\n",
       "      <td>0.0</td>\n",
       "      <td>0.0</td>\n",
       "      <td>0.0</td>\n",
       "      <td>0.7071</td>\n",
       "      <td>0.7071</td>\n",
       "      <td>0.7071</td>\n",
       "    </tr>\n",
       "  </tbody>\n",
       "</table>\n",
       "</div>"
      ],
      "text/plain": [
       "       Palabras  Doc. 1  Doc. 2  Doc. 3  Doc. 4  Doc. 5  Doc. 6\n",
       "0       ventana     0.0     0.0     0.0     0.0     0.0  0.7071\n",
       "1          odio     0.0     0.0   0.682     0.0     0.0     0.0\n",
       "2     excelente     0.0  0.5227     0.0     0.0     0.0     0.0\n",
       "3           dia  0.5774  0.8525     0.0     0.0     0.0     0.0\n",
       "4          mesa     0.0     0.0     0.0     0.0  0.7071     0.0\n",
       "5       microtc  0.5774     0.0     0.0     0.0     0.0     0.0\n",
       "6       trafico     0.0     0.0   0.682     0.0     0.0     0.0\n",
       "7   computadora     0.0     0.0     0.0  0.7071     0.0     0.0\n",
       "8            el     0.0     0.0  0.2639     0.0     0.0     0.0\n",
       "9          buen  0.5774     0.0     0.0     0.0     0.0     0.0\n",
       "10           la     0.0     0.0     0.0  0.7071  0.7071  0.7071"
      ]
     },
     "execution_count": 146,
     "metadata": {},
     "output_type": "execute_result"
    }
   ],
   "source": [
    "from microtc.textmodel import TextModel\n",
    "import numpy as np\n",
    "import pandas as pd\n",
    "M = np.zeros((11, len(docs)))\n",
    "model = TextModel(docs, token_list=[-1])\n",
    "words = {}\n",
    "for x in docs:\n",
    "    for i in x.split(): words[model.dictionary.doc2bow([i])[0][0]] = i\n",
    "[[M.__setitem__((x[0], k), \"%0.4f\" % x[1]) for x in model[d]] for k, d in enumerate(docs)]\n",
    "M = np.concatenate((np.atleast_2d([words[x] for x in range(11)]).T, M), axis=1)\n",
    "pd.DataFrame(M, columns=['Palabras'] + [\"Doc. %s\" % (x + 1) for x in range(len(docs))])"
   ]
  },
  {
   "cell_type": "markdown",
   "metadata": {
    "ein.tags": [
     "worksheet-0"
    ],
    "slideshow": {
     "slide_type": "slide"
    }
   },
   "source": [
    "# Aprendizaje Supervisado\n",
    "\n",
    "* Se tiene un conjunto $T = \\{ (x_i, y_i)\\}$\n",
    "* $x$ son las variables independientes, observaciones, ...\n",
    "* $y$ es la variable dependiente\n",
    "* objetivo $f(x) \\approx y$"
   ]
  },
  {
   "cell_type": "code",
   "execution_count": 147,
   "metadata": {
    "autoscroll": "json-false",
    "collapsed": false,
    "ein.tags": [
     "worksheet-0"
    ],
    "slideshow": {
     "slide_type": "fragment"
    }
   },
   "outputs": [
    {
     "data": {
      "text/html": [
       "<div>\n",
       "<table border=\"1\" class=\"dataframe\">\n",
       "  <thead>\n",
       "    <tr style=\"text-align: right;\">\n",
       "      <th></th>\n",
       "      <th>x</th>\n",
       "      <th>y</th>\n",
       "    </tr>\n",
       "  </thead>\n",
       "  <tbody>\n",
       "    <tr>\n",
       "      <th>0</th>\n",
       "      <td>-10.000000</td>\n",
       "      <td>-16.560799</td>\n",
       "    </tr>\n",
       "    <tr>\n",
       "      <th>1</th>\n",
       "      <td>-7.777778</td>\n",
       "      <td>-28.836777</td>\n",
       "    </tr>\n",
       "    <tr>\n",
       "      <th>2</th>\n",
       "      <td>-5.555556</td>\n",
       "      <td>-32.602078</td>\n",
       "    </tr>\n",
       "    <tr>\n",
       "      <th>3</th>\n",
       "      <td>-3.333333</td>\n",
       "      <td>-25.546278</td>\n",
       "    </tr>\n",
       "    <tr>\n",
       "      <th>4</th>\n",
       "      <td>-1.111111</td>\n",
       "      <td>-8.020112</td>\n",
       "    </tr>\n",
       "    <tr>\n",
       "      <th>5</th>\n",
       "      <td>1.111111</td>\n",
       "      <td>18.123679</td>\n",
       "    </tr>\n",
       "    <tr>\n",
       "      <th>6</th>\n",
       "      <td>3.333333</td>\n",
       "      <td>53.714511</td>\n",
       "    </tr>\n",
       "    <tr>\n",
       "      <th>7</th>\n",
       "      <td>5.555556</td>\n",
       "      <td>101.594476</td>\n",
       "    </tr>\n",
       "    <tr>\n",
       "      <th>8</th>\n",
       "      <td>7.777778</td>\n",
       "      <td>156.893698</td>\n",
       "    </tr>\n",
       "    <tr>\n",
       "      <th>9</th>\n",
       "      <td>10.000000</td>\n",
       "      <td>223.553109</td>\n",
       "    </tr>\n",
       "  </tbody>\n",
       "</table>\n",
       "</div>"
      ],
      "text/plain": [
       "           x           y\n",
       "0 -10.000000  -16.560799\n",
       "1  -7.777778  -28.836777\n",
       "2  -5.555556  -32.602078\n",
       "3  -3.333333  -25.546278\n",
       "4  -1.111111   -8.020112\n",
       "5   1.111111   18.123679\n",
       "6   3.333333   53.714511\n",
       "7   5.555556  101.594476\n",
       "8   7.777778  156.893698\n",
       "9  10.000000  223.553109"
      ]
     },
     "execution_count": 147,
     "metadata": {},
     "output_type": "execute_result"
    }
   ],
   "source": [
    "import numpy as np\n",
    "x = np.linspace(-10, 10, 10)\n",
    "y = x**2 + 12 * x + 3.2 + np.random.uniform(-1, 1, x.shape[0])\n",
    "pd.DataFrame(np.vstack([x, y]).T, columns=['x', 'y'])\n"
   ]
  },
  {
   "cell_type": "code",
   "execution_count": 148,
   "metadata": {
    "autoscroll": "json-false",
    "collapsed": false,
    "ein.tags": [
     "worksheet-0"
    ],
    "slideshow": {
     "slide_type": "subslide"
    }
   },
   "outputs": [
    {
     "name": "stdout",
     "output_type": "stream",
     "text": [
      "Populating the interactive namespace from numpy and matplotlib\n"
     ]
    },
    {
     "data": {
      "text/plain": [
       "[<matplotlib.lines.Line2D at 0x1123d6860>]"
      ]
     },
     "execution_count": 148,
     "metadata": {},
     "output_type": "execute_result"
    },
    {
     "data": {
      "image/png": "[encoded data removed]",
      "text/plain": [
       "<matplotlib.figure.Figure at 0x1122790f0>"
      ]
     },
     "metadata": {},
     "output_type": "display_data"
    }
   ],
   "source": [
    "%pylab inline\n",
    "pylab.plot(x, y, 'o')"
   ]
  },
  {
   "cell_type": "markdown",
   "metadata": {
    "ein.tags": [
     "worksheet-0"
    ],
    "slideshow": {
     "slide_type": "subslide"
    }
   },
   "source": [
    "# Aprendizaje Supervisado\n",
    "\n",
    "* suponiendo que $f(x) = a x^2 + b x + c$\n",
    "\n",
    "## Entrenamiento\n",
    "\n",
    "* minimizar $\\sum_i (y_i - (a x_i^2 + b x_i + c))^2$"
   ]
  },
  {
   "cell_type": "code",
   "execution_count": 149,
   "metadata": {
    "autoscroll": "json-false",
    "collapsed": false,
    "ein.tags": [
     "worksheet-0"
    ],
    "slideshow": {
     "slide_type": "fragment"
    }
   },
   "outputs": [
    {
     "name": "stdout",
     "output_type": "stream",
     "text": [
      "[  1.00034719  11.98922025   3.47645731]\n"
     ]
    }
   ],
   "source": [
    "import numpy as np\n",
    "X = np.vstack((x**2, x, np.ones_like(x))).T\n",
    "coef = np.linalg.lstsq(X, y)[0]\n",
    "print(coef)"
   ]
  },
  {
   "cell_type": "code",
   "execution_count": 150,
   "metadata": {
    "autoscroll": "json-false",
    "collapsed": false,
    "ein.tags": [
     "worksheet-0"
    ],
    "slideshow": {
     "slide_type": "subslide"
    }
   },
   "outputs": [
    {
     "data": {
      "text/plain": [
       "[<matplotlib.lines.Line2D at 0x1123b3898>]"
      ]
     },
     "execution_count": 150,
     "metadata": {},
     "output_type": "execute_result"
    },
    {
     "data": {
      "image/png": "[encoded data removed]",
      "text/plain": [
       "<matplotlib.figure.Figure at 0x1123b3438>"
      ]
     },
     "metadata": {},
     "output_type": "display_data"
    }
   ],
   "source": [
    "pylab.plot(x, y, 'o')\n",
    "pylab.plot(x, np.dot(X, coef))"
   ]
  },
  {
   "cell_type": "markdown",
   "metadata": {
    "ein.tags": [
     "worksheet-0"
    ],
    "slideshow": {
     "slide_type": "subslide"
    }
   },
   "source": [
    "# Aprendizaje Supervisado\n",
    "\n",
    "## Predicción\n",
    "\n"
   ]
  },
  {
   "cell_type": "code",
   "execution_count": 151,
   "metadata": {
    "autoscroll": "json-false",
    "collapsed": false,
    "ein.tags": [
     "worksheet-0"
    ],
    "slideshow": {
     "slide_type": "fragment"
    }
   },
   "outputs": [
    {
     "data": {
      "text/plain": [
       "<matplotlib.legend.Legend at 0x113195240>"
      ]
     },
     "execution_count": 151,
     "metadata": {},
     "output_type": "execute_result"
    },
    {
     "data": {
      "image/png": "[encoded data removed]",
      "text/plain": [
       "<matplotlib.figure.Figure at 0x112622940>"
      ]
     },
     "metadata": {},
     "output_type": "display_data"
    }
   ],
   "source": [
    "x = np.linspace(-100, 100, 50)\n",
    "X = np.vstack((x**2, x, np.ones_like(x))).T\n",
    "pylab.plot(x, np.dot(X, coef))\n",
    "pylab.plot(x, np.dot(X, np.array([1, 12, 3.2])))\n",
    "pylab.legend(['Modelo', 'Real'])"
   ]
  },
  {
   "cell_type": "markdown",
   "metadata": {
    "ein.tags": [
     "worksheet-0"
    ],
    "slideshow": {
     "slide_type": "subslide"
    }
   },
   "source": [
    "# Medidas de rendimiento\n",
    "\n",
    "* Recall ($r$): Fracción de instancias relevantes recolectadas\n",
    "* Precision ($p$): fracción de instancias recolectadas relevantes para la consulta\n",
    "* Score F1 $2 \\frac{p \\cdot r}{p + r}$"
   ]
  },
  {
   "cell_type": "markdown",
   "metadata": {
    "ein.tags": [
     "worksheet-0"
    ],
    "slideshow": {
     "slide_type": "subslide"
    }
   },
   "source": [
    "![Precision/Recall](https://upload.wikimedia.org/wikipedia/commons/2/26/Precisionrecall.svg)"
   ]
  },
  {
   "cell_type": "markdown",
   "metadata": {
    "ein.tags": [
     "worksheet-0"
    ],
    "slideshow": {
     "slide_type": "slide"
    }
   },
   "source": [
    "# microtc-textModel\n",
    "\n",
    "```bash\n",
    "microtc-textModel -m supervised/microtc.model -o supervised/train.textmodel datasets/train.json.gz \n",
    "```\n",
    "\n",
    "```json\n",
    "\n",
    "{\"11268\": 0.08856512767171724, \"text\": \"dear @Microsoft the newOoffice for Mac is great and all, but no Lync update? C'mon.\", \"7686\": 0.055381812446489244, \"157703\": 0.08856512767171724, \"330924\": 0.08856512767171724, \"432651\": 0.08856512767171724, \"226829\": 0.08856512767171724, \"435728\": 0.08856512767171724, \"154130\": 0.08856512767171724, \"341529\": 0.08856512767171724, \"80923\": 0.07490376701241866, \"23586\": 0.08856512767171724, \"70693\": 0.08856512767171724, \"376359\": 0.08856512767171724, \"415788\": 0.08856512767171724, \"415792\": 0.08856512767171724, \"198711\": 0.08856512767171724, \"27316\": 0.07490376701241866, \"411487\": 0.08856512767171724, \"39488\": 0.05325102265860315, \"84036\": 0.08856512767171724, \"44102\": 0.08856512767171724, \"109640\": 0.08856512767171724, \"124698\": 0.08856512767171724, \"12813\": 0.08856512767171724, \"268883\": 0.08856512767171724, \"156247\": 0.08856512767171724,..., \"num_terms\": 464328\n",
    " ```"
   ]
  },
  {
   "cell_type": "markdown",
   "metadata": {
    "ein.tags": [
     "worksheet-0"
    ],
    "slideshow": {
     "slide_type": "slide"
    }
   },
   "source": [
    "# Distant Supervision\n",
    "\n",
    "* Etiquetar datos automáticamente\n",
    "* Uso de heurísticas\n",
    "* Asumiento que se tiene $K$ conjunto etiquetados\n",
    "* Solo hay dos clases positivos y negativos\n",
    "* ¿Cómo entreno? "
   ]
  },
  {
   "cell_type": "markdown",
   "metadata": {
    "ein.tags": [
     "worksheet-0"
    ],
    "slideshow": {
     "slide_type": "subslide"
    }
   },
   "source": [
    " ```bash  \n",
    "for ds in data/data-*.json.gz;\n",
    "do\n",
    "    base=`basename $ds`\n",
    "    base=distant_supervision/`basename $base .json.gz`\n",
    "    param=$base.params\n",
    "    model=$base.model\n",
    "    predict=$base.predict\n",
    "    gold=$base.gold\n",
    "    if [ ! -f $param ]\n",
    "    then\n",
    "        microtc-params -o $param -k 0:1 -S avgf1:positive:negative -n 32 -s 32 -H static:$ds datasets/train.json.gz\n",
    "    fi\n",
    "    if [ ! -f $model ]\n",
    "    then\n",
    "        microtc-train -o $model -m $param $ds\n",
    "    fi\n",
    "done\n",
    "```"
   ]
  },
  {
   "cell_type": "markdown",
   "metadata": {
    "ein.tags": [
     "worksheet-0"
    ],
    "slideshow": {
     "slide_type": "subslide"
    }
   },
   "source": [
    "## Predecir\n",
    " ```bash  \n",
    "for ds in data/data-*.json.gz;\n",
    "do\n",
    "    base=`basename $ds`\n",
    "    base=distant_supervision/`basename $base .json.gz`\n",
    "    param=$base.params\n",
    "    model=$base.model\n",
    "    predict=$base.predict\n",
    "    gold=$base.gold\n",
    "    if [ ! -f $predict ]\n",
    "    then\n",
    "        microtc-predict -o $predict -m $model datasets/train.json.gz\n",
    "    fi\n",
    "\n",
    "    if [ ! -f $gold ]\n",
    "    then\n",
    "        microtc-predict -o $gold -m $model datasets/gold.json.gz\n",
    "    fi\n",
    "done  \n",
    "```"
   ]
  },
  {
   "cell_type": "markdown",
   "metadata": {
    "ein.tags": [
     "worksheet-0"
    ],
    "slideshow": {
     "slide_type": "subslide"
    }
   },
   "source": [
    "# Ejemplo\n",
    "```json  \n",
    " {\"voc_affinity\": 0.6414342629482072, \"klass\": \"negative\", \"id\": \"628949369883000832\", \"text\": \"dear @Microsoft the newOoffice for Mac is great and all, but no Lync update? C'mon.\", \"decision_function\": -0.038332115769748785}\n",
    " {\"voc_affinity\": 0.7912844036697247, \"klass\": \"negative\", \"id\": \"628976607420645377\", \"text\": \"@Microsoft how about you make a system that doesn't eat my friggin discs. This is the 2nd time this has happened and I am so sick of it!\", \"decision_function\": -0.21017788877835167}\n",
    " ```"
   ]
  },
  {
   "cell_type": "markdown",
   "metadata": {
    "ein.tags": [
     "worksheet-0"
    ],
    "slideshow": {
     "slide_type": "subslide"
    }
   },
   "source": [
    "# Distant Supervision\n",
    "\n",
    "* $K$ valores de la función de decisión\n",
    "* Cómo uso el conjunto de entrenamiento\n",
    "\n",
    "## Método directo\n",
    "* Uso microtc para predecir el conjunto de entrenamiento\n",
    "* No se estaría probando la generalidad de microtc "
   ]
  },
  {
   "cell_type": "markdown",
   "metadata": {
    "ein.tags": [
     "worksheet-0"
    ],
    "slideshow": {
     "slide_type": "subslide"
    }
   },
   "source": [
    "# Validación cruzada\n",
    "\n",
    "* Medir la generalidad del modelo\n",
    "* Generar predicciones de un conjunto de entrenamiento"
   ]
  },
  {
   "cell_type": "code",
   "execution_count": 152,
   "metadata": {
    "autoscroll": "json-false",
    "collapsed": false,
    "ein.tags": [
     "worksheet-0"
    ],
    "slideshow": {
     "slide_type": "fragment"
    }
   },
   "outputs": [
    {
     "data": {
      "text/html": [
       "<div>\n",
       "<table border=\"1\" class=\"dataframe\">\n",
       "  <thead>\n",
       "    <tr style=\"text-align: right;\">\n",
       "      <th></th>\n",
       "      <th>Fold 1</th>\n",
       "      <th>Fold 2</th>\n",
       "      <th>Fold 3</th>\n",
       "      <th>Fold 4</th>\n",
       "      <th>Fold 5</th>\n",
       "    </tr>\n",
       "  </thead>\n",
       "  <tbody>\n",
       "    <tr>\n",
       "      <th>0</th>\n",
       "      <td>ent.</td>\n",
       "      <td>ent.</td>\n",
       "      <td>val.</td>\n",
       "      <td>ent.</td>\n",
       "      <td>ent.</td>\n",
       "    </tr>\n",
       "    <tr>\n",
       "      <th>1</th>\n",
       "      <td>ent.</td>\n",
       "      <td>ent.</td>\n",
       "      <td>ent.</td>\n",
       "      <td>val.</td>\n",
       "      <td>ent.</td>\n",
       "    </tr>\n",
       "    <tr>\n",
       "      <th>2</th>\n",
       "      <td>val.</td>\n",
       "      <td>ent.</td>\n",
       "      <td>ent.</td>\n",
       "      <td>ent.</td>\n",
       "      <td>ent.</td>\n",
       "    </tr>\n",
       "    <tr>\n",
       "      <th>3</th>\n",
       "      <td>ent.</td>\n",
       "      <td>ent.</td>\n",
       "      <td>val.</td>\n",
       "      <td>ent.</td>\n",
       "      <td>ent.</td>\n",
       "    </tr>\n",
       "    <tr>\n",
       "      <th>4</th>\n",
       "      <td>ent.</td>\n",
       "      <td>val.</td>\n",
       "      <td>ent.</td>\n",
       "      <td>ent.</td>\n",
       "      <td>ent.</td>\n",
       "    </tr>\n",
       "    <tr>\n",
       "      <th>5</th>\n",
       "      <td>ent.</td>\n",
       "      <td>ent.</td>\n",
       "      <td>ent.</td>\n",
       "      <td>ent.</td>\n",
       "      <td>val.</td>\n",
       "    </tr>\n",
       "    <tr>\n",
       "      <th>6</th>\n",
       "      <td>ent.</td>\n",
       "      <td>val.</td>\n",
       "      <td>ent.</td>\n",
       "      <td>ent.</td>\n",
       "      <td>ent.</td>\n",
       "    </tr>\n",
       "    <tr>\n",
       "      <th>7</th>\n",
       "      <td>ent.</td>\n",
       "      <td>ent.</td>\n",
       "      <td>ent.</td>\n",
       "      <td>val.</td>\n",
       "      <td>ent.</td>\n",
       "    </tr>\n",
       "    <tr>\n",
       "      <th>8</th>\n",
       "      <td>ent.</td>\n",
       "      <td>ent.</td>\n",
       "      <td>ent.</td>\n",
       "      <td>ent.</td>\n",
       "      <td>val.</td>\n",
       "    </tr>\n",
       "    <tr>\n",
       "      <th>9</th>\n",
       "      <td>val.</td>\n",
       "      <td>ent.</td>\n",
       "      <td>ent.</td>\n",
       "      <td>ent.</td>\n",
       "      <td>ent.</td>\n",
       "    </tr>\n",
       "  </tbody>\n",
       "</table>\n",
       "</div>"
      ],
      "text/plain": [
       "  Fold 1 Fold 2 Fold 3 Fold 4 Fold 5\n",
       "0   ent.   ent.   val.   ent.   ent.\n",
       "1   ent.   ent.   ent.   val.   ent.\n",
       "2   val.   ent.   ent.   ent.   ent.\n",
       "3   ent.   ent.   val.   ent.   ent.\n",
       "4   ent.   val.   ent.   ent.   ent.\n",
       "5   ent.   ent.   ent.   ent.   val.\n",
       "6   ent.   val.   ent.   ent.   ent.\n",
       "7   ent.   ent.   ent.   val.   ent.\n",
       "8   ent.   ent.   ent.   ent.   val.\n",
       "9   val.   ent.   ent.   ent.   ent."
      ]
     },
     "execution_count": 152,
     "metadata": {},
     "output_type": "execute_result"
    }
   ],
   "source": [
    "from sklearn.cross_validation import KFold\n",
    "l = []\n",
    "for ts, vs in KFold(10, shuffle=True,\n",
    "\t\t    random_state=1, n_folds=5):\n",
    "    a = [list() for i in range(10)]\n",
    "    [a.__setitem__(x, 'ent.') for x in ts]\n",
    "    [a.__setitem__(x, 'val.') for x in vs]\n",
    "    l.append(a)\n",
    "d = np.array(l).T\n",
    "pd.DataFrame(d, columns=['Fold %s' % x for x in range(1, 6)])"
   ]
  },
  {
   "cell_type": "markdown",
   "metadata": {
    "ein.tags": [
     "worksheet-0"
    ],
    "slideshow": {
     "slide_type": "subslide"
    }
   },
   "source": [
    "# Crear KFold\n",
    "```python\n",
    "import sklearn.cross_validation\n",
    "import gzip\n",
    "from b4msa.utils import tweet_iterator\n",
    "from tqdm import tqdm\n",
    "import json\n",
    "import sys\n",
    "\n",
    "D = [x for x in tweet_iterator(sys.argv[1])]\n",
    "\n",
    "c = 0\n",
    "for tr, val in sklearn.cross_validation.KFold(len(D), n_folds=10):\n",
    "    for output, index in zip(['kfolds/train-%s.json.gz' % c,\n",
    "                              'kfolds/validation-%s.json.gz' % c],\n",
    "                             [tr, val]):\n",
    "        with gzip.open(output, 'wb') as fpt:\n",
    "            for x in tqdm(index):\n",
    "                fpt.write(bytes(json.dumps(D[x]) + '\\n', encoding='UTF-8'))\n",
    "    c += 1```"
   ]
  },
  {
   "cell_type": "markdown",
   "metadata": {
    "ein.tags": [
     "worksheet-0"
    ],
    "slideshow": {
     "slide_type": "subslide"
    }
   },
   "source": [
    "# Entrenar y Predecir KFold\n",
    "```bash  \n",
    "for i in `seq 0 9`;\n",
    "do\n",
    "    base=kfolds/microtc-$i\n",
    "    param=$base.params\n",
    "    model=$base.model\n",
    "    predict=$base.predict\n",
    "    train=kfolds/train-$i.json.gz\n",
    "    val=kfolds/validation-$i.json.gz\n",
    "    if [ ! -f $param ]\n",
    "    then\n",
    "        microtc-params -o $param -k 0.7 -n 32 -s 32 -H $train\n",
    "    fi\n",
    "\n",
    "    if [ ! -f $model ]\n",
    "    then\n",
    "        microtc-train -o $model -m $param $train\n",
    "    fi\n",
    "\n",
    "    if [ ! -f $predict ]\n",
    "    then\n",
    "        microtc-predict -o $predict -m $model $val\n",
    "    fi\n",
    " done\n",
    "``` "
   ]
  }
 ],
 "metadata": {
  "anaconda-cloud": {},
  "celltoolbar": "Slideshow",
  "kernelspec": {
   "display_name": "Python [conda root]",
   "language": "python",
   "name": "conda-root-py"
  },
  "language_info": {
   "codemirror_mode": {
    "name": "ipython",
    "version": 3
   },
   "file_extension": ".py",
   "mimetype": "text/x-python",
   "name": "python",
   "nbconvert_exporter": "python",
   "pygments_lexer": "ipython3",
   "version": "3.5.2"
  },
  "name": "03_aprendizaje_supervisado.ipynb"
 },
 "nbformat": 4,
 "nbformat_minor": 1
}
