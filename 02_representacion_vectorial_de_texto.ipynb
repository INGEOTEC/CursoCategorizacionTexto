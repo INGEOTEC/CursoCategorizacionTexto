{
 "cells": [
  {
   "cell_type": "markdown",
   "metadata": {
    "ein.tags": [
     "worksheet-0"
    ],
    "slideshow": {
     "slide_type": "slide"
    }
   },
   "source": [
    "# Aprendizaje computacional en grandes volúmenes de texto  \n",
    "\n",
    "## Mario Graff (mgraffg@ieee.org, mario.graff@infotec.mx)  \n",
    "## Sabino Miranda (sabino.miranda@infotec.mx)  \n",
    "## Daniela Moctezuma (dmoctezuma@centrogeo.edu.mx)  \n",
    "## Eric S. Tellez (eric.tellez@infotec.mx)  \n",
    "## CONACYT, INFOTEC y CentroGEO\n",
    "## [https://github.com/ingeotec](https://github.com/ingeotec)"
   ]
  },
  {
   "cell_type": "markdown",
   "metadata": {
    "ein.tags": [
     "worksheet-0"
    ],
    "slideshow": {
     "slide_type": "slide"
    }
   },
   "source": [
    "* Representación vectorial del texto  \n",
    "  * Normalización  \n",
    "  * Tokenización (n-words, q-grams, skip-grams)  \n",
    "  * Pesado de texto (TFIDF)  \n",
    "  * Medidas de similitud  "
   ]
  },
  {
   "cell_type": "markdown",
   "metadata": {
    "ein.tags": [
     "worksheet-0"
    ],
    "slideshow": {
     "slide_type": "subslide"
    }
   },
   "source": [
    "* Aprendizaje supervisado  \n",
    "  * Modelo general de aprendizaje; Entrenamiento, test, score (accuracy, recall, precision, f1)  \n",
    "  * Máquinas de soporte vectorial (SVM)  \n",
    "  * Programación genética (EvoDAG)  \n",
    "  * Distant supervision  \n",
    "* $\\mu$TC  \n",
    "  * Pipeline de transformaciones  \n",
    "  * Optimización de parámetros  \n",
    "  * Clasificadores  \n",
    "  * Uso del $\\mu$TC  \n",
    "* Aplicaciones  \n",
    "  * Análisis de sentimientos  \n",
    "  * Determinación de autoría  \n",
    "  * Clasificación de noticias  \n",
    "  * Spam  \n",
    "  * Género y edad  \n",
    "* Conclusiones  \n"
   ]
  },
  {
   "cell_type": "markdown",
   "metadata": {
    "ein.tags": [
     "worksheet-0"
    ],
    "slideshow": {
     "slide_type": "slide"
    }
   },
   "source": [
    "# Procesamiento de Lenguaje Natural (NLP)#\n",
    "* $d=s_1\\cdots s_n$ es un documento donde $s \\in \\Sigma$, $\\Sigma$ es un _alfabeto_ de tamaño $\\sigma = |\\Sigma|$\n",
    "* Twitter tendría: $26^{140} \\simeq 1.248 \\times 10^{198}$\n"
   ]
  },
  {
   "cell_type": "markdown",
   "metadata": {
    "ein.tags": [
     "worksheet-0"
    ],
    "slideshow": {
     "slide_type": "fragment"
    }
   },
   "source": [
    "* Reglas sobre que símbolos se pueden unir\n",
    "* Noción de _términos_ o _palabras_, i.e., _morfología_\n",
    "* Reglas sobre como las palabras se pueden combinar, i.e., _sintaxis y gramática_"
   ]
  },
  {
   "cell_type": "markdown",
   "metadata": {
    "ein.tags": [
     "worksheet-0"
    ],
    "slideshow": {
     "slide_type": "fragment"
    }
   },
   "source": [
    "* Problema sumamente complicado\n",
    "  * Reglas\n",
    "  * Variantes\n",
    "  * Excepciones\n",
    "  * Errores\n",
    "* Conceptos que aparecen de manera diferente en todos los lenguajes\n"
   ]
  },
  {
   "cell_type": "markdown",
   "metadata": {
    "ein.tags": [
     "worksheet-0"
    ],
    "slideshow": {
     "slide_type": "subslide"
    }
   },
   "source": [
    "Además, esta el problema semántico:\n",
    "\n",
    "* Un término $s_i$ tiene significados diferentes (antónimos)\n",
    "* Lo contrario también existe, $s_i \\not= s_j$ pero que son idénticos en significado (sinónimos)\n",
    "* En ambos casos, el significado preciso depende del contexto\n",
    "* También hay casos _aproximados_ de todo lo anterior\n",
    "* Ironias, sarcamos, etc.\n",
    "\n",
    "... hay muchísimos problemas abiertos. **NLP** es complicado, de hecho es _AI-complete_\n"
   ]
  },
  {
   "cell_type": "markdown",
   "metadata": {
    "ein.tags": [
     "worksheet-0"
    ],
    "slideshow": {
     "slide_type": "slide"
    }
   },
   "source": [
    "# Categorización de texto\n",
    "El problema consiste en, dado un texto $d$, determinar la(s) categoría(s) a la que pertenece en un conjunto $C$ de categorias, previamente conocido.\n",
    "\n",
    "Más formalmente:\n",
    "\n",
    "Dado un conjunto de categorias $\\cal{C} = \\{c_1, ..., c_m\\}$, determinar el subconjunto de categorias\n",
    "$C_d \\in \\wp(\\cal{C})$ a las que pertenece $d$. \n",
    "\n",
    "Notese que $C_t$ puede ser vacio o $\\cal{C}$.\n",
    "\n"
   ]
  },
  {
   "cell_type": "markdown",
   "metadata": {
    "ein.tags": [
     "worksheet-0"
    ],
    "slideshow": {
     "slide_type": "subslide"
    }
   },
   "source": [
    "## Clasificación de texto ##\n",
    "La _clasificación_ de texto es una especialización del problema de categorización, donde $|C_d| = 1$, esto es $d$ solo puede ser asignado a una categoría.\n",
    "\n",
    "Es un problema de interés en la industria y la acádemia, con aplicaciones variadas a distintas áreas del conocimiento.\n",
    "\n",
    "- Análisis de sentimiento\n",
    "- Determinación de autoría, e.g., género, edad, estilo, etc.\n",
    "- Detección de spam\n",
    "- Categorización de noticias\n",
    "- Clasificación de idioma"
   ]
  },
  {
   "cell_type": "markdown",
   "metadata": {
    "ein.tags": [
     "worksheet-0"
    ],
    "slideshow": {
     "slide_type": "slide"
    }
   },
   "source": [
    "# Nuestro Enfoque #\n",
    "Por su complejidad, trabajar en NLP tiene una gran cantidad de problemas abiertos, en particular nosotros nos enfocamos en la clasificación de texto escrito de manera informal (e.g., Twitter).\n",
    "\n",
    "Para esto se utiliza un _pipeline_ estándar\n",
    "\n",
    "![Pipeline](fig-pipeline.png)\n"
   ]
  },
  {
   "cell_type": "markdown",
   "metadata": {
    "ein.tags": [
     "worksheet-0"
    ],
    "slideshow": {
     "slide_type": "subslide"
    }
   },
   "source": [
    "* Enfoque teórico (muchas simplificaciones)\n",
    "  * Lógica\n",
    "  * Lingüistica\n",
    "  * Semántica\n",
    "* Enfoque práctico supone muchas cosas\n",
    "  * Se fija el lenguaje\n",
    "  * Se fija el problema\n",
    "  * Se supone que mientras más técnicas sofísticadas se usen, mejores resultados se tendrán\n",
    "* Ambos enfoques suponen ausencia de errores"
   ]
  },
  {
   "cell_type": "markdown",
   "metadata": {
    "ein.tags": [
     "worksheet-0"
    ],
    "slideshow": {
     "slide_type": "slide"
    }
   },
   "source": [
    "Nuestro enfoque se basa en:\n",
    "* _Aprendizaje computacional_\n",
    "* _Optimización combinatoria_\n",
    "\n"
   ]
  },
  {
   "cell_type": "markdown",
   "metadata": {
    "ein.tags": [
     "worksheet-0"
    ],
    "slideshow": {
     "slide_type": "fragment"
    }
   },
   "source": [
    "Características:\n",
    "* Independiente del lenguaje\n",
    "* Robusto a errores\n"
   ]
  },
  {
   "cell_type": "markdown",
   "metadata": {
    "ein.tags": [
     "worksheet-0"
    ],
    "slideshow": {
     "slide_type": "fragment"
    }
   },
   "source": [
    "Esta compuesto por:\n",
    "* Una serie de funciones de transformación de texto\n",
    "* Una serie de tokenizadores\n",
    "* Filtros de palabras \n",
    "* Algoritmos de pesado de términos\n"
   ]
  },
  {
   "cell_type": "markdown",
   "metadata": {
    "ein.tags": [
     "worksheet-0"
    ],
    "slideshow": {
     "slide_type": "slide"
    }
   },
   "source": [
    "# Normalizadores multilenguaje\n",
    "\n",
    "|   nombre  | valores             |        descripción                   |\n",
    "|-----------|---------------------|--------------------------------------|\n",
    "|\tdel-punc | yes, no | Determina si las puntuaciones deben removerse |\n",
    "|\tdel-d1   | yes, no | Determina si se deben borrar letras repetidas |\n",
    "|\tdel-diac | yes, no | Determina si los simbolos que no ocupan espacios deben ser removidos |\n",
    "|\tlc       | yes, no | Determina si los símbolos deben ser normalizados en minúsculas |\n",
    "|\temo      | remove, group, none | Controla como deben tratarse los emoticones |\n",
    "|\tnum      | remove, group, none | `........................` números |\n",
    "|\turl      | remove, group, none | `........................` urls |\n",
    "|\tusr      | remove, group, none | `........................` usuarios |\n"
   ]
  },
  {
   "cell_type": "code",
   "execution_count": null,
   "metadata": {
    "autoscroll": "json-false",
    "collapsed": false,
    "ein.tags": [
     "worksheet-0"
    ],
    "slideshow": {
     "slide_type": "skip"
    }
   },
   "outputs": [],
   "source": [
    "from microtc.textmodel import norm_chars\n",
    "text = \"Autoridades de la Ciudad de México aclaran que el equipo del cineasta mexicano no fue asaltado, pero sí una riña ahhh.\"\n"
   ]
  },
  {
   "cell_type": "markdown",
   "metadata": {
    "ein.tags": [
     "worksheet-0"
    ],
    "slideshow": {
     "slide_type": "slide"
    }
   },
   "source": [
    "# diac, dup y punc\n",
    "** Autoridades de la Ciudad de México aclaran que el equipo del cineasta mexicano no fue asaltado, pero sí una riña ahhh. **"
   ]
  },
  {
   "cell_type": "code",
   "execution_count": null,
   "metadata": {
    "autoscroll": "json-false",
    "collapsed": false,
    "ein.tags": [
     "worksheet-0"
    ],
    "slideshow": {
     "slide_type": "fragment"
    }
   },
   "outputs": [],
   "source": [
    "diac = norm_chars(text, del_diac=True, del_dup=False, del_punc=False).replace('~', ' ')\n",
    "Markdown(\"## diac\\n\" + diac)"
   ]
  },
  {
   "cell_type": "code",
   "execution_count": null,
   "metadata": {
    "autoscroll": "json-false",
    "collapsed": false,
    "ein.tags": [
     "worksheet-0"
    ],
    "slideshow": {
     "slide_type": "fragment"
    }
   },
   "outputs": [],
   "source": [
    "dup = norm_chars(text, del_diac=False, del_dup=True, del_punc=False).replace('~', ' ')\n",
    "Markdown(\"## dup\\n\" + dup)"
   ]
  },
  {
   "cell_type": "code",
   "execution_count": null,
   "metadata": {
    "autoscroll": "json-false",
    "collapsed": false,
    "ein.tags": [
     "worksheet-0"
    ],
    "slideshow": {
     "slide_type": "fragment"
    }
   },
   "outputs": [],
   "source": [
    "punc = norm_chars(text, del_diac=False, del_dup=False, del_punc=True).replace('~', ' ')\n",
    "Markdown(\"## punc\\n\" + punc)"
   ]
  },
  {
   "cell_type": "code",
   "execution_count": null,
   "metadata": {
    "autoscroll": "json-false",
    "collapsed": false,
    "ein.tags": [
     "worksheet-0"
    ],
    "slideshow": {
     "slide_type": "skip"
    }
   },
   "outputs": [],
   "source": [
    "from microtc.emoticons import EmoticonClassifier\n",
    "from microtc.params import OPTION_GROUP, OPTION_DELETE\n",
    "text = \"Hoy es un día feliz :) :) o no :( \"\n"
   ]
  },
  {
   "cell_type": "markdown",
   "metadata": {
    "ein.tags": [
     "worksheet-0"
    ],
    "slideshow": {
     "slide_type": "slide"
    }
   },
   "source": [
    "# emo\n",
    "**Hoy es un día feliz :) :) o no :( **"
   ]
  },
  {
   "cell_type": "code",
   "execution_count": null,
   "metadata": {
    "autoscroll": "json-false",
    "collapsed": false,
    "ein.tags": [
     "worksheet-0"
    ],
    "slideshow": {
     "slide_type": "fragment"
    }
   },
   "outputs": [],
   "source": [
    "emo = EmoticonClassifier()\n",
    "group = emo.replace(text, OPTION_GROUP)\n",
    "delete = emo.replace(text, OPTION_DELETE)\n",
    "Markdown(\"## delete\\n%s\\n## group\\n%s\" % (delete, group))"
   ]
  },
  {
   "cell_type": "code",
   "execution_count": null,
   "metadata": {
    "autoscroll": "json-false",
    "collapsed": false,
    "ein.tags": [
     "worksheet-0"
    ],
    "slideshow": {
     "slide_type": "skip"
    }
   },
   "outputs": [],
   "source": [
    "from IPython.core.display import Markdown\n",
    "import re\n",
    "text = \"@mgraffg pon atención para sacar 10 en http://github.com/INGEOTEC\""
   ]
  },
  {
   "cell_type": "markdown",
   "metadata": {
    "ein.tags": [
     "worksheet-0"
    ],
    "slideshow": {
     "slide_type": "slide"
    }
   },
   "source": [
    "# lc\n",
    "**@mgraffg pon atención para sacar 10 en http://github.com/INGEOTEC**"
   ]
  },
  {
   "cell_type": "code",
   "execution_count": null,
   "metadata": {
    "autoscroll": "json-false",
    "collapsed": false,
    "ein.tags": [
     "worksheet-0"
    ],
    "slideshow": {
     "slide_type": "fragment"
    }
   },
   "outputs": [],
   "source": [
    "lc = text.lower()\n",
    "print(lc)"
   ]
  },
  {
   "cell_type": "markdown",
   "metadata": {
    "ein.tags": [
     "worksheet-0"
    ],
    "slideshow": {
     "slide_type": "slide"
    }
   },
   "source": [
    "# num\n",
    "**@mgraffg pon atención para sacar 10 en http://github.com/INGEOTEC**"
   ]
  },
  {
   "cell_type": "code",
   "execution_count": null,
   "metadata": {
    "autoscroll": "json-false",
    "collapsed": false,
    "ein.tags": [
     "worksheet-0"
    ],
    "slideshow": {
     "slide_type": "fragment"
    }
   },
   "outputs": [],
   "source": [
    "delete = re.sub(r\"\\d+\\.?\\d+\", \"\", text)\n",
    "group = re.sub(r\"\\d+\\.?\\d+\", \"_num\", text)\n",
    "Markdown(\"## delete\\n%s\\n## group\\n%s\" % (delete, group))"
   ]
  },
  {
   "cell_type": "markdown",
   "metadata": {
    "ein.tags": [
     "worksheet-0"
    ],
    "slideshow": {
     "slide_type": "slide"
    }
   },
   "source": [
    "# url\n",
    "**@mgraffg pon atención para sacar 10 en http://github.com/INGEOTEC**"
   ]
  },
  {
   "cell_type": "code",
   "execution_count": null,
   "metadata": {
    "autoscroll": "json-false",
    "collapsed": false,
    "ein.tags": [
     "worksheet-0"
    ],
    "slideshow": {
     "slide_type": "fragment"
    }
   },
   "outputs": [],
   "source": [
    "delete = re.sub(r\"https?://\\S+\", \"\", text)\n",
    "group = re.sub(r\"https?://\\S+\", \"_url\", text)\n",
    "Markdown(\"## delete\\n%s\\n## group\\n%s\" % (delete, group))"
   ]
  },
  {
   "cell_type": "markdown",
   "metadata": {
    "ein.tags": [
     "worksheet-0"
    ],
    "slideshow": {
     "slide_type": "slide"
    }
   },
   "source": [
    "# usr\n",
    "**@mgraffg pon atención para sacar 10 en http://github.com/INGEOTEC**"
   ]
  },
  {
   "cell_type": "code",
   "execution_count": null,
   "metadata": {
    "autoscroll": "json-false",
    "collapsed": false,
    "ein.tags": [
     "worksheet-0"
    ],
    "slideshow": {
     "slide_type": "fragment"
    }
   },
   "outputs": [],
   "source": [
    "delete = re.sub(r\"@\\S+\", \"\", text)\n",
    "group = re.sub(r\"@\\S+\", \"_usr\", text)\n",
    "Markdown(\"## delete\\n%s\\n## group\\n%s\" % (delete, group))"
   ]
  },
  {
   "cell_type": "markdown",
   "metadata": {
    "ein.tags": [
     "worksheet-0"
    ],
    "slideshow": {
     "slide_type": "slide"
    }
   },
   "source": [
    "# Tokenizadores\n",
    "Los tokenizadores son en realidad una lista de tokenizadores, y están definidos tokenizer un elemento en $\\wp{(\\text{n-words} \\cup \\text{q-grams} \\cup \\text{skip-grams})} \\setminus \\{\\emptyset\\}$\n",
    "\n",
    "|   nombre  | valores             |        descripción                   |\n",
    "|-----------|---------------------|--------------------------------------|\n",
    "|\tn-words    | $\\{1,2,3\\}$      | Longitud de n-gramas de palabras (n-words) |\n",
    "|\tq-grams  | $\\{1,2,3,4,5,6,7\\}$ | Longitud de q-gramas de caracteres) |\n",
    "|\tskip-grams  | $\\{(2,1), (3, 1), (2, 2), (3, 2)\\}$ | Lista de skip-grams|\n",
    "\n",
    "configuraciones: 16383"
   ]
  },
  {
   "cell_type": "code",
   "execution_count": null,
   "metadata": {
    "autoscroll": "json-false",
    "collapsed": false,
    "ein.tags": [
     "worksheet-0"
    ],
    "slideshow": {
     "slide_type": "skip"
    }
   },
   "outputs": [],
   "source": [
    "from microtc.textmodel import TextModel\n",
    "text = \"que buena esta la platica\"\n",
    "model = TextModel([], token_list=[-1, -2])"
   ]
  },
  {
   "cell_type": "markdown",
   "metadata": {
    "ein.tags": [
     "worksheet-0"
    ],
    "slideshow": {
     "slide_type": "slide"
    }
   },
   "source": [
    "# n-words\n",
    "**que buena esta la platica**"
   ]
  },
  {
   "cell_type": "code",
   "execution_count": null,
   "metadata": {
    "autoscroll": "json-false",
    "collapsed": false,
    "ein.tags": [
     "worksheet-0"
    ],
    "slideshow": {
     "slide_type": "fragment"
    }
   },
   "outputs": [],
   "source": [
    "model = TextModel([], token_list=[-1])\n",
    "words = model.tokenize(text)\n",
    "model = TextModel([], token_list=[-2])\n",
    "biw = model.tokenize(text)\n",
    "Markdown(\"## -1\\n %s\\n## -2\\n%s\" % (\", \".join(words), \", \".join(biw)))"
   ]
  },
  {
   "cell_type": "markdown",
   "metadata": {
    "ein.tags": [
     "worksheet-0"
    ],
    "slideshow": {
     "slide_type": "slide"
    }
   },
   "source": [
    "# q-grams\n",
    "**que buena esta la platica**"
   ]
  },
  {
   "cell_type": "code",
   "execution_count": null,
   "metadata": {
    "autoscroll": "json-false",
    "collapsed": false,
    "ein.tags": [
     "worksheet-0"
    ],
    "slideshow": {
     "slide_type": "fragment"
    }
   },
   "outputs": [],
   "source": [
    "model = TextModel([], token_list=[3])\n",
    "words = model.tokenize(text)\n",
    "model = TextModel([], token_list=[4])\n",
    "biw = model.tokenize(text)\n",
    "Markdown(\"## 3\\n %s\\n## 4\\n%s\" % (\", \".join(words), \", \".join(biw)))"
   ]
  },
  {
   "cell_type": "markdown",
   "metadata": {
    "ein.tags": [
     "worksheet-0"
    ],
    "slideshow": {
     "slide_type": "slide"
    }
   },
   "source": [
    "# skip-grams\n",
    "**que buena esta la platica**"
   ]
  },
  {
   "cell_type": "code",
   "execution_count": null,
   "metadata": {
    "autoscroll": "json-false",
    "collapsed": false,
    "ein.tags": [
     "worksheet-0"
    ],
    "slideshow": {
     "slide_type": "fragment"
    }
   },
   "outputs": [],
   "source": [
    "model = TextModel([], token_list=[(2, 1)])\n",
    "words = model.tokenize(text)\n",
    "model = TextModel([], token_list=[(2, 2)])\n",
    "biw = model.tokenize(text)\n",
    "Markdown(\"## (2, 1)\\n %s\\n## (2, 2)\\n%s\" % (\", \".join(words), \", \".join(biw)))"
   ]
  },
  {
   "cell_type": "markdown",
   "metadata": {
    "ein.tags": [
     "worksheet-0"
    ],
    "slideshow": {
     "slide_type": "slide"
    }
   },
   "source": [
    "# ¿Por qué es robusto a errores?\n",
    "\n",
    "Considere los siguientes textos $T=I\\_like\\_vanilla$, $T' = I\\_lik3\\_vanila$\n",
    "\n",
    "Para fijar ideas pongamos que se usar el coeficiente de Jaccard como medida de similitud, i.e.\n",
    "\n",
    "\n",
    "$$\\frac{|\\{{I, like, vanilla}\\} \\cap \\{{I, lik3, vanila}\\}|}{|\\{{I, like, vanilla}\\} \\cup \\{{I, lik3, vanila}\\}|} = 0.2$$\n",
    "\n",
    "\n",
    "$$Q^T_3 = \\{ I\\_l, \\_li, lik, ike, ke\\_, e\\_v, \\_va, van, ani, nil, ill, lla \\}$$\n",
    "$$Q^{T'}_3 = \\{ I\\_l, \\_li, lik, ik3, k3\\_, 3\\_v, \\_va, van, ani, nil, ila \\}$$\n",
    "\n",
    "Bajo la misma medida\n",
    "$$\\frac{|Q^T_3 \\cap Q^{T'}_3|}{|Q^T_3 \\cup Q^{T'}_3|} = 0.448.$$\n",
    "\n",
    "Se puede ver que estos conjuntos son más similares que los tokenizados por palabra\n",
    "\n",
    "La idea es que un algoritmo de aprendizaje tenga un poco más de soporte para determinar que $T$ es parecido a $T'$\n"
   ]
  },
  {
   "cell_type": "markdown",
   "metadata": {
    "ein.tags": [
     "worksheet-0"
    ],
    "slideshow": {
     "slide_type": "slide"
    }
   },
   "source": [
    "# Pesado de texto\n",
    "|   nombre  | valores             |        descripción                   |\n",
    "|-----------|---------------------|--------------------------------------|\n",
    "|token_min_filter | $\\{0.01, 0.03, 0.1, 0.30, -1, -5, -10\\}$ | Filtro de frequencias bajas |\n",
    "|token_max_filter | $\\{0.9, 99, 1.0\\}$ | Filtro de frequencias altas |\n",
    "|\ttfidf    | yes, no | Determina si se debe realizar un pesado TFIDF de terminos |"
   ]
  },
  {
   "cell_type": "markdown",
   "metadata": {
    "ein.tags": [
     "worksheet-0"
    ],
    "slideshow": {
     "slide_type": "slide"
    }
   },
   "source": [
    "## Sobre el pesado ##\n",
    "El pesado de tokens esta fijo a TFIDF. Su nombre viene de la formulación $tf \\times idf$\n",
    "\n",
    "$tf$ es _term frequency_; es una medida de importancia **local** del término $t$ en el documento $d$, de manera normalizada esta definida como:\n",
    "    $$tf(t,d) = \\frac{freq(t, d)}{\\max_{w \\in d}{freq(w, d)}}$$\n",
    "entre más veces aparece en el documento $d$, $t$ es más importante\n",
    "\n",
    "$idf$ quiere decir _inverse document frequency_; es una medida **global** a la colección $D$, esta definida como:\n",
    "$$ idf(t,d) = log{\\frac{|D|}{1+|{d \\in D: t \\in d}|}} $$\n",
    "entre más veces aparece $t$ en la colección, el término es más común y menos discriminante; por lo tanto, menos importante"
   ]
  },
  {
   "cell_type": "code",
   "execution_count": null,
   "metadata": {
    "autoscroll": "json-false",
    "collapsed": false,
    "ein.tags": [
     "worksheet-0"
    ],
    "slideshow": {
     "slide_type": "slide"
    }
   },
   "outputs": [],
   "source": [
    "docs = [\"buen dia microtc\", \"excelente dia\", \"buenas tardes\",\n",
    "\t\"las vacas me deprimen\", \"odio los lunes\", \"odio el trafico\",\n",
    "\t\"la computadora\", \"la mesa\", \"la ventana\"]\n",
    "l = [\"* \" + x for x in docs]\n",
    "Markdown(\"# Corpus\\n\" + \"\\n\".join(l))"
   ]
  },
  {
   "cell_type": "markdown",
   "metadata": {
    "ein.tags": [
     "worksheet-0"
    ],
    "slideshow": {
     "slide_type": "subslide"
    }
   },
   "source": [
    "# TFIDF\n",
    "\n",
    "**buen dia microtc**"
   ]
  },
  {
   "cell_type": "code",
   "execution_count": null,
   "metadata": {
    "autoscroll": "json-false",
    "collapsed": false,
    "ein.tags": [
     "worksheet-0"
    ],
    "slideshow": {
     "slide_type": "fragment"
    }
   },
   "outputs": [],
   "source": [
    "from microtc.textmodel import TextModel\n",
    "model = TextModel(docs, token_list=[-1])\n",
    "print(model[docs[0]])"
   ]
  },
  {
   "cell_type": "markdown",
   "metadata": {
    "ein.tags": [
     "worksheet-0"
    ],
    "slideshow": {
     "slide_type": "slide"
    }
   },
   "source": [
    "# Opciones de pesado\n",
    "\n",
    "* [gensim](https://radimrehurek.com/gensim/)\n",
    "  * LSI\n",
    "  * LDA\n",
    "  * Random projections"
   ]
  },
  {
   "cell_type": "markdown",
   "metadata": {
    "ein.tags": [
     "worksheet-0"
    ],
    "slideshow": {
     "slide_type": "slide"
    }
   },
   "source": [
    "# Normalizadores dependientes del lenguaje - [B4MSA](https://github.com/ingeotec/b4msa)\n",
    "\n",
    "|   nombre  | valores             |        descripción                   |\n",
    "|-----------|---------------------|--------------------------------------|\n",
    "|\tstem   | yes, no | Determina si a las palabras se les aplica _stemming_. |\n",
    "|\tneg    | yes, no | Determina si los operadores de negación son manejados de manera especial |\n",
    "|\tsw | remove, group, none | Controla como los _stopwords_ son manejados |\n"
   ]
  },
  {
   "cell_type": "markdown",
   "metadata": {
    "ein.tags": [
     "worksheet-0"
    ],
    "slideshow": {
     "slide_type": "slide"
    }
   },
   "source": [
    "# Preguntas"
   ]
  },
  {
   "cell_type": "markdown",
   "metadata": {
    "ein.tags": [
     "worksheet-0"
    ],
    "slideshow": {
     "slide_type": "fragment"
    }
   },
   "source": [
    "* Incluir otra normalización\n",
    "* Incluir otro tokenizador\n",
    "* Incluir otro pesado"
   ]
  }
 ],
 "metadata": {
  "anaconda-cloud": {},
  "celltoolbar": "Slideshow",
  "kernelspec": {
   "display_name": "Python [conda root]",
   "language": "python",
   "name": "conda-root-py"
  },
  "language_info": {
   "codemirror_mode": {
    "name": "ipython",
    "version": 3
   },
   "file_extension": ".py",
   "mimetype": "text/x-python",
   "name": "python",
   "nbconvert_exporter": "python",
   "pygments_lexer": "ipython3",
   "version": "3.5.2"
  },
  "name": "02_representacion_vectorial_de_texto.ipynb"
 },
 "nbformat": 4,
 "nbformat_minor": 1
}
