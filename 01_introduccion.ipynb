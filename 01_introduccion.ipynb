{
 "cells": [
  {
   "cell_type": "markdown",
   "metadata": {
    "ein.tags": [
     "worksheet-0"
    ],
    "slideshow": {
     "slide_type": "slide"
    }
   },
   "source": [
    "# Aprendizaje computacional en grandes volúmenes de texto  \n",
    "\n",
    "## Mario Graff (mgraffg@ieee.org, mario.graff@infotec.mx)  \n",
    "## Sabino Miranda (sabino.miranda@infotec.mx)  \n",
    "## Daniela Moctezuma (dmoctezuma@centrogeo.edu.mx)  \n",
    "## Eric S. Tellez (eric.tellez@infotec.mx)  \n",
    "## CONACYT, INFOTEC y CentroGEO\n",
    "## [https://github.com/ingeotec](https://github.com/ingeotec)"
   ]
  },
  {
   "cell_type": "markdown",
   "metadata": {
    "ein.tags": [
     "worksheet-0"
    ],
    "slideshow": {
     "slide_type": "slide"
    }
   },
   "source": [
    "# ¿Qué es Big Data?"
   ]
  },
  {
   "cell_type": "markdown",
   "metadata": {
    "ein.tags": [
     "worksheet-0"
    ],
    "slideshow": {
     "slide_type": "fragment"
    }
   },
   "source": [
    "* [Journal of Big Data](http://journalofbigdata.springeropen.com)\n",
    "  * Captura de datos y almacenamiento  \n",
    "  * Visualización  \n",
    "  * Algoritmos de aprendizaje para Big Data  \n",
    "  * Herramientas para data mining  \n",
    "* [Big Data Research](http://www.journals.elsevier.com/big-data-research)  \n",
    "  * Todos los aspectos fundamentales a Big Data  \n",
    "  * Artículos en plataformas específicas para tratar Big Data  \n",
    "  * Promover ciencia de datos (Data Science) y colaboración interdisciplinaria  \n",
    "  * Uso de big data en dominios específicos  \n",
    "* [IEEE Transactions on Big Data](http://ieeexplore.ieee.org/xpl/RecentIssue.jsp?punumber=6687317)\n",
    "  * Investigación interdisciplinaria  \n",
    "  * Manejo de datos  \n",
    "  * Visualización  \n",
    "  * Infraestructura, rendimiento  "
   ]
  },
  {
   "cell_type": "markdown",
   "metadata": {
    "ein.tags": [
     "worksheet-0"
    ],
    "slideshow": {
     "slide_type": "slide"
    }
   },
   "source": [
    "# Data mining\n",
    "* [Data Mining and Knowledge Discovery](http://link.springer.com/journal/10618)\n",
    "  * Editorial - What to do with all this data?\n",
    "  * Extraer información de bases de datos\n",
    "  * Métodos de data mining\n",
    "  * Algoritmos para data mining\n",
    "  * Aplicaciones\n",
    "* Obtener conocimiento de los datos\n",
    "* Técnicas para procesar datos\n",
    "* Técnicas de aprendizaje\n"
   ]
  },
  {
   "cell_type": "markdown",
   "metadata": {
    "ein.tags": [
     "worksheet-0"
    ],
    "slideshow": {
     "slide_type": "slide"
    }
   },
   "source": [
    "# Ciencia de Datos\n",
    "* [International Journal of Data Science and Analytics](http://link.springer.com/journal/41060)\n",
    "  * Investigación guiada por los datos  \n",
    "  * Trabajo interdisciplinario\n",
    "  * Metodología, teorías, tecnologías y aplicaciones para los datos\n",
    "* Experto en el dominio  \n",
    "* Experto en la técnica  \n",
    "* Capacidad para manejo de información  "
   ]
  },
  {
   "cell_type": "markdown",
   "metadata": {
    "ein.tags": [
     "worksheet-0"
    ],
    "slideshow": {
     "slide_type": "slide"
    }
   },
   "source": [
    "# Objetivo"
   ]
  },
  {
   "cell_type": "markdown",
   "metadata": {
    "ein.tags": [
     "worksheet-0"
    ],
    "slideshow": {
     "slide_type": "fragment"
    }
   },
   "source": [
    "El alumno será capaz de crear modelos de texto multilenguaje aplicables a grandes volúmenes de información. Sobre estos modelos, el alumno será capaz de aplicar algoritmos de aprendizaje supervisado para diferentes dominios de aplicación, como por ejemplo, clasificadores de polaridad, determinar la autoría basado en el texto, determinar la temática de un texto, entre otras."
   ]
  },
  {
   "cell_type": "markdown",
   "metadata": {
    "ein.tags": [
     "worksheet-0"
    ],
    "slideshow": {
     "slide_type": "slide"
    }
   },
   "source": [
    "# Temas\n",
    "\n",
    "* Introducción  \n",
    "  * Motivación (análisis de sentimientos, detección de predadores, spam, género, edad, autoría en general, marketing, prestigio, etc)  \n",
    "  * Estado del arte (competencias)  \n",
    "  * Uso de herramientas: $\\mu$TC, Python, numpy, nltk, sklearn  \n"
   ]
  },
  {
   "cell_type": "markdown",
   "metadata": {
    "ein.tags": [
     "worksheet-0"
    ],
    "slideshow": {
     "slide_type": "subslide"
    }
   },
   "source": [
    "* Representación vectorial del texto  \n",
    "  * Normalización  \n",
    "  * Tokenización (n-words, q-grams, skip-grams)  \n",
    "  * Pesado de texto (TFIDF)  \n",
    "  * Medidas de similitud  \n",
    "* Aprendizaje supervisado  \n",
    "  * Modelo general de aprendizaje; Entrenamiento, test, score (accuracy, recall, precision, f1)  \n",
    "  * Máquinas de soporte vectorial (SVM)  \n",
    "  * Programación genética (EvoDAG)  \n",
    "  * Distant supervision  \n",
    "* $\\mu$TC  \n",
    "  * Pipeline de transformaciones  \n",
    "  * Optimización de parámetros  \n",
    "  * Clasificadores  \n",
    "  * Uso del $\\mu$TC  \n",
    "* Aplicaciones  \n",
    "  * Análisis de sentimientos  \n",
    "  * Determinación de autoría  \n",
    "  * Clasificación de noticias  \n",
    "  * Spam  \n",
    "  * Género y edad  \n",
    "* Conclusiones  \n"
   ]
  },
  {
   "cell_type": "markdown",
   "metadata": {
    "ein.tags": [
     "worksheet-0"
    ],
    "slideshow": {
     "slide_type": "slide"
    }
   },
   "source": [
    "# Introducción - [5V](https://www.linkedin.com/pulse/20140306073407-64875646-big-data-the-5-vs-everyone-must-know)\n",
    "\n",
    "* Volumen  \n",
    "Cantidad de datos generados\n",
    "\n",
    "* Velocidad  \n",
    "Generación de datos\n",
    "\n",
    "* Variedad  \n",
    "Tipos de datos generados \n",
    "\n",
    "* Veracidad  \n",
    "Calidad de los datos\n",
    "\n",
    "* Valor  \n",
    "Capacidad de generar valor"
   ]
  },
  {
   "cell_type": "markdown",
   "metadata": {
    "ein.tags": [
     "worksheet-0"
    ],
    "slideshow": {
     "slide_type": "subslide"
    }
   },
   "source": [
    "# Aprendizaje Computacional ... - ¿Big Data?\n",
    "\n",
    "* ¿Volumen?  \n",
    "Se puede aplicar a grandes volúmenes de texto\n",
    "\n",
    "* ¿Velocidad?  \n",
    "Se generar varios tweets por segundo\n",
    "\n",
    "* ¿Variedad?  \n",
    "... es texto no estructurado\n",
    "\n",
    "* Veracidad  \n",
    "... es comunicación informal\n",
    "\n",
    "* Valor  \n",
    "Minería de opinión."
   ]
  },
  {
   "cell_type": "markdown",
   "metadata": {
    "ein.tags": [
     "worksheet-0"
    ],
    "slideshow": {
     "slide_type": "slide"
    }
   },
   "source": [
    "# Herramientas de Big Data\n",
    "\n",
    "* [A survey on platforms for big data analytics](http://journalofbigdata.springeropen.com/articles/10.1186/s40537-014-0008-6)\n",
    "* [Hadoop](http://hadoop.apache.org)  \n",
    "Map / Reduce (problemas altamente paralelos)  \n",
    "* [Spark](http://spark.apache.org)  \n",
    "Resilient Distributed Dataset (RDD)  \n",
    "* [Berkeley Data Analytics Stack](https://amplab.cs.berkeley.edu/software/)\n",
    "* Sistema de archivos distribuidos  \n",
    "  * HDFS (Hadoop)  \n",
    "  * [gluster](https://www.gluster.org)  \n",
    "* Bases de datos horizontales  \n",
    "* Bases de datos NOSQL"
   ]
  },
  {
   "cell_type": "markdown",
   "metadata": {
    "ein.tags": [
     "worksheet-0"
    ],
    "slideshow": {
     "slide_type": "subslide"
    }
   },
   "source": [
    "# Que usamos\n",
    "\n",
    "* Cluster de [Penguin Computing](http://www.penguincomputing.com)  \n",
    "  * 1 cabeza con 32 hilos y 66 GB mem  \n",
    "  * 5 nodos con 32 hilos 198 o 128 GB mem  \n",
    "  * 1 nodo con dos tarjetas xeon phi\n",
    "* [CentOS 7](https://www.centos.org)\n",
    "* [slurm](http://slurm.schedmd.com) - Manejador de trabajos  \n",
    "* [gluster](https://www.gluster.org) - sistema de archivos scalable - 55 TB  \n",
    "* Network File System (NFS)\n",
    "* [Python](http://www.python.org)"
   ]
  },
  {
   "cell_type": "markdown",
   "metadata": {
    "ein.tags": [
     "worksheet-0"
    ],
    "slideshow": {
     "slide_type": "subslide"
    }
   },
   "source": [
    "# Herramientas propias\n",
    "* [B4MSA](https://github.com/ingeotec/b4msa)\n",
    "* [$\\mu$TC](https://github.com/ingeotec/microTC)"
   ]
  },
  {
   "cell_type": "markdown",
   "metadata": {
    "ein.tags": [
     "worksheet-0"
    ],
    "slideshow": {
     "slide_type": "subslide"
    }
   },
   "source": [
    "* ¿Dónde quedaron las herramientas de Big Data?"
   ]
  },
  {
   "cell_type": "markdown",
   "metadata": {
    "ein.tags": [
     "worksheet-0"
    ],
    "slideshow": {
     "slide_type": "slide"
    }
   },
   "source": [
    "# Motivación"
   ]
  },
  {
   "cell_type": "markdown",
   "metadata": {
    "ein.tags": [
     "worksheet-0"
    ],
    "slideshow": {
     "slide_type": "fragment"
    }
   },
   "source": [
    "* Generar valor\n",
    "* Resolver problemas interdisciplinarios\n",
    "* Problemas productivos del sector público y privado\n",
    "* Extender la frontera del conocimiento"
   ]
  },
  {
   "cell_type": "markdown",
   "metadata": {
    "ein.tags": [
     "worksheet-0"
    ],
    "slideshow": {
     "slide_type": "fragment"
    }
   },
   "source": [
    "# Qué problemas\n",
    "\n",
    "* Análisis de sentimientos\n",
    "* Detección de predadores\n",
    "* Detección de spam\n",
    "* Identificación de género\n",
    "* Identificación de edad\n",
    "* Marketing\n",
    "* Prestigio"
   ]
  },
  {
   "cell_type": "markdown",
   "metadata": {
    "ein.tags": [
     "worksheet-0"
    ],
    "slideshow": {
     "slide_type": "slide"
    }
   },
   "source": [
    "# Competencias\n",
    "* Análisis de sentimientos  \n",
    "  * SEMEVAL - Ingles  \n",
    "  * TASS - Español\n",
    "  * SENTIPOLC - Italiano\n",
    "* Autoría en [PAN 2016](http://pan.webis.de/index.html)  \n",
    "  * Edad - 18-24; 25-34; 35-49; 50-64; 65+\n",
    "  * Género  \n",
    "  * Español  \n",
    "  * Holandés  \n",
    "  * Ingles"
   ]
  },
  {
   "cell_type": "markdown",
   "metadata": {
    "ein.tags": [
     "worksheet-0"
    ],
    "slideshow": {
     "slide_type": "fragment"
    }
   },
   "source": [
    "# Categorización de texto\n",
    "  * Reuters 8, 10\n",
    "  * 20-Newsgroup\n",
    "  * WebKB\n",
    "  * CADE\n",
    "  * spam"
   ]
  },
  {
   "cell_type": "markdown",
   "metadata": {
    "ein.tags": [
     "worksheet-0"
    ],
    "slideshow": {
     "slide_type": "slide"
    }
   },
   "source": [
    "## Categorización de texto ##\n",
    "El problema consiste en, dado un texto $d$, determinar la(s) categoría(s) a la que pertenece en un conjunto $C$ de categorias, previamente conocido.\n",
    "\n",
    "Más formalmente:\n",
    "\n",
    "Dado un conjunto de categorias $\\cal{C} = \\{c_1, ..., c_m\\}$, determinar el subconjunto de categorias\n",
    "$C_d \\in \\wp(\\cal{C})$ a las que pertenece $d$. \n",
    "\n",
    "Notese que $C_t$ puede ser vacio o $\\cal{C}$.\n"
   ]
  },
  {
   "cell_type": "markdown",
   "metadata": {
    "ein.tags": [
     "worksheet-0"
    ],
    "slideshow": {
     "slide_type": "subslide"
    }
   },
   "source": [
    "## Clasificación de texto ##\n",
    "La _clasificación_ de texto es una especialización del problema de categorización, donde $|C_d| = 1$, esto es $d$ solo puede ser asignado a una categoría.\n",
    "\n",
    "Es un problema de interés en la industria y la acádemia, con aplicaciones variadas a distintas áreas del conocimiento.\n",
    "\n",
    "- Análisis de sentimiento\n",
    "- Determinación de autoría, e.g., género, edad, estilo, etc.\n",
    "- Detección de spam\n",
    "- Categorización de noticias\n",
    "- Clasificación de idioma"
   ]
  },
  {
   "cell_type": "code",
   "execution_count": 1,
   "metadata": {
    "autoscroll": "json-false",
    "collapsed": false,
    "ein.tags": [
     "worksheet-0"
    ],
    "slideshow": {
     "slide_type": "skip"
    }
   },
   "outputs": [],
   "source": [
    "from IPython.core.display import HTML, Image, Markdown\n",
    "import sys\n",
    "import json\n",
    "sys.path.append(\"microTC\")\n",
    "from microtc.textmodel import TextModel\n",
    "from itertools import combinations\n",
    "from graphviz import Digraph\n",
    "dot = Digraph(comment='microtc pipeline', format=\"png\")\n",
    "# dot.engine = 'circo'\n",
    "dot.graph_attr['rankdir'] = 'LR'\n",
    "dot.node('i', '', style=\"invis\")\n",
    "dot.node('n', 'Normalización')\n",
    "dot.node('t', 'Tokenización')\n",
    "dot.node('w', 'Pesado')\n",
    "dot.node('c', 'Clasificación')\n",
    "dot.node('o', '', style=\"invis\")\n",
    "dot.edge('i', 'n', label=\"texto entrada\")\n",
    "dot.edge('n', 't', label=\"texto normalizado\")\n",
    "dot.edge('t', 'w', label=\"bolsa de palabras\")\n",
    "dot.edge('w', 'c', label=\"vector con pesos\")\n",
    "dot.edge('c', 'o', label=\"clase\")\n",
    "pipeline = dot.render(\"fig-pipeline\", view=False)"
   ]
  },
  {
   "cell_type": "markdown",
   "metadata": {
    "ein.tags": [
     "worksheet-0"
    ],
    "slideshow": {
     "slide_type": "slide"
    }
   },
   "source": [
    "# Nuestro Enfoque #\n",
    "Por su complejidad, trabajar en NLP tiene una gran cantidad de problemas abiertos, en particular nosotros nos enfocamos en la clasificación de texto escrito de manera informal (e.g., Twitter).\n",
    "\n",
    "Para esto se utiliza un _pipeline_ estándar\n",
    "\n",
    "![Pipeline](fig-pipeline.png)\n"
   ]
  },
  {
   "cell_type": "markdown",
   "metadata": {
    "ein.tags": [
     "worksheet-0"
    ],
    "slideshow": {
     "slide_type": "slide"
    }
   },
   "source": [
    "# SEMEVAL2016  \n",
    "\n",
    "|Algorithm | Macro | Micro | Positive | Negative | Neutral |\n",
    "|--------|------|-----|-------|--------|-------|\n",
    "|[HP Haven](https://www.havenondemand.com) | **0.5631** | **0.5986** | 0.5704 | 0.4642 | **0.6547** |\n",
    "|[Google](http://cloud.google.com) |0.3858 | 0.3952 | 0.5606 | 0.3851 | 0.2118|\n",
    "|[Sentiment140](http://sentiment140.com) | 0.4901 | 0.5562 | 0.4900 | 0.3370 | 0.6433|\n",
    "|[Meaning cloud](http://www.meaningcloud.com) | 0.5171 | 0.5252 | 0.5718 | **0.4690** | 0.5104|\n",
    "|[B4MSA](https://github.com/ingeotec/b4msa) |0.4676 | 0.5280 | 0.5987 | 0.2922 | 0.5120|\n",
    "|[$\\mu$TC](https://github.com/ingeotec/microTC)|0.4748 | 0.5227 | 0.5958 | 0.3255 | 0.5030|\n",
    "|[B4MSA + EvoDAG](https://github.com/mgraffg/EvoDAG)|0.4853 | 0.4971 | 0.6107 | 0.4353 | 0.4101|\n",
    "|[B4MSA + EvoDAGv0.3.6](https://github.com/mgraffg/EvoDAG)|0.5016 | 0.5115 | **0.6145** | 0.4507 | 0.4395|\n",
    "|[B4MSA + EvoDAGv0.3.8](https://github.com/mgraffg/EvoDAG)|0.4834 | 0.4958 | 0.6156 | 0.4347 | 0.3999|\n"
   ]
  },
  {
   "cell_type": "markdown",
   "metadata": {
    "ein.tags": [
     "worksheet-0"
    ],
    "slideshow": {
     "slide_type": "slide"
    }
   },
   "source": [
    "# TASS 2015\n",
    "\n",
    "|Algorithm | Macro | Micro | Positive | Negative | Neutral |\n",
    "|--------|------|-----|-------|--------|-------|\n",
    "|[HP Haven](https://www.havenondemand.com) | 0.5011 | 0.5350 | 0.5354 | 0.3774 | 0.5905|\n",
    "|[Sentiment140](http://sentiment140.com) |0.0621 | 0.0590 | 0.1165 | 0.0836 | 0.0482|\n",
    "|[Meaning cloud](http://www.meaningcloud.com) |0.6431| 0.6500 | 0.7208 | 0.6073 | **0.6012**|\n",
    "|[B4MSA](https://github.com/ingeotec/b4msa) |0.6227 | 0.6330 | 0.7141 | 0.6720 | 0.4821|\n",
    "|[$\\mu$TC](https://github.com/ingeotec/microTC)|0.6286 | 0.6360 | 0.7207 | 0.6359 | 0.5292|\n",
    "|[B4MSA + EvoDAG](https://github.com/mgraffg/EvoDAG)|**0.6728** | **0.6740** | 0.7356 | **0.7026** | 0.5802|\n",
    "|[B4MSA + EvoDAGv0.3.6](https://github.com/mgraffg/EvoDAG)| 0.6724 | 0.6740 | **0.7361** | 0.7026 | 0.5785|\n",
    "|[B4MSA + EvoDAGv0.3.8](https://github.com/mgraffg/EvoDAG)| 0.6624 | 0.6640 | 0.7365 | 0.6897 | 0.5610|\n"
   ]
  },
  {
   "cell_type": "markdown",
   "metadata": {
    "ein.tags": [
     "worksheet-0"
    ],
    "slideshow": {
     "slide_type": "slide"
    }
   },
   "source": [
    "# $\\mu$TC - Instalación"
   ]
  },
  {
   "cell_type": "markdown",
   "metadata": {
    "ein.tags": [
     "worksheet-0"
    ],
    "slideshow": {
     "slide_type": "fragment"
    }
   },
   "source": [
    "Suponiendo que se tiene instalada la distribución de [anaconda](https://www.continuum.io)\n",
    "\n",
    "```bash\n",
    "conda install -c ingeotec microtc```"
   ]
  },
  {
   "cell_type": "markdown",
   "metadata": {
    "ein.tags": [
     "worksheet-0"
    ],
    "slideshow": {
     "slide_type": "fragment"
    }
   },
   "source": [
    "# $\\mu$TC - Optimizar parámetros"
   ]
  },
  {
   "cell_type": "markdown",
   "metadata": {
    "ein.tags": [
     "worksheet-0"
    ],
    "slideshow": {
     "slide_type": "fragment"
    }
   },
   "source": [
    "```bash\n",
    "microtc-params -k 0.7 -n 16 -s 32 -H -o semeval2016.params semeval2016-train.json.gz\n",
    "```"
   ]
  },
  {
   "cell_type": "markdown",
   "metadata": {
    "ein.tags": [
     "worksheet-0"
    ],
    "slideshow": {
     "slide_type": "fragment"
    }
   },
   "source": [
    "# $\\mu$TC - Generar modelo"
   ]
  },
  {
   "cell_type": "markdown",
   "metadata": {
    "ein.tags": [
     "worksheet-0"
    ],
    "slideshow": {
     "slide_type": "fragment"
    }
   },
   "source": [
    "```bash\n",
    "microtc-train -m semeval2016.params -o semeval2016.model semeval2016-train.json.gz\n",
    "```"
   ]
  },
  {
   "cell_type": "markdown",
   "metadata": {
    "ein.tags": [
     "worksheet-0"
    ],
    "slideshow": {
     "slide_type": "slide"
    }
   },
   "source": [
    "# Parámetros\n",
    "```json\n",
    "  {\n",
    "    \"_accuracy\": 0.61125,\n",
    "      ...\n",
    "    \"_macrof1\": 0.5435202072253765,\n",
    "    \"_microf1\": 0.61125,\n",
    "    \"_score\": 0.5435202072253765,\n",
    "    \"_time\": 12.07932186126709,\n",
    "    \"_weightedf1\": 0.5967396051322755,\n",
    "    \"del_diac\": true,\n",
    "    \"del_dup\": false,\n",
    "    \"del_punc\": true,\n",
    "    \"emo_option\": \"none\",\n",
    "    \"lc\": false,\n",
    "    \"num_option\": \"delete\",\n",
    "    \"tfidf\": true,\n",
    "    \"token_list\": [\n",
    "      -2,\n",
    "      -1,\n",
    "      5\n",
    "    ],\n",
    "    \"token_max_filter\": 1.0,\n",
    "    \"token_min_filter\": -1,\n",
    "    \"url_option\": \"group\",\n",
    "    \"usr_option\": \"group\"\n",
    "  }\n",
    "```"
   ]
  },
  {
   "cell_type": "markdown",
   "metadata": {
    "ein.tags": [
     "worksheet-0"
    ],
    "slideshow": {
     "slide_type": "slide"
    }
   },
   "source": [
    "# $\\mu$TC - predicción"
   ]
  },
  {
   "cell_type": "markdown",
   "metadata": {
    "ein.tags": [
     "worksheet-0"
    ],
    "slideshow": {
     "slide_type": "fragment"
    }
   },
   "source": [
    "```bash\n",
    "microtc-predict -m semeval2016.model -o semeval2016.predict semeval2016-gold.json.gz\n",
    "```"
   ]
  },
  {
   "cell_type": "markdown",
   "metadata": {
    "ein.tags": [
     "worksheet-0"
    ],
    "slideshow": {
     "slide_type": "fragment"
    }
   },
   "source": [
    "# $\\mu$TC - rendimiento "
   ]
  },
  {
   "cell_type": "markdown",
   "metadata": {
    "ein.tags": [
     "worksheet-0"
    ],
    "slideshow": {
     "slide_type": "fragment"
    }
   },
   "source": [
    "```bash\n",
    "microtc-perf semeval2016-gold.json.gz semeval2016.predict\n",
    "```"
   ]
  },
  {
   "cell_type": "markdown",
   "metadata": {
    "ein.tags": [
     "worksheet-0"
    ],
    "slideshow": {
     "slide_type": "slide"
    }
   },
   "source": [
    "# Rendimiento\n",
    "```json\n",
    "{\n",
    "  \"accuracy\": 0.5190965490500193,\n",
    "  \"f1_negative\": 0.29926410466067044,\n",
    "  \"f1_neutral\": 0.5098260673142083,\n",
    "  \"f1_positive\": 0.5855122160308616,\n",
    "  \"filename\": \"semeval2016.predict\",\n",
    "  \"macrof1\": 0.4648674626685801,\n",
    "  \"microf1\": 0.5190965490500193\n",
    "}\n",
    "```\n",
    "\n",
    "|Algorithm | Macro | Micro | Positive | Negative | Neutral |\n",
    "|--------|------|-----|-------|--------|-------|\n",
    "|[$\\mu$TC](https://github.com/ingeotec/microTC)|0.4748 | 0.5227 | 0.5958 | 0.3255 | 0.5030|"
   ]
  },
  {
   "cell_type": "markdown",
   "metadata": {
    "ein.tags": [
     "worksheet-0"
    ],
    "slideshow": {
     "slide_type": "slide"
    }
   },
   "source": [
    "# Prediciendo algunas oraciones"
   ]
  },
  {
   "cell_type": "code",
   "execution_count": 28,
   "metadata": {
    "autoscroll": "json-false",
    "collapsed": false,
    "ein.tags": [
     "worksheet-0"
    ],
    "slideshow": {
     "slide_type": "fragment"
    }
   },
   "outputs": [],
   "source": [
    "texts = ['good morning', 'this has been a bad day']"
   ]
  },
  {
   "cell_type": "code",
   "execution_count": 29,
   "metadata": {
    "autoscroll": "json-false",
    "collapsed": false,
    "ein.tags": [
     "worksheet-0"
    ],
    "slideshow": {
     "slide_type": "fragment"
    }
   },
   "outputs": [
    {
     "name": "stdout",
     "output_type": "stream",
     "text": [
      "/miniconda3/lib/python3.5/site-packages/sklearn/cross_validation.py:44: DeprecationWarning: This module was deprecated in version 0.18 in favor of the model_selection module into which all the refactored classes and functions are moved. Also note that the interface of the new CV iterators are different from that of this module. This module will be removed in 0.20.\r\n",
      "  \"This module will be removed in 0.20.\", DeprecationWarning)\r\n"
     ]
    }
   ],
   "source": [
    "import tempfile\n",
    "import json\n",
    "import os\n",
    "fname = tempfile.mktemp() + '.json'\n",
    "output = tempfile.mktemp() + '.json'\n",
    "with open(fname, 'w') as fpt:\n",
    "    [fpt.write(json.dumps(dict(text=i)) + '\\n') for i in texts]\n",
    "!microtc-predict -m dataset/sentiment/semeval2016.model -o $output $fname\n",
    "res = open(output).readlines()\n",
    "os.unlink(fname)\n",
    "os.unlink(output)"
   ]
  },
  {
   "cell_type": "code",
   "execution_count": 30,
   "metadata": {
    "autoscroll": "json-false",
    "collapsed": false,
    "ein.tags": [
     "worksheet-0"
    ],
    "slideshow": {
     "slide_type": "subslide"
    }
   },
   "outputs": [
    {
     "name": "stdout",
     "output_type": "stream",
     "text": [
      "{\n",
      "  \"voc_affinity\": 0.9230769230769231,\n",
      "  \"decision_function\": [\n",
      "    -1.0395310370570328,\n",
      "    -1.1618026724033566,\n",
      "    1.1018216452676164\n",
      "  ],\n",
      "  \"text\": \"good morning\",\n",
      "  \"klass\": \"positive\"\n",
      "}\n"
     ]
    }
   ],
   "source": [
    "print(json.dumps(json.loads(res[0]), indent=2))"
   ]
  },
  {
   "cell_type": "code",
   "execution_count": 31,
   "metadata": {
    "autoscroll": "json-false",
    "collapsed": false,
    "ein.tags": [
     "worksheet-0"
    ],
    "slideshow": {
     "slide_type": "subslide"
    }
   },
   "outputs": [
    {
     "name": "stdout",
     "output_type": "stream",
     "text": [
      "{\n",
      "  \"voc_affinity\": 0.90625,\n",
      "  \"decision_function\": [\n",
      "    0.4067712908825917,\n",
      "    -0.8207113613786958,\n",
      "    -0.4598729039214139\n",
      "  ],\n",
      "  \"text\": \"this has been a bad day\",\n",
      "  \"klass\": \"negative\"\n",
      "}\n"
     ]
    }
   ],
   "source": [
    "print(json.dumps(json.loads(res[1]), indent=2))"
   ]
  },
  {
   "cell_type": "markdown",
   "metadata": {
    "ein.tags": [
     "worksheet-0"
    ],
    "slideshow": {
     "slide_type": "slide"
    }
   },
   "source": [
    "# Servicio Web para Análisis de Sentimientos (SWAP)"
   ]
  },
  {
   "cell_type": "code",
   "execution_count": 7,
   "metadata": {
    "autoscroll": "json-false",
    "collapsed": false,
    "ein.tags": [
     "worksheet-0"
    ],
    "slideshow": {
     "slide_type": "fragment"
    }
   },
   "outputs": [
    {
     "name": "stdout",
     "output_type": "stream",
     "text": [
      "{\n",
      "  \"klass\": \"positive\",\n",
      "  \"q_voc_ratio\": 0.9148936170212766,\n",
      "  \"text\": \"buenos dias\",\n",
      "  \"decision_function\": [\n",
      "    1.8431360687325415,\n",
      "    -1.9357862078784351,\n",
      "    -1.2098490065744407\n",
      "  ]\n",
      "}\n"
     ]
    }
   ],
   "source": [
    "import requests\n",
    "data = dict(text='buenos dias')\n",
    "response = requests.post('http://dev.ingeotec.mx/sentiment',\n",
    "\t\t\t json=dict(data=data,\n",
    "\t\t\t\t   auth='ciia2016',\n",
    "\t\t\t\t   version='1.2',\n",
    "\t\t\t\t   language='es_mx')).json()\n",
    "print(json.dumps(response, indent=2))"
   ]
  },
  {
   "cell_type": "markdown",
   "metadata": {
    "ein.tags": [
     "worksheet-0"
    ],
    "slideshow": {
     "slide_type": "slide"
    }
   },
   "source": [
    "# Herramientas para tener en cuenta\n",
    "\n",
    "* [scikit-learn](http://scikit-learn.org/stable/)  \n",
    "Algoritmos de aprendizaje en Python\n",
    "* [Natural Language Toolkit](http://nltk.org/)  \n",
    "Herramientas de lenguaje natural en Python\n",
    "* [gensim](https://radimrehurek.com/gensim/)  \n",
    "Modelado de tópicos"
   ]
  },
  {
   "cell_type": "markdown",
   "metadata": {
    "ein.tags": [
     "worksheet-0"
    ],
    "slideshow": {
     "slide_type": "slide"
    }
   },
   "source": [
    "# ¿Preguntas?"
   ]
  },
  {
   "cell_type": "markdown",
   "metadata": {
    "ein.tags": [
     "worksheet-0"
    ],
    "slideshow": {
     "slide_type": "fragment"
    }
   },
   "source": [
    "* ¿Por qué en SEMEVAL2016 hay tanta diferencia en entrenamiento y prueba?  \n",
    "* Generar modelos para las diferentes competencias  \n",
    "* Analizar los parámetros que salen\n"
   ]
  }
 ],
 "metadata": {
  "anaconda-cloud": {},
  "celltoolbar": "Slideshow",
  "kernelspec": {
   "display_name": "Python [default]",
   "name": "python3"
  },
  "language_info": {
   "codemirror_mode": {
    "name": "ipython",
    "version": 3
   },
   "file_extension": ".py",
   "mimetype": "text/x-python",
   "name": "python",
   "nbconvert_exporter": "python",
   "pygments_lexer": "ipython3",
   "version": "3.5.2"
  },
  "name": "01_introduccion.ipynb",
  "nbpresent": {
   "slides": {
    "6e6bc7d0-bf74-4830-b8ee-7ac892782ecc": {
     "id": "6e6bc7d0-bf74-4830-b8ee-7ac892782ecc",
     "layout": "manual",
     "prev": {},
     "regions": {
      "b7cc1b39-cae9-4101-9945-7c81fce11420": {
       "attrs": {
        "height": 0.5732950191570881,
        "treemap:weight": 1,
        "width": 0.9385775862068967,
        "x": 0.032327586206896554,
        "y": 0.194904214559387
       },
       "content": {
        "cell": "1e2735f6-4e73-4205-8aa6-c760772bb2ac",
        "part": "source"
       },
       "id": "b7cc1b39-cae9-4101-9945-7c81fce11420"
      }
     },
     "theme": "80cae9e6-8db5-4a87-ac9f-9763d93ccd46"
    }
   },
   "themes": {
    "default": "80cae9e6-8db5-4a87-ac9f-9763d93ccd46",
    "theme": {
     "80cae9e6-8db5-4a87-ac9f-9763d93ccd46": {
      "id": "80cae9e6-8db5-4a87-ac9f-9763d93ccd46",
      "palette": {
       "19cc588f-0593-49c9-9f4b-e4d7cc113b1c": {
        "id": "19cc588f-0593-49c9-9f4b-e4d7cc113b1c",
        "rgb": [
         252,
         252,
         252
        ]
       },
       "31af15d2-7e15-44c5-ab5e-e04b16a89eff": {
        "id": "31af15d2-7e15-44c5-ab5e-e04b16a89eff",
        "rgb": [
         68,
         68,
         68
        ]
       },
       "50f92c45-a630-455b-aec3-788680ec7410": {
        "id": "50f92c45-a630-455b-aec3-788680ec7410",
        "rgb": [
         155,
         177,
         192
        ]
       },
       "c5cc3653-2ee1-402a-aba2-7caae1da4f6c": {
        "id": "c5cc3653-2ee1-402a-aba2-7caae1da4f6c",
        "rgb": [
         43,
         126,
         184
        ]
       },
       "efa7f048-9acb-414c-8b04-a26811511a21": {
        "id": "efa7f048-9acb-414c-8b04-a26811511a21",
        "rgb": [
         25.118061674008803,
         73.60176211453744,
         107.4819383259912
        ]
       }
      },
      "rules": {
       "blockquote": {
        "color": "50f92c45-a630-455b-aec3-788680ec7410"
       },
       "code": {
        "font-family": "Anonymous Pro"
       },
       "h1": {
        "color": "c5cc3653-2ee1-402a-aba2-7caae1da4f6c",
        "font-family": "Lato",
        "font-size": 8
       },
       "h2": {
        "color": "c5cc3653-2ee1-402a-aba2-7caae1da4f6c",
        "font-family": "Lato",
        "font-size": 6
       },
       "h3": {
        "color": "50f92c45-a630-455b-aec3-788680ec7410",
        "font-family": "Lato",
        "font-size": 5.5
       },
       "h4": {
        "color": "c5cc3653-2ee1-402a-aba2-7caae1da4f6c",
        "font-family": "Lato",
        "font-size": 5
       },
       "h5": {
        "font-family": "Lato"
       },
       "h6": {
        "font-family": "Lato"
       },
       "h7": {
        "font-family": "Lato"
       },
       "pre": {
        "font-family": "Anonymous Pro",
        "font-size": 4
       }
      },
      "text-base": {
       "font-family": "Merriweather",
       "font-size": 4
      }
     }
    }
   }
  }
 },
 "nbformat": 4,
 "nbformat_minor": 1
}
