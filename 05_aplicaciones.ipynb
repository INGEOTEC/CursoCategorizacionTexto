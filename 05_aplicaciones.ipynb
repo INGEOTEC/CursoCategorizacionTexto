{
 "cells": [
  {
   "cell_type": "markdown",
   "metadata": {
    "ein.tags": [
     "worksheet-0"
    ],
    "slideshow": {
     "slide_type": "slide"
    }
   },
   "source": [
    "# Aprendizaje computacional en grandes volúmenes de texto  \n",
    "\n",
    "## Mario Graff (mgraffg@ieee.org, mario.graff@infotec.mx)  \n",
    "## Sabino Miranda (sabino.miranda@infotec.mx)  \n",
    "## Daniela Moctezuma (dmoctezuma@centrogeo.edu.mx)  \n",
    "## Eric S. Tellez (eric.tellez@infotec.mx)  \n",
    "## CONACYT, INFOTEC y CentroGEO\n",
    "## [https://github.com/ingeotec](https://github.com/ingeotec)"
   ]
  },
  {
   "cell_type": "markdown",
   "metadata": {
    "ein.tags": [
     "worksheet-0"
    ],
    "slideshow": {
     "slide_type": "slide"
    }
   },
   "source": [
    "* Aplicaciones  \n",
    "  * Análisis de sentimientos  \n",
    "  * Determinación de autoría  \n",
    "  * Clasificación de noticias  \n",
    "  * Spam  \n",
    "  * Género y edad  \n",
    "* Conclusiones  "
   ]
  },
  {
   "cell_type": "markdown",
   "metadata": {
    "ein.tags": [
     "worksheet-0"
    ],
    "slideshow": {
     "slide_type": "slide"
    }
   },
   "source": [
    "# Análisis de Sentimientos\n",
    "\n",
    "* $\\mu$TC\n",
    "* Supervisión a distancia (D.S.)\n",
    "* Transferencia de conocimiento a otros lenguajes"
   ]
  },
  {
   "cell_type": "markdown",
   "metadata": {
    "ein.tags": [
     "worksheet-0"
    ],
    "slideshow": {
     "slide_type": "subslide"
    }
   },
   "source": [
    "## EvoDAG\n",
    "![EvoDAG](EvoDAG.png)"
   ]
  },
  {
   "cell_type": "markdown",
   "metadata": {
    "ein.tags": [
     "worksheet-0"
    ],
    "slideshow": {
     "slide_type": "subslide"
    }
   },
   "source": [
    "## EvoDAG\n",
    "![EvoDAG](EvoDAG_prediction.png)"
   ]
  },
  {
   "cell_type": "markdown",
   "metadata": {
    "ein.tags": [
     "worksheet-0"
    ],
    "slideshow": {
     "slide_type": "subslide"
    }
   },
   "source": [
    "## $\\mu$TC + EvoDAG\n",
    "![$\\mu$TC + EvoDAG](microTC_EvoDAG.png)"
   ]
  },
  {
   "cell_type": "markdown",
   "metadata": {
    "ein.tags": [
     "worksheet-0"
    ],
    "slideshow": {
     "slide_type": "subslide"
    }
   },
   "source": [
    "## $\\mu$TC + EvoDAG\n",
    "![$\\mu$TC + EvoDAG](microTC_EvoDAG_prediction.png)"
   ]
  },
  {
   "cell_type": "markdown",
   "metadata": {
    "ein.tags": [
     "worksheet-0"
    ],
    "slideshow": {
     "slide_type": "subslide"
    }
   },
   "source": [
    "## INEGI\n",
    "Algoritmo | Macro $F_1$ | Positivo | Negativo | Neutro\n",
    "----------|------------|----------|----------|--------\n",
    "$\\mu$TC | 0.5061 | 0.7631 | 0.5376 | 0.2174\n",
    "$\\mu$TC + EvoDAG | 0.5691 | 0.7566 | 0.5849 | 0.3659\n",
    "Ord. Voc. Aff. | 0.5704 | 0.7529 | 0.5843 | 0.3739\n",
    "D.S. all tweets| 0.4783 | 0.6200 | 0.5396 | 0.2755\n",
    "D.S. | 0.4796 | 0.6269 | 0.5422 | 0.2698"
   ]
  },
  {
   "cell_type": "markdown",
   "metadata": {
    "ein.tags": [
     "worksheet-0"
    ],
    "slideshow": {
     "slide_type": "fragment"
    }
   },
   "source": [
    "## TASS 2015\n",
    "Algoritmo | Macro $F_1$ | Positivo | Negativo | Neutro\n",
    "----------|------------|----------|----------|--------\n",
    "$\\mu$TC         |0.6270 | 0.7217 | 0.6403 | 0.5189\n",
    "$\\mu$TC + EvoDAG|0.6420 | 0.7288 | 0.6430 | 0.5541\n",
    "Ord. Voc. Aff.  |0.6352 | 0.7139 | 0.6413 | 0.5504\n",
    "D.S. all tweets |0.5439 | 0.6108 | 0.6000 | 0.4209\n",
    "D.S.            |0.5439 | 0.6108 | 0.6000 | 0.4209"
   ]
  },
  {
   "cell_type": "markdown",
   "metadata": {
    "ein.tags": [
     "worksheet-0"
    ],
    "slideshow": {
     "slide_type": "subslide"
    }
   },
   "source": [
    "## SemEval 2015\n",
    "Algoritmo | Macro $F_1$ | Positivo | Negativo | Neutro\n",
    "----------|------------|----------|----------|--------\n",
    "$\\mu$TC         |0.5815 | 0.6430 | 0.4333 | 0.6681\n",
    "$\\mu$TC + EvoDAG|0.5848 | 0.6322 | 0.4894 | 0.6327\n",
    "Ord. Voc. Aff.  |0.5756 | 0.6292 | 0.4769 | 0.6207\n",
    "D.S. all tweets |0.5194 | 0.5696 | 0.4480 | 0.5407\n",
    "D.S.            |0.5217 | 0.5622 | 0.4543 | 0.5485"
   ]
  },
  {
   "cell_type": "markdown",
   "metadata": {
    "ein.tags": [
     "worksheet-0"
    ],
    "slideshow": {
     "slide_type": "fragment"
    }
   },
   "source": [
    "## SemEval 2016\n",
    "Algoritmo | Macro $F_1$ | Positivo | Negativo | Neutro\n",
    "----------|------------|----------|----------|--------\n",
    "$\\mu$TC         |0.4638 | 0.5907 | 0.2980 | 0.5026\n",
    "$\\mu$TC + EvoDAG|0.5229 | 0.6223 | 0.4564 | 0.4901\n",
    "Ord. Voc. Aff.  |0.5144 | 0.6154 | 0.4472 | 0.4807\n",
    "D.S. all tweets |0.4664 | 0.5753 | 0.4068 | 0.4172\n",
    "D.S.            |0.4431 | 0.5577 | 0.3926 | 0.3790"
   ]
  },
  {
   "cell_type": "markdown",
   "metadata": {
    "ein.tags": [
     "worksheet-0"
    ],
    "slideshow": {
     "slide_type": "subslide"
    }
   },
   "source": [
    "## Distant Supervision\n",
    "\n",
    " ![Distant Supervision](perf.png)"
   ]
  },
  {
   "cell_type": "markdown",
   "metadata": {
    "ein.tags": [
     "worksheet-0"
    ],
    "slideshow": {
     "slide_type": "subslide"
    }
   },
   "source": [
    "## EvoDAG + Transferir Conocimiento\n",
    "![EvoDAG](EvoDAG_prediction_TKn.png)"
   ]
  },
  {
   "cell_type": "markdown",
   "metadata": {
    "ein.tags": [
     "worksheet-0"
    ],
    "slideshow": {
     "slide_type": "subslide"
    }
   },
   "source": [
    "## EvoDAG + Transferir Conocimiento\n",
    "\n",
    "Model | INEGI | TASS2015 | SemEval2015 | SemEval2016 \n",
    "------|-------|----------|-------------|-------------\n",
    "INEGI | 0.4796 | 0.4393 | 0.4759 | 0.4312\n",
    "TASS2015 | 0.4910 | 0.5439 | 0.5065 | 0.4652\n",
    "SemEval2015 | 0.4690 | 0.4491 | 0.5217 | 0.4526\n",
    "SemEval2016 | 0.4383 | 0.4504 | 0.4684 | 0.4431"
   ]
  },
  {
   "cell_type": "markdown",
   "metadata": {
    "ein.tags": [
     "worksheet-0"
    ],
    "slideshow": {
     "slide_type": "slide"
    }
   },
   "source": [
    "## Determinación de autoría\n",
    "* (PAN)[http://pan.webis.de/index.html] Eventos de identificación de texto.\n",
    "* Identificar la autoría basado en su estilo\n",
    "* Tarea\n",
    "  * genero\n",
    "  * edad\n",
    "  * genero - edad\n",
    "* Lenguajes\n",
    "  * Español\n",
    "  * Inglés\n",
    "  "
   ]
  },
  {
   "cell_type": "markdown",
   "metadata": {
    "ein.tags": [
     "worksheet-0"
    ],
    "slideshow": {
     "slide_type": "fragment"
    }
   },
   "source": [
    "* [PAN2013](http://pan.webis.de/clef13/pan13-web/index.html)\n",
    "* [PAN2016](http://pan.webis.de/clef16/pan16-web/author-identification.html)"
   ]
  },
  {
   "cell_type": "markdown",
   "metadata": {
    "ein.tags": [
     "worksheet-0"
    ],
    "slideshow": {
     "slide_type": "subslide"
    }
   },
   "source": [
    "```json\n",
    "{\"text\": [\"Domingo termina Horario de Verano. A mi la verdad me encanta esta \\u00e9poca del a\\u00f1o x q los d\\u00edas x alguna razon parece q me \\\"duran mas\\\".\", \"@ClaudioXGG a mi me preocupa mucho la distancia con la Sociedad q Reforma Fiscal q vendieron a @EPN caus\\u00f3 en forma innecesaria.\"], \"age_group\": \"35-49\", \"klass\": \"male\", \"gender\": \"male\"} \n",
    "```"
   ]
  },
  {
   "cell_type": "markdown",
   "metadata": {
    "ein.tags": [
     "worksheet-0"
    ],
    "slideshow": {
     "slide_type": "subslide"
    }
   },
   "source": [
    "## PAN2013 - Género\n",
    "### Inglés\n",
    "Approach | Accuracy\n",
    "---------|----------\n",
    "Meina et al. | 0.5921\n",
    "microTC | 0.5867\n",
    "Santosh et al. | 0.5816\n",
    "Pastor L. et al. | 0.5690\n",
    "\n"
   ]
  },
  {
   "cell_type": "markdown",
   "metadata": {
    "ein.tags": [
     "worksheet-0"
    ],
    "slideshow": {
     "slide_type": "fragment"
    }
   },
   "source": [
    "## PAN2013 - Género\n",
    "### Español\n",
    "\n",
    "Approach | Accuracy\n",
    "---------|----------\n",
    "microTC | 0.6750\n",
    "Santosh et al. | 0.6473\n",
    "Pastor L. et al. | 0.6299\n",
    "Cruz et al. | 0.6165"
   ]
  },
  {
   "cell_type": "markdown",
   "metadata": {
    "ein.tags": [
     "worksheet-0"
    ],
    "slideshow": {
     "slide_type": "subslide"
    }
   },
   "source": [
    "## PAN2013 - Edad\n",
    "### Inglés\n",
    "\n",
    "* Rango de 10, 20, 30 años\n",
    "\n",
    "Approach | Accuracy\n",
    "---------|----------\n",
    "microTC | 0.6605\n",
    "Pastor L. et al. | 0.6572\n",
    "Meina et al. | 0.6491\n",
    "Santosh et al. | 0.6408\n",
    "\n"
   ]
  },
  {
   "cell_type": "markdown",
   "metadata": {
    "ein.tags": [
     "worksheet-0"
    ],
    "slideshow": {
     "slide_type": "fragment"
    }
   },
   "source": [
    "## PAN2013 - Edad\n",
    "### Español\n",
    "\n",
    "Approach | Accuracy\n",
    "---------|----------\n",
    "microTC | 0.6897\n",
    "Pastor L. et al. | 0.6558\n",
    "Santosh et al. | 0.6430\n",
    "Cruz et al. | 0.6219"
   ]
  },
  {
   "cell_type": "markdown",
   "metadata": {
    "ein.tags": [
     "worksheet-0"
    ],
    "slideshow": {
     "slide_type": "slide"
    }
   },
   "source": [
    "## authorship - CCA\n",
    "### JimGilchrist\n",
    "\n",
    "Hong Kong Dragon Airlines (Dragonair) is about to buy two new Airbus Industrie consortium aircraft and lease another to cope with increasing demand on its routes into China, industry sources told Reuters.\n",
    "\n",
    "...\n",
    "\n",
    "Dragonair recently began new services to the Chinese city of Qingdao and Khaohsiung in Taiwan. It also has full scheduled cargo rights on two of its Chinese routes to Xian and Chengdu and says it has plans for additional Chinese services to Chongqing, Urumqi and Shantou.\n",
    "Other shareholders in Dragonair are the Chinese state-owned China National Aviation Corp with 36 percent, China-backed CITIC Pacific Ltd with 29 percent and Cathay's parent, Swire Pacific Ltd with eight percent. --Air Cargo Newsroom Tel+44 171 542 7706 Fax +44 171 542 5017\n"
   ]
  },
  {
   "cell_type": "markdown",
   "metadata": {
    "ein.tags": [
     "worksheet-0"
    ],
    "slideshow": {
     "slide_type": "subslide"
    }
   },
   "source": [
    "## authorship - CCA\n",
    "\n",
    "Approach | accuracy | macro-f1 | micro-f1\n",
    "---------|----------|----------|---------|\n",
    "microTC | 0.7680 | 0.7544 |0.7680\n",
    "Escalante et al. 2015 | 0.7372 | 0.7032 | -\n",
    "Cummins et al. | 0.1000 |0.0182 | -"
   ]
  },
  {
   "cell_type": "markdown",
   "metadata": {
    "ein.tags": [
     "worksheet-0"
    ],
    "slideshow": {
     "slide_type": "subslide"
    }
   },
   "source": [
    "## authorship - NFL\n",
    "### Joe Lapointe\n",
    "\n",
    "Last season, the consistent strength of the GiantsÕ offense was a combination of three running backs known as Earth, Wind and Fire.\n",
    "\n",
    "It was meant as a compliment, but those elements of nature can also spell disaster, and this seasonÕs fortunes have bordered on that.\n",
    "\n",
    "On Tuesday Ahmad Bradshaw (Fire) was on crutches with at least a sprained left ankle, according to the Giants. The foot was in a protective boot and it was uncertain if he could play on Thursday night at Denver, or if he would even make the trip.\n",
    "\n",
    "ÒWeÕll see,Ó Coach Tom Coughlin said. Coughlin said Bradshaw left SundayÕs 34-31 victory over Atlanta with what the Giants thought was a routine sprain.\n",
    "\n",
    "ÒBut, evidently, it is more severe than that,Ó Coughlin said. For most of the season, Bradshaw has played with a fractured bone in the small toe of his right foot and has practiced rarely.\n",
    "\n",
    "..."
   ]
  },
  {
   "cell_type": "markdown",
   "metadata": {
    "ein.tags": [
     "worksheet-0"
    ],
    "slideshow": {
     "slide_type": "subslide"
    }
   },
   "source": [
    "## authorship - NFL\n",
    "\n",
    "Approach | accuracy | macro-f1 | micro-f1\n",
    "---------|----------|----------|---------|\n",
    " microTC | 0.8444 | 0.8403 | 0.8444\n",
    "Escalante et al. 2015 | 0.8376 | 0.7637 | -\n",
    "Cummins et al. | 0.7778 | 0.7654 | -"
   ]
  },
  {
   "cell_type": "markdown",
   "metadata": {
    "ein.tags": [
     "worksheet-0"
    ],
    "slideshow": {
     "slide_type": "subslide"
    }
   },
   "source": [
    "## authorship\n",
    "\n",
    "* CCA\n",
    "* NFL\n",
    "* Business\n",
    "* Poetry\n",
    "* Travel\n",
    "* Cricket"
   ]
  },
  {
   "cell_type": "markdown",
   "metadata": {
    "ein.tags": [
     "worksheet-0"
    ],
    "slideshow": {
     "slide_type": "slide"
    }
   },
   "source": [
    "## OHSUMED\n",
    "\n",
    "* Colección de 348,566 (se uso un subset de 20K)\n",
    "* MEDLINE,\n",
    "* Título\n",
    "* Resumen\n",
    "* Identificar el sujeto de estudio."
   ]
  },
  {
   "cell_type": "markdown",
   "metadata": {
    "ein.tags": [
     "worksheet-0"
    ],
    "slideshow": {
     "slide_type": "subslide"
    }
   },
   "source": [
    "```json\n",
    "{\"text\": \"Haemophilus influenzae meningitis with prolonged hospital course.\\n A retrospective evaluation of Haemophilus influenzae type b meningitis observed over a 2-year period documented 86 cases.\\n Eight of these patients demonstrated an unusual clinical course characterized by persistent fever (duration: greater than 10 days), ... had no sequelae.\\n\", \"klass\": \"C01\"}\n",
    "```"
   ]
  },
  {
   "cell_type": "markdown",
   "metadata": {
    "ein.tags": [
     "worksheet-0"
    ],
    "slideshow": {
     "slide_type": "subslide"
    }
   },
   "source": [
    "name | accuracy | macro-f1 | micro-f1\n",
    "-----|----------|----------|----------\n",
    "Until 2015 | ~0.40 | - | -\n",
    "Huynh et al. 2015* | 0.5690 | - | -\n",
    "microTC | 0.4611 | 0.3959 | 0.4611\n"
   ]
  },
  {
   "cell_type": "markdown",
   "metadata": {
    "ein.tags": [
     "worksheet-0"
    ],
    "slideshow": {
     "slide_type": "slide"
    }
   },
   "source": [
    "## Texto pre-procesado\n",
    "\n",
    "* 20 new groups\n",
    "* Reuters\n",
    "  * 8 clases\n",
    "  * 10 clases\n",
    "  * 52\n",
    "* cade\n",
    "* webkb  "
   ]
  },
  {
   "cell_type": "markdown",
   "metadata": {
    "ein.tags": [
     "worksheet-0"
    ],
    "slideshow": {
     "slide_type": "subslide"
    }
   },
   "source": [
    "## cade\n",
    "```json\n",
    "{\"text\": \"br br email arvores arvores http www apoio mascote natureza vida links foram animais animais brasileira alunos andar sp desenvolvido projeto carlos guarulhos associacao associacao associacao associacao paulista maos homens homens homens uniao mesquita saudavel acao htm coragem diretoria aguia plantas plantas org org universo tradicional tiveram federacao garra penetrar tornaram assasinadas taz sobreviveram cruelmente shu barranco fontagua homenageamos homenageamos homenageamos insanas heroicamente devastadora kuoshu mundomagico kuo paraventi\", \"klass\": \"08_cultura\"}\n",
    "```"
   ]
  },
  {
   "cell_type": "markdown",
   "metadata": {
    "ein.tags": [
     "worksheet-0"
    ],
    "slideshow": {
     "slide_type": "slide"
    }
   },
   "source": [
    "# Preguntas"
   ]
  }
 ],
 "metadata": {
  "anaconda-cloud": {},
  "kernelspec": {
   "display_name": "Python [conda root]",
   "name": "conda-root-py"
  },
  "language_info": {
   "codemirror_mode": {
    "name": "ipython",
    "version": 3
   },
   "file_extension": ".py",
   "mimetype": "text/x-python",
   "name": "python",
   "nbconvert_exporter": "python",
   "pygments_lexer": "ipython3",
   "version": "3.5.2"
  },
  "name": "05_aplicaciones.ipynb"
 },
 "nbformat": 4,
 "nbformat_minor": 1
}
