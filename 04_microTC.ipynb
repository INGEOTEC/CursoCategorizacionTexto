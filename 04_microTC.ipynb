{
 "cells": [
  {
   "cell_type": "markdown",
   "metadata": {
    "ein.tags": [
     "worksheet-0"
    ],
    "slideshow": {
     "slide_type": "slide"
    }
   },
   "source": [
    "# Aprendizaje computacional en grandes volúmenes de texto  \n",
    "\n",
    "## Mario Graff (mgraffg@ieee.org, mario.graff@infotec.mx)  \n",
    "## Sabino Miranda (sabino.miranda@infotec.mx)  \n",
    "## Daniela Moctezuma (dmoctezuma@centrogeo.edu.mx)  \n",
    "## Eric S. Tellez (eric.tellez@infotec.mx)  \n",
    "## CONACYT, INFOTEC y CentroGEO\n",
    "## [https://github.com/ingeotec](https://github.com/ingeotec)"
   ]
  },
  {
   "cell_type": "markdown",
   "metadata": {
    "ein.tags": [
     "worksheet-0"
    ],
    "slideshow": {
     "slide_type": "slide"
    }
   },
   "source": [
    "* $\\mu$TC  \n",
    "  * Pipeline de transformaciones  \n",
    "  * Optimización de parámetros  \n",
    "  * Clasificadores  \n",
    "  * Uso del $\\mu$TC  "
   ]
  },
  {
   "cell_type": "markdown",
   "metadata": {
    "ein.tags": [
     "worksheet-0"
    ],
    "slideshow": {
     "slide_type": "subslide"
    }
   },
   "source": [
    "* Aplicaciones  \n",
    "  * Análisis de sentimientos  \n",
    "  * Determinación de autoría  \n",
    "  * Clasificación de noticias  \n",
    "  * Spam  \n",
    "  * Género y edad  \n",
    "* Conclusiones  "
   ]
  },
  {
   "cell_type": "markdown",
   "metadata": {
    "ein.tags": [
     "worksheet-0"
    ],
    "slideshow": {
     "slide_type": "slide"
    }
   },
   "source": [
    "# Transformaciones\n",
    "![Pipeline](fig-pipeline.png)\n"
   ]
  },
  {
   "cell_type": "markdown",
   "metadata": {
    "ein.tags": [
     "worksheet-0"
    ],
    "slideshow": {
     "slide_type": "subslide"
    }
   },
   "source": [
    "## Archivos\n",
    "* classifier.py\n",
    "* command_line.py\n",
    "* emoticons.py\n",
    "* params.py\n",
    "* scorewrapper.py\n",
    "* textmodel.py\n",
    "* utils.py"
   ]
  },
  {
   "cell_type": "markdown",
   "metadata": {
    "ein.tags": [
     "worksheet-0"
    ],
    "slideshow": {
     "slide_type": "slide"
    }
   },
   "source": [
    "# Transformaciones (textmodel.py)\n",
    "\n",
    "1. tokenizador\n",
    "2. dictionario\n",
    "3. filtrado de términos\n",
    "4. TFIDF"
   ]
  },
  {
   "cell_type": "markdown",
   "metadata": {
    "ein.tags": [
     "worksheet-0"
    ],
    "slideshow": {
     "slide_type": "subslide"
    }
   },
   "source": [
    "```python\n",
    "class TextModel:\n",
    "    def __init__(self, ...):\n",
    "\t...\n",
    "\t# tokenizador\n",
    "        docs = [self.tokenize(d) for d in docs]\n",
    "\t# dictionario\n",
    "        self.dictionary = corpora.Dictionary(docs)\n",
    "        corpus = [self.dictionary.doc2bow(d) for d in docs]\n",
    "        if self.token_min_filter != 1 or self.token_max_filter != 1.0:\n",
    "\t    ...\n",
    "            self.dictionary.filter_extremes(no_below=self.token_min_filter,...)\n",
    "\t# TFIDF\n",
    "        if self.tfidf:\n",
    "            self.model = TfidfModel(corpus)\n",
    "        else:\n",
    "            self.model = None```"
   ]
  },
  {
   "cell_type": "markdown",
   "metadata": {
    "ein.tags": [
     "worksheet-0"
    ],
    "slideshow": {
     "slide_type": "slide"
    }
   },
   "source": [
    "# Normalizadores multilenguaje\n",
    "\n",
    "|   nombre  | valores             |        descripción                   |\n",
    "|-----------|---------------------|--------------------------------------|\n",
    "|\tdel-punc | yes, no | Determina si las puntuaciones deben removerse |\n",
    "|\tdel-d1   | yes, no | Determina si se deben borrar letras repetidas |\n",
    "|\tdel-diac | yes, no | Determina si los simbolos que no ocupan espacios deben ser removidos |\n",
    "|\tlc       | yes, no | Determina si los símbolos deben ser normalizados en minúsculas |\n",
    "|\temo      | remove, group, none | Controla como deben tratarse los emoticones |\n",
    "|\tnum      | remove, group, none | `........................` números |\n",
    "|\turl      | remove, group, none | `........................` urls |\n",
    "|\tusr      | remove, group, none | `........................` usuarios |\n"
   ]
  },
  {
   "cell_type": "markdown",
   "metadata": {
    "ein.tags": [
     "worksheet-0"
    ],
    "slideshow": {
     "slide_type": "subslide"
    }
   },
   "source": [
    "## Normalización (textmodel.py)\n",
    "\n",
    "1. emo\n",
    "2. lc\n",
    "3. num\n",
    "4. url\n",
    "5. usr\n",
    "6. del-punc, del-diac y del-d1"
   ]
  },
  {
   "cell_type": "markdown",
   "metadata": {
    "ein.tags": [
     "worksheet-0"
    ],
    "slideshow": {
     "slide_type": "subslide"
    }
   },
   "source": [
    "```python\n",
    "class TextModel:\n",
    "    def __init__(...):\n",
    "\t...\n",
    "        if emo_option == OPTION_NONE:\n",
    "            self.emo_map = None\n",
    "        else:\n",
    "            self.emo_map = EmoticonClassifier()\n",
    "\t...\n",
    "    \n",
    "    def _tokenize(self, text):\n",
    "\t...\n",
    "\t# emo\n",
    "        if self.emo_map:\n",
    "            text = self.emo_map.replace(text, option=self.emo_option)\n",
    "```"
   ]
  },
  {
   "cell_type": "markdown",
   "metadata": {
    "ein.tags": [
     "worksheet-0"
    ],
    "slideshow": {
     "slide_type": "subslide"
    }
   },
   "source": [
    "```python\n",
    "class TextModel:\n",
    "    def _tokenize(self, text):\n",
    "\t...\n",
    "\t# lc\n",
    "\tif self.lc:\n",
    "            text = text.lower()```"
   ]
  },
  {
   "cell_type": "markdown",
   "metadata": {
    "ein.tags": [
     "worksheet-0"
    ],
    "slideshow": {
     "slide_type": "subslide"
    }
   },
   "source": [
    "```python\n",
    "class TextModel:\n",
    "    def _tokenize(self, text):\n",
    "\t...\n",
    "\t# num\n",
    "        if self.num_option == OPTION_DELETE:\n",
    "            text = re.sub(r\"\\d+\\.?\\d+\", \"\", text)\n",
    "        elif self.num_option == OPTION_GROUP:\n",
    "            text = re.sub(r\"\\d+\\.?\\d+\", \"_num\", text)\n",
    "\t# url\n",
    "        if self.url_option == OPTION_DELETE:\n",
    "            text = re.sub(r\"https?://\\S+\", \"\", text)\n",
    "        elif self.url_option == OPTION_GROUP:\n",
    "            text = re.sub(r\"https?://\\S+\", \"_url\", text)\n",
    "\t# usr\n",
    "        if self.usr_option == OPTION_DELETE:\n",
    "            text = re.sub(r\"@\\S+\", \"\", text)\n",
    "        elif self.usr_option == OPTION_GROUP:\n",
    "            text = re.sub(r\"@\\S+\", \"_usr\", text)\n",
    "\t\n",
    "```"
   ]
  },
  {
   "cell_type": "markdown",
   "metadata": {
    "ein.tags": [
     "worksheet-0"
    ],
    "slideshow": {
     "slide_type": "subslide"
    }
   },
   "source": [
    "```python\n",
    "class TextModel:\n",
    "    def _tokenize(self, text):\n",
    "\t...\n",
    "\t# del-punc, del-diac y del-d1\n",
    "\ttext = norm_chars(text, ...)```"
   ]
  },
  {
   "cell_type": "markdown",
   "metadata": {
    "ein.tags": [
     "worksheet-0"
    ],
    "slideshow": {
     "slide_type": "slide"
    }
   },
   "source": [
    "# Tokenizadores\n",
    "Los tokenizadores son en realidad una lista de tokenizadores, y están definidos tokenizer un elemento en $\\wp{(\\text{n-words} \\cup \\text{q-grams} \\cup \\text{skip-grams})} \\setminus \\{\\emptyset\\}$\n",
    "\n",
    "|   nombre  | valores             |        descripción                   |\n",
    "|-----------|---------------------|--------------------------------------|\n",
    "|\tn-words    | $\\{1,2,3\\}$      | Longitud de n-gramas de palabras (n-words) |\n",
    "|\tq-grams  | $\\{1,2,3,4,5,6,7\\}$ | Longitud de q-gramas de caracteres) |\n",
    "|\tskip-grams  | $\\{(2,1), (3, 1), (2, 2), (3, 2)\\}$ | Lista de skip-grams|\n"
   ]
  },
  {
   "cell_type": "markdown",
   "metadata": {
    "ein.tags": [
     "worksheet-0"
    ],
    "slideshow": {
     "slide_type": "subslide"
    }
   },
   "source": [
    "## Tokenización\n",
    "\n",
    "1. n-words\n",
    "2. q-grams\n",
    "3. skip-grams"
   ]
  },
  {
   "cell_type": "markdown",
   "metadata": {
    "ein.tags": [
     "worksheet-0"
    ],
    "slideshow": {
     "slide_type": "subslide"
    }
   },
   "source": [
    "```python\n",
    "class TextModel:\n",
    "    def _tokenize(self, text):\n",
    "\t...\n",
    "        for q in self.token_list:\n",
    "            if isinstance(q, int):\n",
    "                if q < 0:\n",
    "                    if textlist is None:\n",
    "\t\t\t# n-words\n",
    "                        textlist = get_word_list(text)```\n"
   ]
  },
  {
   "cell_type": "markdown",
   "metadata": {
    "ein.tags": [
     "worksheet-0"
    ],
    "slideshow": {
     "slide_type": "subslide"
    }
   },
   "source": [
    "```python\n",
    "class TextModel:\n",
    "    def _tokenize(self, text):\n",
    "\t...\n",
    "        for q in self.token_list:\n",
    "            if isinstance(q, int):\n",
    "                if q < 0:\n",
    "\t\t    ...\n",
    "\t\t    # q-grams\n",
    "                    expand_qgrams_word_list(textlist, abs(q), L)\n",
    "                else:\n",
    "\t\t    # q-grams\n",
    "                    expand_qgrams(_text, q, L)```"
   ]
  },
  {
   "cell_type": "markdown",
   "metadata": {
    "ein.tags": [
     "worksheet-0"
    ],
    "slideshow": {
     "slide_type": "subslide"
    }
   },
   "source": [
    "```python\n",
    "class TextModel:\n",
    "    def _tokenize(self, text):\n",
    "\t...\n",
    "        for q in self.token_list:\n",
    "            if isinstance(q, int):\n",
    "\t\t...\n",
    "            else:\n",
    "                if textlist is None:\n",
    "                    textlist = get_word_list(text)\n",
    "\t\t# skip-grams\n",
    "                expand_skipgrams_word_list(textlist, q, L)\n",
    "```"
   ]
  },
  {
   "cell_type": "markdown",
   "metadata": {
    "ein.tags": [
     "worksheet-0"
    ],
    "slideshow": {
     "slide_type": "slide"
    }
   },
   "source": [
    "# Clasificador (classifier.py)\n",
    "\n",
    "* Máquina de soporte vectorial\n",
    "* Entrenada con vectores dispersos\n",
    "* Predicción\n",
    "* Función de decisión"
   ]
  },
  {
   "cell_type": "markdown",
   "metadata": {
    "ein.tags": [
     "worksheet-0"
    ],
    "slideshow": {
     "slide_type": "subslide"
    }
   },
   "source": [
    "```python\n",
    "class ClassifierWrapper(object):\n",
    "    def __init__(self, classifier=LinearSVC):\n",
    "        self.svc = classifier()\n",
    "        self.num_terms = -1```\n"
   ]
  },
  {
   "cell_type": "markdown",
   "metadata": {
    "ein.tags": [
     "worksheet-0"
    ],
    "slideshow": {
     "slide_type": "fragment"
    }
   },
   "source": [
    "```python\n",
    "    def fit(self, X, y):\n",
    "        X = corpus2csc(X).T\n",
    "        self.num_terms = X.shape[1]\n",
    "        self.svc.fit(X, y)\n",
    "        return self```"
   ]
  },
  {
   "cell_type": "markdown",
   "metadata": {
    "ein.tags": [
     "worksheet-0"
    ],
    "slideshow": {
     "slide_type": "fragment"
    }
   },
   "source": [
    "```python\n",
    "    def decision_function(self, Xnew):\n",
    "        Xnew = corpus2csc(Xnew, num_terms=self.num_terms).T\n",
    "        return self.svc.decision_function(Xnew)```\n"
   ]
  },
  {
   "cell_type": "markdown",
   "metadata": {
    "ein.tags": [
     "worksheet-0"
    ],
    "slideshow": {
     "slide_type": "fragment"
    }
   },
   "source": [
    "```python\n",
    "    def predict(self, Xnew):\n",
    "        Xnew = corpus2csc(Xnew, num_terms=self.num_terms).T\n",
    "        ynew = self.svc.predict(Xnew)\n",
    "        return ynew```\n"
   ]
  },
  {
   "cell_type": "markdown",
   "metadata": {
    "ein.tags": [
     "worksheet-0"
    ],
    "slideshow": {
     "slide_type": "slide"
    }
   },
   "source": [
    "# Optimización de parámetros\n",
    "\n",
    "* Búsqueda aleatoria en el espacio de parámetros\n",
    "* Hill climbing\n",
    "  1. Espacio de tokenizadores\n",
    "  2. Resto de parámetros\n",
    "![](fig-3.png)"
   ]
  },
  {
   "cell_type": "markdown",
   "metadata": {
    "ein.tags": [
     "worksheet-0"
    ],
    "slideshow": {
     "slide_type": "subslide"
    }
   },
   "source": [
    "# Parámetros (params.py)\n",
    "```python\n",
    "DefaultParams = dict(\n",
    "    num_option=Option(),\n",
    "    usr_option=Option(),\n",
    "    url_option=Option(),\n",
    "    emo_option=Option(),\n",
    "    lc=Boolean(),\n",
    "    del_dup=Boolean(),\n",
    "    del_punc=Boolean(),\n",
    "    del_diac=Boolean(),\n",
    "    token_list=PowersetVariable([(3, 1), (2, 2), (2, 1),\n",
    "\t\t\t\t -3, -2, -1, 1, 2, 3, 5, 7, 9], max_size=5),\n",
    "    token_min_filter=SetVariable([-1]),\n",
    "    token_max_filter=Fixed(1.0),\n",
    "    tfidf=Fixed(True))```"
   ]
  },
  {
   "cell_type": "markdown",
   "metadata": {
    "ein.tags": [
     "worksheet-0"
    ],
    "slideshow": {
     "slide_type": "subslide"
    }
   },
   "source": [
    "## Tipos de parámetros\n",
    "\n",
    "* Estáticos\n",
    "* Conjunto de variables\n",
    "* Conjunto potencia de variables"
   ]
  },
  {
   "cell_type": "markdown",
   "metadata": {
    "ein.tags": [
     "worksheet-0"
    ],
    "slideshow": {
     "slide_type": "subslide"
    }
   },
   "source": [
    "### Estáticos\n",
    "```python\n",
    "class Fixed:\n",
    "    def __init__(self, value):\n",
    "        self.value = value\n",
    "        self.valid_values = [value]\n",
    "\n",
    "    def neighborhood(self, v):\n",
    "        return []\n",
    "\n",
    "    def get_random(self):\n",
    "        return self.value```\n"
   ]
  },
  {
   "cell_type": "markdown",
   "metadata": {
    "ein.tags": [
     "worksheet-0"
    ],
    "slideshow": {
     "slide_type": "subslide"
    }
   },
   "source": [
    "### Conjunto de variables\n",
    "```python\n",
    "class SetVariable:\n",
    "    def __init__(self, values):\n",
    "        self.valid_values = list(values)\n",
    "\n",
    "    def neighborhood(self, value):\n",
    "        return [u for u in self.valid_values if u != value]\n",
    "\n",
    "    def get_random(self):\n",
    "        i = np.random.randint(len(self.valid_values))\n",
    "        return self.valid_values[i]```"
   ]
  },
  {
   "cell_type": "markdown",
   "metadata": {
    "ein.tags": [
     "worksheet-0"
    ],
    "slideshow": {
     "slide_type": "subslide"
    }
   },
   "source": [
    "### Conjunto potencia de variables\n",
    "```python\n",
    "from itertools import combinations\n",
    "class PowersetVariable:\n",
    "    def __init__(self, initial_set, max_size=None):\n",
    "        self.valid_values = []\n",
    "        if max_size is None:\n",
    "            max_size = len(initial_set) // 2 + 1\n",
    "        for i in range(1, len(initial_set)+1):\n",
    "            for l in combinations(initial_set, i):\n",
    "                if len(l) <= max_size:\n",
    "                    self.valid_values.append(l)\n",
    "\n",
    "    def neighborhood(self, value):\n",
    "        L = []\n",
    "        for v in value:\n",
    "            if isinstance(v, list):\n",
    "                v = tuple(v)\n",
    "            L.append(v)\n",
    "        return list(self.mismatches(set(L)))\n",
    "\n",
    "    def get_random(self):\n",
    "        i = np.random.randint(len(self.valid_values))\n",
    "        return self.valid_values[i]```"
   ]
  },
  {
   "cell_type": "markdown",
   "metadata": {
    "ein.tags": [
     "worksheet-0"
    ],
    "slideshow": {
     "slide_type": "subslide"
    }
   },
   "source": [
    "```python\n",
    "BASIC_OPTIONS = [OPTION_DELETE, OPTION_GROUP, OPTION_NONE]\n",
    "def Option():\n",
    "    return SetVariable(BASIC_OPTIONS)```"
   ]
  },
  {
   "cell_type": "markdown",
   "metadata": {
    "ein.tags": [
     "worksheet-0"
    ],
    "slideshow": {
     "slide_type": "fragment"
    }
   },
   "source": [
    "```python\n",
    "def Boolean():\n",
    "    return SetVariable([False, True])```"
   ]
  },
  {
   "cell_type": "markdown",
   "metadata": {
    "ein.tags": [
     "worksheet-0"
    ],
    "slideshow": {
     "slide_type": "subslide"
    }
   },
   "source": [
    "# Optimización de parámetros (params.py)\n",
    "\n",
    "```python\n",
    "class ParameterSelection:\n",
    "    def search(self, fun_score, bsize=32, hill_climbing=True,\n",
    "\t       pool=None, best_list=None):```\n"
   ]
  },
  {
   "cell_type": "markdown",
   "metadata": {
    "ein.tags": [
     "worksheet-0"
    ],
    "slideshow": {
     "slide_type": "fragment"
    }
   },
   "source": [
    "```python\n",
    "        # búsqueda aleatoria\n",
    "        tabu = set()  # memory for tabu search\n",
    "\n",
    "        if best_list is None:\n",
    "            L = []\n",
    "            for conf in self.sample_param_space(bsize):\n",
    "                code = get_filename(conf)\n",
    "                if code in tabu:\n",
    "                    continue\n",
    "\n",
    "                tabu.add(code)\n",
    "                L.append((conf, code))\n",
    "            \n",
    "            best_list = self.get_best(fun_score, L, pool=pool)\n",
    "        else:\n",
    "            for conf in best_list:\n",
    "                tabu.add(get_filename(conf))```"
   ]
  },
  {
   "cell_type": "markdown",
   "metadata": {
    "ein.tags": [
     "worksheet-0"
    ],
    "slideshow": {
     "slide_type": "fragment"
    }
   },
   "source": [
    "```python\n",
    "    def sample_param_space(self, n):\n",
    "        for i in range(n):\n",
    "            kwargs = {}\n",
    "            for k, v in self.params.items():\n",
    "                kwargs[k] = v.get_random()\n",
    "            yield kwargs```"
   ]
  },
  {
   "cell_type": "markdown",
   "metadata": {
    "ein.tags": [
     "worksheet-0"
    ],
    "slideshow": {
     "slide_type": "subslide"
    }
   },
   "source": [
    "## Hill Climbing\n",
    "```python\n",
    "    def search(self, fun_score, bsize=32,\n",
    "\t       hill_climbing=True, pool=None, best_list=None):\n",
    "\t...\n",
    "        if hill_climbing:\n",
    "            _hill_climbing(['token_list'], \"optimizing token_list\")\n",
    "\t    ...\n",
    "        ks = list(self.params.keys())\n",
    "        ks.remove('token_list')\n",
    "        ks.remove('token_min_filter')\n",
    "        ks.remove('token_max_filter')\n",
    "        _hill_climbing(ks, \"optimizing the rest of params\")\n",
    "        return best_list```"
   ]
  },
  {
   "cell_type": "markdown",
   "metadata": {
    "ein.tags": [
     "worksheet-0"
    ],
    "slideshow": {
     "slide_type": "subslide"
    }
   },
   "source": [
    "```python\n",
    "        def _hill_climbing(keywords, desc):\n",
    "            # second approximation, a hill climbing process\n",
    "            i = 0\n",
    "            while True:\n",
    "                i += 1\n",
    "                bscore = best_list[0]['_score']\n",
    "                L = []\n",
    "                for conf in self.expand_neighbors(best_list[0],\n",
    "\t\t\t\t\t\t  keywords=keywords):\n",
    "\t\t    code = get_filename(conf)\n",
    "                    if code in tabu:\n",
    "                        continue\n",
    "                    tabu.add(code)\n",
    "                    L.append((conf, code))\n",
    "                best_list.extend(self.get_best(fun_score, L,\n",
    "\t\t\t\t\t       desc=desc + \" {0}\".format(i), pool=pool))\n",
    "                best_list.sort(key=lambda x: x['_score'], reverse=True)\n",
    "                if bscore == best_list[0]['_score']:\n",
    "                    break```\n"
   ]
  },
  {
   "cell_type": "markdown",
   "metadata": {
    "ein.tags": [
     "worksheet-0"
    ],
    "slideshow": {
     "slide_type": "subslide"
    }
   },
   "source": [
    "```python\n",
    "    def expand_neighbors(self, s, keywords=None):\n",
    "\t...\n",
    "            vtype = self.params[k]\n",
    "            if isinstance(vtype, Fixed):\n",
    "                continue\n",
    "            for neighbor in vtype.neighborhood(v):\n",
    "                x = s.copy()\n",
    "                x[k] = neighbor\n",
    "                yield(x)```"
   ]
  },
  {
   "cell_type": "markdown",
   "metadata": {
    "ein.tags": [
     "worksheet-0"
    ],
    "slideshow": {
     "slide_type": "subslide"
    }
   },
   "source": [
    "## Función de aptitud (scorewrapper.py)\n",
    "```python\n",
    "class ScoreKFoldWrapper(ScoreSampleWrapper):\n",
    "    def __init__(self, X, y, Xstatic=[], ystatic=[],\n",
    "\t\t nfolds=5, score='macrof1',\n",
    "\t\t classifier=ClassifierWrapper, random_state=None):\n",
    "        self.nfolds = nfolds\n",
    "        self.score = score\n",
    "        self.X = np.array(X)\n",
    "        self.Xstatic = Xstatic\n",
    "        self.le = preprocessing.LabelEncoder().fit(y)\n",
    "        self.y = self.le.transform(y)\n",
    "        if len(ystatic) > 0:\n",
    "            self.ystatic = self.le.transform(ystatic)\n",
    "        else:\n",
    "            self.ystatic = []\n",
    "        self.test_y = self.y\n",
    "        self.create_classifier = classifier\n",
    "        self.kfolds = cross_validation.StratifiedKFold(y, n_folds=nfolds,\n",
    "\t\t\t\t\t\t       shuffle=True,\n",
    "\t\t\t\t\t\t       random_state=random_state)```\n"
   ]
  },
  {
   "cell_type": "markdown",
   "metadata": {
    "ein.tags": [
     "worksheet-0"
    ],
    "slideshow": {
     "slide_type": "subslide"
    }
   },
   "source": [
    "```python\n",
    "    def __call__(self, conf_code):\n",
    "        conf, code = conf_code\n",
    "        st = time()\n",
    "        predY = np.zeros(len(self.y))\n",
    "        for train, test in self.kfolds:\n",
    "            A = self.X[train]\n",
    "            if len(self.Xstatic) > 0:\n",
    "                A = np.hstack((A, self.Xstatic))\n",
    "            textmodel = TextModel(A, **conf)\n",
    "            # textmodel = TextModel([self.X[i] for i in train], **conf)\n",
    "            trainX = [textmodel[x] for x in A]\n",
    "            trainY = self.y[train]\n",
    "            if len(self.ystatic) > 0:\n",
    "                trainY = np.hstack((trainY, self.ystatic))\n",
    "            c = self.create_classifier()\n",
    "            c.fit(trainX, trainY)\n",
    "            testX = [textmodel[self.X[i]] for i in test]\n",
    "            predY[test] = c.predict(testX)\n",
    "        self.compute_score(conf, predY)\n",
    "        conf['_time'] = (time() - st) / self.nfolds\n",
    "        return conf```"
   ]
  },
  {
   "cell_type": "markdown",
   "metadata": {
    "ein.tags": [
     "worksheet-0"
    ],
    "slideshow": {
     "slide_type": "slide"
    }
   },
   "source": [
    "# Línea de comandos (command_line.py)\n",
    "\n",
    "* params\n",
    "* train\n",
    "* predict"
   ]
  },
  {
   "cell_type": "markdown",
   "metadata": {
    "ein.tags": [
     "worksheet-0"
    ],
    "slideshow": {
     "slide_type": "subslide"
    }
   },
   "source": [
    "# params\n",
    "```python  \n",
    "class CommandLine(object):\n",
    "    def main(self, args=None, params=None):\n",
    "\t...\n",
    "        sel = ParameterSelection(params=params)\n",
    "\n",
    "        X, y = [], []\n",
    "        Xstatic, ystatic = [], []\n",
    "        for train in self.data.training_set:\n",
    "            if train.startswith(\"static:\"):\n",
    "                X_, y_ = read_data_labels(train[7:])\n",
    "                Xstatic.extend(X_)\n",
    "                ystatic.extend(y_)\n",
    "            else:\n",
    "                X_, y_ = read_data_labels(train)\n",
    "                X.extend(X_)\n",
    "                y.extend(y_)\n",
    "\t...\n",
    "        if ratio > 1:\n",
    "            fun_score = ScoreKFoldWrapper(X, y, Xstatic=Xstatic,\n",
    "\t\t\t\t\t  ystatic=ystatic,\n",
    "\t\t\t\t\t  nfolds=int(ratio), score=self.data.score,\n",
    "\t\t\t\t\t  random_state=self.data.seed)\n",
    "\t...\n",
    "        best_list = sel.search(\n",
    "            fun_score,\n",
    "            bsize=self.data.samplesize,\n",
    "            hill_climbing=self.data.hill_climbing,\n",
    "            pool=pool,\n",
    "            best_list=best_list\n",
    "        )\n",
    "        with open(self.get_output(), 'w') as fpt:\n",
    "            fpt.write(json.dumps(best_list, indent=2, sort_keys=True))\n",
    "        return best_list```\n",
    "\t    "
   ]
  },
  {
   "cell_type": "markdown",
   "metadata": {
    "ein.tags": [
     "worksheet-0"
    ],
    "slideshow": {
     "slide_type": "subslide"
    }
   },
   "source": [
    "# train\n",
    "```python\n",
    "class CommandLineTrain(CommandLine):\n",
    "    def main(self, args=None):\n",
    "\t...\n",
    "        corpus, labels = [], []\n",
    "        for train in self.data.training_set:\n",
    "            X_, y_ = read_data_labels(train)\n",
    "            corpus.extend(X_)\n",
    "            labels.extend(y_)\n",
    "        best = param_list[0]\n",
    "        t = TextModel(corpus, **best)\n",
    "        le = LabelEncoder()\n",
    "        if self.data.labels:\n",
    "            le.fit(self.data.labels.split(','))\n",
    "        else:\n",
    "            le.fit(labels)\n",
    "        y = le.transform(labels)\n",
    "        c = ClassifierWrapper()\n",
    "        X = [t[x] for x in corpus]\n",
    "        c.fit(X, y)\n",
    "        with open(self.get_output(), 'wb') as fpt:\n",
    "            pickle.dump([t, c, le], fpt)\n",
    "        return [t, c, le]```\n"
   ]
  },
  {
   "cell_type": "markdown",
   "metadata": {
    "ein.tags": [
     "worksheet-0"
    ],
    "slideshow": {
     "slide_type": "subslide"
    }
   },
   "source": [
    "# predict\n",
    "```python\n",
    "class CommandLinePredict(CommandLine):\n",
    "    def main(self, args=None, model_svc_le=None):\n",
    "\t...\n",
    "        if model_svc_le is None:\n",
    "            with open(self.data.model, 'rb') as fpt:\n",
    "                model, svc, le = pickle.load(fpt)\n",
    "        else:\n",
    "            model, svc, le = model_svc_le\n",
    "        veclist, afflist = [], []\n",
    "        for x in read_data(self.data.test_set):\n",
    "            v, a = model.vectorize(x)\n",
    "            veclist.append(v)\n",
    "            afflist.append(a)\n",
    "        L = []\n",
    "        hy = svc.decision_function(veclist)\n",
    "        hyy = le.inverse_transform(svc.predict(veclist))\n",
    "        for tweet, scores, klass, aff in zip(tweet_iterator(self.data.test_set),\n",
    "\t\t\t\t\t     hy, hyy, afflist):\n",
    "            L.append(tweet)\n",
    "        with open(self.get_output(), 'w') as fpt:\n",
    "            for tweet in L:\n",
    "                fpt.write(json.dumps(tweet)+\"\\n\")\n",
    "        return L```"
   ]
  },
  {
   "cell_type": "markdown",
   "metadata": {
    "ein.tags": [
     "worksheet-0"
    ],
    "slideshow": {
     "slide_type": "slide"
    }
   },
   "source": [
    "# Ejemplos\n",
    "\n",
    "1. Cambiar clasificador\n",
    "2. Algoritmo de búsqueda\n",
    "3. Optimización multiobjetivo"
   ]
  },
  {
   "cell_type": "markdown",
   "metadata": {
    "ein.tags": [
     "worksheet-0"
    ],
    "slideshow": {
     "slide_type": "slide"
    }
   },
   "source": [
    "## Cambiar clasificador\n",
    "## params\n",
    "```python  \n",
    "class CommandLine(object):\n",
    "    def main(self, args=None, params=None):\n",
    "\t...\n",
    "        if ratio > 1:\n",
    "            fun_score = ScoreKFoldWrapper(X, y, Xstatic=Xstatic,\n",
    "\t\t\t\t\t  ystatic=ystatic,\n",
    "\t\t\t\t\t  classifier=NuevoClasificador,\n",
    "\t\t\t\t\t  nfolds=int(ratio), score=self.data.score,\n",
    "\t\t\t\t\t  random_state=self.data.seed)\n",
    "\t...```\n"
   ]
  },
  {
   "cell_type": "markdown",
   "metadata": {
    "ein.tags": [
     "worksheet-0"
    ],
    "slideshow": {
     "slide_type": "fragment"
    }
   },
   "source": [
    "## train\n",
    "```python\n",
    "class CommandLineTrain(CommandLine):\n",
    "    def main(self, args=None):\n",
    "\t...\n",
    "        c = NuevoClasificador()\n",
    "        X = [t[x] for x in corpus]\n",
    "        c.fit(X, y)\n",
    "        with open(self.get_output(), 'wb') as fpt:\n",
    "            pickle.dump([t, c, le], fpt)\n",
    "        return [t, c, le]```"
   ]
  },
  {
   "cell_type": "markdown",
   "metadata": {
    "ein.tags": [
     "worksheet-0"
    ],
    "slideshow": {
     "slide_type": "subslide"
    }
   },
   "source": [
    "## Clasificador\n",
    "```python\n",
    "class NuevoClasificador(object):\n",
    "    def __init__(self, classifier=LinearSVC):\n",
    "        self.num_terms = -1\n",
    "    \n",
    "    def fit(self, X, y):\n",
    "        X = corpus2csc(X).T\n",
    "        self.num_terms = X.shape[1]\n",
    "\t...\n",
    "        return self\n",
    "\n",
    "    def decision_function(self, Xnew):\n",
    "        Xnew = corpus2csc(Xnew, num_terms=self.num_terms).T\n",
    "\t...\n",
    "\n",
    "    def predict(self, Xnew):\n",
    "        Xnew = corpus2csc(Xnew, num_terms=self.num_terms).T\n",
    "\t...```\n"
   ]
  },
  {
   "cell_type": "markdown",
   "metadata": {
    "ein.tags": [
     "worksheet-0"
    ],
    "slideshow": {
     "slide_type": "slide"
    }
   },
   "source": [
    "## Algoritmo de búsqueda\n",
    "# params\n",
    "```python  \n",
    "class CommandLine(object):\n",
    "    def main(self, args=None, params=None):\n",
    "\t...\n",
    "        sel = NuevoAlgoritmoBusqueda(params=params)\n",
    "\t...\n",
    "        best_list = sel.search(\n",
    "            fun_score,\n",
    "            bsize=self.data.samplesize,\n",
    "            hill_climbing=self.data.hill_climbing,\n",
    "            pool=pool,\n",
    "            best_list=best_list\n",
    "        )\n",
    "        with open(self.get_output(), 'w') as fpt:\n",
    "            fpt.write(json.dumps(best_list, indent=2, sort_keys=True))\n",
    "        return best_list```\n",
    "\n"
   ]
  },
  {
   "cell_type": "markdown",
   "metadata": {
    "ein.tags": [
     "worksheet-0"
    ],
    "slideshow": {
     "slide_type": "fragment"
    }
   },
   "source": [
    "## Algoritmo de búsqueda\n",
    "\n",
    "```python\n",
    "class NuevoAlgoritmoBusqueda:\n",
    "    def search(self, fun_score, bsize=32, hill_climbing=True,\n",
    "\t       pool=None, best_list=None):```\n"
   ]
  },
  {
   "cell_type": "markdown",
   "metadata": {
    "ein.tags": [
     "worksheet-0"
    ],
    "slideshow": {
     "slide_type": "slide"
    }
   },
   "source": [
    "## Optimización multiobjetivo (params.py)\n",
    "\n",
    "```python\n",
    "        def _hill_climbing(keywords, desc):\n",
    "            # second approximation, a hill climbing process\n",
    "            i = 0\n",
    "            while True:\n",
    "                i += 1\n",
    "                bscore = best_list[0]['_score']\n",
    "                L = []\n",
    "\t\t## Aquí\n",
    "                for conf in self.expand_neighbors(best_list[0],\n",
    "\t\t\t\t\t\t  keywords=keywords):\n",
    "\t\t    code = get_filename(conf)\n",
    "                    if code in tabu:\n",
    "                        continue\n",
    "                    tabu.add(code)\n",
    "                    L.append((conf, code))\n",
    "\t\t##Aquí\n",
    "                best_list.extend(self.get_best(fun_score, L,\n",
    "\t\t\t\t\t       desc=desc + \" {0}\".format(i), pool=pool))\n",
    "                best_list.sort(key=lambda x: x['_score'], reverse=True)\n",
    "                if bscore == best_list[0]['_score']:\n",
    "                    break```"
   ]
  },
  {
   "cell_type": "markdown",
   "metadata": {
    "ein.tags": [
     "worksheet-0"
    ],
    "slideshow": {
     "slide_type": "subslide"
    }
   },
   "source": [
    "```python\n",
    "        # búsqueda aleatoria\n",
    "        tabu = set()  # memory for tabu search\n",
    "\n",
    "        if best_list is None:\n",
    "            L = []\n",
    "            for conf in self.sample_param_space(bsize):\n",
    "                code = get_filename(conf)\n",
    "                if code in tabu:\n",
    "                    continue\n",
    "\n",
    "                tabu.add(code)\n",
    "                L.append((conf, code))\n",
    "            ##Aquí\n",
    "            best_list = self.get_best(fun_score, L, pool=pool)\n",
    "        else:\n",
    "            for conf in best_list:\n",
    "                tabu.add(get_filename(conf))```"
   ]
  },
  {
   "cell_type": "markdown",
   "metadata": {
    "ein.tags": [
     "worksheet-0"
    ],
    "slideshow": {
     "slide_type": "slide"
    }
   },
   "source": [
    "# Preguntas"
   ]
  }
 ],
 "metadata": {
  "anaconda-cloud": {},
  "kernelspec": {
   "display_name": "Python [conda root]",
   "language": "python",
   "name": "conda-root-py"
  },
  "language_info": {
   "codemirror_mode": {
    "name": "ipython",
    "version": 3
   },
   "file_extension": ".py",
   "mimetype": "text/x-python",
   "name": "python",
   "nbconvert_exporter": "python",
   "pygments_lexer": "ipython3",
   "version": "3.5.2"
  },
  "name": "04_microTC.ipynb"
 },
 "nbformat": 4,
 "nbformat_minor": 1
}
