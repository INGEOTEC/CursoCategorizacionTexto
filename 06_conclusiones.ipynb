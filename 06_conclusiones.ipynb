{
 "cells": [
  {
   "cell_type": "markdown",
   "metadata": {
    "ein.tags": [
     "worksheet-0"
    ],
    "slideshow": {
     "slide_type": "slide"
    }
   },
   "source": [
    "# Aprendizaje computacional en grandes volúmenes de texto  \n",
    "\n",
    "## Mario Graff (mgraffg@ieee.org, mario.graff@infotec.mx)  \n",
    "## Sabino Miranda (sabino.miranda@infotec.mx)  \n",
    "## Daniela Moctezuma (dmoctezuma@centrogeo.edu.mx)  \n",
    "## Eric S. Tellez (eric.tellez@infotec.mx)  \n",
    "## CONACYT, INFOTEC y CentroGEO\n",
    "## [https://github.com/ingeotec](https://github.com/ingeotec)"
   ]
  },
  {
   "cell_type": "markdown",
   "metadata": {
    "ein.tags": [
     "worksheet-0"
    ],
    "slideshow": {
     "slide_type": "slide"
    }
   },
   "source": [
    "# Objetivo\n",
    "\n",
    "El alumno será capaz de crear modelos de texto multilenguaje aplicables a grandes volúmenes de información. Sobre estos modelos, el alumno será capaz de aplicar algoritmos de aprendizaje supervisado para diferentes dominios de aplicación, como por ejemplo, clasificadores de polaridad, determinar la autoría basado en el texto, determinar la temática de un texto, entre otras."
   ]
  },
  {
   "cell_type": "markdown",
   "metadata": {
    "ein.tags": [
     "worksheet-0"
    ],
    "slideshow": {
     "slide_type": "slide"
    }
   },
   "source": [
    "# Temas\n",
    "\n",
    "* Introducción  \n",
    "  * Motivación (análisis de sentimientos, detección de predadores, spam, género, edad, autoría en general, marketing, prestigio, etc)  \n",
    "  * Estado del arte (competencias)  \n",
    "  * Uso de herramientas: $\\mu$TC, Python, numpy, nltk, sklearn  \n"
   ]
  },
  {
   "cell_type": "markdown",
   "metadata": {
    "ein.tags": [
     "worksheet-0"
    ],
    "slideshow": {
     "slide_type": "subslide"
    }
   },
   "source": [
    "* Representación vectorial del texto  \n",
    "  * Normalización  \n",
    "  * Tokenización (n-words, q-grams, skip-grams)  \n",
    "  * Pesado de texto (TFIDF)  \n",
    "  * Medidas de similitud  "
   ]
  },
  {
   "cell_type": "markdown",
   "metadata": {
    "ein.tags": [
     "worksheet-0"
    ],
    "slideshow": {
     "slide_type": "subslide"
    }
   },
   "source": [
    "* Aprendizaje supervisado  \n",
    "  * Modelo general de aprendizaje; Entrenamiento, test, score (accuracy, recall, precision, f1)  \n",
    "  * Máquinas de soporte vectorial (SVM)  \n",
    "  * Programación genética (EvoDAG)  \n",
    "  * Distant supervision  "
   ]
  },
  {
   "cell_type": "markdown",
   "metadata": {
    "ein.tags": [
     "worksheet-0"
    ],
    "slideshow": {
     "slide_type": "subslide"
    }
   },
   "source": [
    "* $\\mu$TC  \n",
    "  * Pipeline de transformaciones  \n",
    "  * Optimización de parámetros  \n",
    "  * Clasificadores  \n",
    "  * Uso del $\\mu$TC  "
   ]
  },
  {
   "cell_type": "markdown",
   "metadata": {
    "ein.tags": [
     "worksheet-0"
    ],
    "slideshow": {
     "slide_type": "subslide"
    }
   },
   "source": [
    "* Aplicaciones  \n",
    "  * Análisis de sentimientos  \n",
    "  * Determinación de autoría  \n",
    "  * Clasificación de noticias  \n",
    "  * Spam  \n",
    "  * Género y edad  "
   ]
  },
  {
   "cell_type": "markdown",
   "metadata": {
    "ein.tags": [
     "worksheet-0"
    ],
    "slideshow": {
     "slide_type": "fragment"
    }
   },
   "source": [
    "* Conclusiones  \n"
   ]
  },
  {
   "cell_type": "markdown",
   "metadata": {
    "ein.tags": [
     "worksheet-0"
    ],
    "slideshow": {
     "slide_type": "slide"
    }
   },
   "source": [
    "# Análisis de Polaridad de Tuits GEO Referenciados\n",
    "\n",
    "* Análisis de la polaridad de tuits geo-referenciados\n",
    "* Recolectados desde 16 de diciembre del 2015 hasta 25 de noviembre de 2016\n",
    "* Todos los tuits están escritos en español y están geo-localizados.\n",
    "* Servicio Web de Análisis de Polaridad [(SWAP)](http://dev.ingeotec.mx/sentiment) \n",
    "\n"
   ]
  },
  {
   "cell_type": "markdown",
   "metadata": {
    "ein.tags": [
     "worksheet-0"
    ],
    "slideshow": {
     "slide_type": "slide"
    }
   },
   "source": [
    "## Metodología\n",
    "\n",
    "* Seleccionaron aquellos que indican que su país de origen es México (etiqueta MX)\n",
    "* Aproximadamente 37,198,787 tuits\n",
    "* Generados por 695,345 usuarios\n",
    "* Analizado por [SWAP](http://dev.ingeotec.mx/sentiment)\n",
    "* Valor es la _positividad_ del tuit.\n",
    "* Eliminar el sezgo que pueden introducir los usuarios más activos\n",
    "* Midiendo la positividad promedio por usuario, por día.\n",
    "* La positividad es la media el promedio de la positividad promedio de los usuarios por día.\n",
    "\n"
   ]
  },
  {
   "cell_type": "markdown",
   "metadata": {
    "ein.tags": [
     "worksheet-0"
    ],
    "slideshow": {
     "slide_type": "slide"
    }
   },
   "source": [
    "## Análisis de Positividad para México\n",
    "\n",
    "* El eje de abscisas se encuentran los diferentes días\n",
    "* En el eje de las ordenadas está el valor de positividad\n",
    "* El máximo valor es 1 y el mínimo valor es 0.\n",
    "* En las abscisas se muestran los 10 picos mas significativos así como el valle más pronunciado.\n",
    "* 24 y 25 de diciembre del 2015\n",
    "* 31 de diciembre y 1 de enero del 2016\n",
    "* 14 de febrero\n",
    "* 8 de marzo (día de la mujer)\n",
    "* 30 de abril\n",
    "* 10 de mayo\n",
    "* 15 de mayo\n",
    "* 19 de junio (día del padre)\n",
    "* 9 de noviembre de 2016 (elecciones presidenciales de Estados Unidos)"
   ]
  },
  {
   "cell_type": "code",
   "execution_count": null,
   "metadata": {
    "autoscroll": "json-false",
    "collapsed": false,
    "ein.tags": [
     "worksheet-0"
    ],
    "slideshow": {
     "slide_type": "-"
    }
   },
   "outputs": [],
   "source": [
    "%matplotlib inline\n",
    "import matplotlib.pyplot as plt\n",
    "import gzip\n",
    "import json\n",
    "import numpy as np\n",
    "def read_data(fname):\n",
    "    with gzip.open(fname) as fpt:\n",
    "        d = json.loads(str(fpt.read(), encoding='utf-8'))\n",
    "        return d"
   ]
  },
  {
   "cell_type": "code",
   "execution_count": null,
   "metadata": {
    "autoscroll": "json-false",
    "collapsed": false,
    "ein.tags": [
     "worksheet-0"
    ],
    "slideshow": {
     "slide_type": "subslide"
    }
   },
   "outputs": [],
   "source": [
    "%matplotlib inline\n",
    "plt.figure(figsize=(20, 10))\n",
    "mx_pos = read_data('spanish/polarity_by_country/MX.json.gz')\n",
    "ticks = [str(x[0])[2:] for x in mx_pos]\n",
    "mu = [x[1] for x in mx_pos]\n",
    "plt.plot(mu)\n",
    "index = np.argsort(mu)\n",
    "index = np.concatenate((index[:1], index[-10:]))\n",
    "_ = plt.xticks(index, [ticks[x] for x in index], rotation=90)\n",
    "plt.grid()"
   ]
  },
  {
   "cell_type": "markdown",
   "metadata": {
    "ein.tags": [
     "worksheet-0"
    ],
    "slideshow": {
     "slide_type": "subslide"
    }
   },
   "source": [
    "* Efecto oscilatorio cuyo periodo corresponde a los días de la semana.\n",
    "* _TGIF_ (_Thanks god, it's friday_).\n",
    "* Remover este fenómeno\n",
    "* Quitar la mediana por día\n"
   ]
  },
  {
   "cell_type": "code",
   "execution_count": null,
   "metadata": {
    "autoscroll": "json-false",
    "collapsed": false,
    "ein.tags": [
     "worksheet-0"
    ],
    "slideshow": {
     "slide_type": "-"
    }
   },
   "outputs": [],
   "source": [
    "def remove_median(pos):\n",
    "    median = np.array(mx_pos[: -int((len(pos) % 7))])[:, 1]\n",
    "    median.shape = (int(median.shape[0] / 7), 7)\n",
    "    median = np.median(median, axis=0)\n",
    "    median = np.concatenate((np.concatenate([median for x in range(int(len(pos) / median.shape[0]))], axis=0),\n",
    "                            median[:int(len(mx_pos) % 7)]), axis=0)\n",
    "    return [(x[0], x[1] - y) for x, y in zip(pos, median)]"
   ]
  },
  {
   "cell_type": "code",
   "execution_count": null,
   "metadata": {
    "autoscroll": "json-false",
    "collapsed": false,
    "ein.tags": [
     "worksheet-0"
    ],
    "slideshow": {
     "slide_type": "subslide"
    }
   },
   "outputs": [],
   "source": [
    "plt.figure(figsize=(20, 10))\n",
    "nmx_pos = remove_median(mx_pos)\n",
    "mu = np.array([x[1] for x in nmx_pos])\n",
    "plt.plot(mu)\n",
    "index = np.argsort(mu)\n",
    "index = np.concatenate((index[:1], index[-10:]))\n",
    "_ = plt.xticks(index, [ticks[x] for x in index], rotation=90)\n",
    "plt.grid()"
   ]
  },
  {
   "cell_type": "code",
   "execution_count": null,
   "metadata": {
    "autoscroll": "json-false",
    "collapsed": false,
    "ein.tags": [
     "worksheet-0"
    ],
    "slideshow": {
     "slide_type": "subslide"
    }
   },
   "outputs": [],
   "source": [
    "plt.figure(figsize=(20, 20))\n",
    "for k, D in enumerate([mx_pos, remove_median(mx_pos)]):\n",
    "    ticks = [str(x[0])[2:] for x in D]\n",
    "    mu = [x[1] for x in D]\n",
    "    plt.subplot(4, 1, k+1)\n",
    "    plt.plot(mu)\n",
    "    index = np.argsort(mu)\n",
    "    index = np.concatenate((index[:1], index[-10:]))\n",
    "    _ = plt.xticks(index, [ticks[x] for x in index], rotation=45)\n",
    "    plt.grid()"
   ]
  },
  {
   "cell_type": "markdown",
   "metadata": {
    "ein.tags": [
     "worksheet-0"
    ],
    "slideshow": {
     "slide_type": "slide"
    }
   },
   "source": [
    "## Análisis de polaridad en Estados Unidos, Argentina, México y España\n",
    "\n",
    "\n",
    "* Estados Unidos\n",
    "* México\n",
    "* Argentina\n",
    "* España.\n",
    "* 19 de marzo\n",
    "* 19 de junio es importante para todas las naciones excepto España\n",
    "* 20 de julio que se celebra el _día del amigo_ en Argentina. \n",
    "\n"
   ]
  },
  {
   "cell_type": "code",
   "execution_count": null,
   "metadata": {
    "autoscroll": "json-false",
    "collapsed": false,
    "ein.tags": [
     "worksheet-0"
    ],
    "slideshow": {
     "slide_type": "subslide"
    }
   },
   "outputs": [],
   "source": [
    "pos = [read_data('spanish/polarity_by_country/%s.json.gz' % x) for x in ['US', 'AR', 'ES']]\n",
    "us_pos, ar_pos, es_pos = pos\n",
    "plt.figure(figsize=(20, 10))\n",
    "for code, D, k in zip(['US', 'MX', 'AR', 'ES'], [us_pos, mx_pos, ar_pos, es_pos],\n",
    "                     range(4)):\n",
    "    D = remove_median(D)\n",
    "    ticks = [str(x[0])[2:] for x in D]\n",
    "    mu = [x[1] for x in D]\n",
    "    plt.subplot(4, 1, k+1)\n",
    "    plt.plot(mu)\n",
    "    plt.title(code)\n",
    "    index = np.argsort(mu)\n",
    "    index = np.concatenate((index[:1], index[-10:]))\n",
    "    _ = plt.xticks(index, [ticks[x] for x in index], rotation=45)\n",
    "    plt.grid()\n",
    "    plt.ylim(-0.20, 0.20)"
   ]
  },
  {
   "cell_type": "markdown",
   "metadata": {
    "ein.tags": [
     "worksheet-0"
    ],
    "slideshow": {
     "slide_type": "slide"
    }
   },
   "source": [
    "# Análisis Descriptivo de los Tweets en Español\n",
    "A partir de los tweets almacenados se presentan algunas estadísticas básicas que describen algunas características interesantes de los datos como la cantidad de usuarios por país y la movilidad de los usuarios."
   ]
  },
  {
   "cell_type": "markdown",
   "metadata": {
    "ein.tags": [
     "worksheet-0"
    ],
    "slideshow": {
     "slide_type": "subslide"
    }
   },
   "source": [
    "## Cantidad de usuarios por país\n",
    "\n",
    "\n",
    "La siguiente figura muestra los usuarios por país, se puede observar que Estados Unidos es el que cuenta con un mayor número de usuarios, seguido por Argentina y en tercer lugar México. Ademas sorpresivamente Brasil es el cuarto y en quinto lugar se encuentra España."
   ]
  },
  {
   "cell_type": "code",
   "execution_count": null,
   "metadata": {
    "autoscroll": "json-false",
    "collapsed": false,
    "ein.tags": [
     "worksheet-0"
    ],
    "slideshow": {
     "slide_type": "subslide"
    }
   },
   "outputs": [],
   "source": [
    "%matplotlib inline\n",
    "from glob import glob\n",
    "from multiprocessing import Pool\n",
    "from tqdm import tqdm\n",
    "from collections import Counter\n",
    "def number_users(fname):\n",
    "    return fname, len(read_data(fname))\n",
    "\n",
    "fnames = [i for i in glob('spanish/users_by_country/*.json.gz') if len(i.split('.')[0].split('/')[1]) == 2]\n",
    "p = Pool(8)\n",
    "res = [x for x in p.imap_unordered(number_users, fnames)]\n",
    "p.close()\n",
    "\n",
    "country_code = Counter()\n",
    "for name, value in res:\n",
    "    code = name.split('.')[0].split('/')[1]\n",
    "    country_code[code] = value\n",
    "mc = country_code.most_common()\n",
    "size = 19\n",
    "first = mc[:size]\n",
    "extra = ('REST', sum([x[1] for x in mc[size:]]))\n",
    "first.append(extra)\n",
    "plt.figure(figsize=(10, 10))\n",
    "_ = plt.pie([x[1] for x in first], labels=[x[0] for x in first])"
   ]
  },
  {
   "cell_type": "markdown",
   "metadata": {
    "ein.tags": [
     "worksheet-0"
    ],
    "slideshow": {
     "slide_type": "subslide"
    }
   },
   "source": [
    "## Movilidad de los Tuiteros (de habla hispana)\n",
    "\n",
    "La siguiente figura muestra cuáles son los países que visitan más frecuentemente usuarios de un país en particular. Por ejemplo, la mayoría de los usuarios de Estados Unidos que viajan a otro país viajan a México, en segundo lugar a Puerto Rico y así sucesivamente; los usuarios de Argentina viajan a Brasil en primer lugar; \n",
    "los de México viajan a Estados Unidos; y los de España también viajan a Estados Unidos. "
   ]
  },
  {
   "cell_type": "code",
   "execution_count": null,
   "metadata": {
    "autoscroll": "json-false",
    "collapsed": false,
    "ein.tags": [
     "worksheet-0"
    ],
    "slideshow": {
     "slide_type": "-"
    }
   },
   "outputs": [],
   "source": [
    "def migration(country_code='MX'):\n",
    "    fname = 'spanish/users_by_country/%s.json.gz' % country_code\n",
    "    d = read_data(fname)\n",
    "    other = Counter()\n",
    "    for x in d.values():\n",
    "        if len(x) == 1:\n",
    "            continue\n",
    "        c = Counter(x)\n",
    "        for xx in c.most_common()[1:]:\n",
    "            if xx[0] == country_code:\n",
    "                continue\n",
    "            other[xx[0]] += 1\n",
    "    return other"
   ]
  },
  {
   "cell_type": "code",
   "execution_count": null,
   "metadata": {
    "autoscroll": "json-false",
    "collapsed": false,
    "ein.tags": [
     "worksheet-0"
    ],
    "slideshow": {
     "slide_type": "subslide"
    }
   },
   "outputs": [],
   "source": [
    "plt.figure(figsize=(10, 10))\n",
    "for k, c in enumerate(['US', 'AR', 'MX', 'ES']):\n",
    "    other = migration(c)\n",
    "    mc = other.most_common()\n",
    "    first = mc[:size]\n",
    "    extra = ('REST', sum([x[1] for x in mc[size:]]))\n",
    "    first.append(extra)\n",
    "    plt.subplot(2, 2, k+1)\n",
    "    _ = plt.pie([x[1] for x in first], labels=[x[0] for x in first])\n",
    "    plt.title(c)"
   ]
  },
  {
   "cell_type": "markdown",
   "metadata": {
    "ein.tags": [
     "worksheet-0"
    ],
    "slideshow": {
     "slide_type": "subslide"
    }
   },
   "source": [
    "# Agradecimientos\n",
    "\n",
    "Las ideas presentadas en este documento fueron inspiradas por la colaboración con INEGI (Gerardo, Alfredo, Juan, Silvia y Abel). Se agradece a Johannes y Andy, quienes sugirieron realizar el análisis por usuario para remover el sezgo entre usuarios."
   ]
  },
  {
   "cell_type": "markdown",
   "metadata": {
    "ein.tags": [
     "worksheet-0"
    ],
    "slideshow": {
     "slide_type": "slide"
    }
   },
   "source": [
    "# ¿Preguntas?"
   ]
  }
 ],
 "metadata": {
  "anaconda-cloud": {},
  "celltoolbar": "Slideshow",
  "kernelspec": {
   "display_name": "Python [Root]",
   "language": "python",
   "name": "Python [Root]"
  },
  "language_info": {
   "codemirror_mode": {
    "name": "ipython",
    "version": 3
   },
   "file_extension": ".py",
   "mimetype": "text/x-python",
   "name": "python",
   "nbconvert_exporter": "python",
   "pygments_lexer": "ipython3",
   "version": "3.5.2"
  },
  "name": "06_conclusiones.ipynb"
 },
 "nbformat": 4,
 "nbformat_minor": 0
}
